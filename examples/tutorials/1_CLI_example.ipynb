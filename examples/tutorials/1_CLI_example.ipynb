{
 "cells": [
  {
   "cell_type": "code",
   "execution_count": 27,
   "id": "9be8eb2f-f792-4a54-a10d-8a5706e34d59",
   "metadata": {
    "ExecuteTime": {
     "end_time": "2023-09-21T13:56:28.567458Z",
     "start_time": "2023-09-21T13:56:28.351132Z"
    }
   },
   "outputs": [
    {
     "name": "stdout",
     "output_type": "stream",
     "text": [
      "The autoreload extension is already loaded. To reload it, use:\n",
      "  %reload_ext autoreload\n"
     ]
    }
   ],
   "source": [
    "%load_ext autoreload\n",
    "%autoreload 2\n",
    "%reload_ext autoreload\n",
    "from edbo.plus.optimizer_botorch import EDBOplus"
   ]
  },
  {
   "cell_type": "markdown",
   "id": "f0ff930a-aa80-4848-91a0-621c4b96bb8a",
   "metadata": {},
   "source": [
    "#### This is a tutorial that covers the basics for running EDBO+: from designing a combinatorial space to running the Bayesian Optimizer."
   ]
  },
  {
   "cell_type": "markdown",
   "id": "a01dc181-474e-4e74-9347-962ab3156f79",
   "metadata": {
    "tags": []
   },
   "source": [
    "## 1. Creating a search scope using EDBO+."
   ]
  },
  {
   "cell_type": "markdown",
   "id": "a8e484fc-1cae-4f44-9127-3961b4a7ddb9",
   "metadata": {},
   "source": [
    "##### To run EDBO+ we need to first create a reaction scope (search space) in a .csv format with all the possible combinations that you want to consider for our optimization. \n",
    "##### You can \"manually\" create a reaction scope using any spreadsheet editor (such as Excel, Libreoffice Calc, ...) but we have also created a tool to help you generating combinatorial search spaces. \n",
    "##### For instance, lets say that we want to consider 3 solvents ($\\bf{THF}$, $\\bf{Toluene}$, $\\bf{DMSO}$), 4 temperatures ($\\bf{-10}$, $\\bf{0}$, $\\bf{10}$, $\\bf{25}$) and 3 concentration levels ($\\bf{0.1}$, $\\bf{0.2}$, $\\bf{1.0}$). We can introduce these in the EDBO+ scope generator in a dictionary form as follows:"
   ]
  },
  {
   "cell_type": "code",
   "execution_count": 28,
   "id": "322dda36-9760-48ad-b450-cdd4791228b1",
   "metadata": {
    "ExecuteTime": {
     "end_time": "2023-09-21T13:56:28.681369Z",
     "start_time": "2023-09-21T13:56:28.567671Z"
    }
   },
   "outputs": [],
   "source": [
    "reaction_components = {\n",
    "    'solvent': ['THF', 'Toluene', 'DMSO'],\n",
    "    'T': [-10, 0, 10, 25],\n",
    "    'concentration': [0.1, 0.2, 1.0]\n",
    "}"
   ]
  },
  {
   "cell_type": "markdown",
   "id": "a1f422a4-8daf-4310-9673-f7e37a01322f",
   "metadata": {},
   "source": [
    "##### Now we need to pass the previous dictionary to the $\\bf{generate\\_reaction\\_scope}$ tool in the EDBOplus class."
   ]
  },
  {
   "cell_type": "code",
   "execution_count": 29,
   "id": "76330307-b63a-4b57-9bab-9fbf9a5d1bfe",
   "metadata": {
    "tags": [],
    "ExecuteTime": {
     "end_time": "2023-09-21T13:56:28.788280Z",
     "start_time": "2023-09-21T13:56:28.681889Z"
    }
   },
   "outputs": [
    {
     "name": "stdout",
     "output_type": "stream",
     "text": [
      "Generating reaction scope...\n"
     ]
    },
    {
     "data": {
      "text/plain": "    solvent   T  concentration\n0       THF -10            0.1\n1       THF -10            0.2\n2       THF -10            1.0\n3       THF   0            0.1\n4       THF   0            0.2\n5       THF   0            1.0\n6       THF  10            0.1\n7       THF  10            0.2\n8       THF  10            1.0\n9       THF  25            0.1\n10      THF  25            0.2\n11      THF  25            1.0\n12  Toluene -10            0.1\n13  Toluene -10            0.2\n14  Toluene -10            1.0\n15  Toluene   0            0.1\n16  Toluene   0            0.2\n17  Toluene   0            1.0\n18  Toluene  10            0.1\n19  Toluene  10            0.2\n20  Toluene  10            1.0\n21  Toluene  25            0.1\n22  Toluene  25            0.2\n23  Toluene  25            1.0\n24     DMSO -10            0.1\n25     DMSO -10            0.2\n26     DMSO -10            1.0\n27     DMSO   0            0.1\n28     DMSO   0            0.2\n29     DMSO   0            1.0\n30     DMSO  10            0.1\n31     DMSO  10            0.2\n32     DMSO  10            1.0\n33     DMSO  25            0.1\n34     DMSO  25            0.2\n35     DMSO  25            1.0",
      "text/html": "<div>\n<style scoped>\n    .dataframe tbody tr th:only-of-type {\n        vertical-align: middle;\n    }\n\n    .dataframe tbody tr th {\n        vertical-align: top;\n    }\n\n    .dataframe thead th {\n        text-align: right;\n    }\n</style>\n<table border=\"1\" class=\"dataframe\">\n  <thead>\n    <tr style=\"text-align: right;\">\n      <th></th>\n      <th>solvent</th>\n      <th>T</th>\n      <th>concentration</th>\n    </tr>\n  </thead>\n  <tbody>\n    <tr>\n      <th>0</th>\n      <td>THF</td>\n      <td>-10</td>\n      <td>0.1</td>\n    </tr>\n    <tr>\n      <th>1</th>\n      <td>THF</td>\n      <td>-10</td>\n      <td>0.2</td>\n    </tr>\n    <tr>\n      <th>2</th>\n      <td>THF</td>\n      <td>-10</td>\n      <td>1.0</td>\n    </tr>\n    <tr>\n      <th>3</th>\n      <td>THF</td>\n      <td>0</td>\n      <td>0.1</td>\n    </tr>\n    <tr>\n      <th>4</th>\n      <td>THF</td>\n      <td>0</td>\n      <td>0.2</td>\n    </tr>\n    <tr>\n      <th>5</th>\n      <td>THF</td>\n      <td>0</td>\n      <td>1.0</td>\n    </tr>\n    <tr>\n      <th>6</th>\n      <td>THF</td>\n      <td>10</td>\n      <td>0.1</td>\n    </tr>\n    <tr>\n      <th>7</th>\n      <td>THF</td>\n      <td>10</td>\n      <td>0.2</td>\n    </tr>\n    <tr>\n      <th>8</th>\n      <td>THF</td>\n      <td>10</td>\n      <td>1.0</td>\n    </tr>\n    <tr>\n      <th>9</th>\n      <td>THF</td>\n      <td>25</td>\n      <td>0.1</td>\n    </tr>\n    <tr>\n      <th>10</th>\n      <td>THF</td>\n      <td>25</td>\n      <td>0.2</td>\n    </tr>\n    <tr>\n      <th>11</th>\n      <td>THF</td>\n      <td>25</td>\n      <td>1.0</td>\n    </tr>\n    <tr>\n      <th>12</th>\n      <td>Toluene</td>\n      <td>-10</td>\n      <td>0.1</td>\n    </tr>\n    <tr>\n      <th>13</th>\n      <td>Toluene</td>\n      <td>-10</td>\n      <td>0.2</td>\n    </tr>\n    <tr>\n      <th>14</th>\n      <td>Toluene</td>\n      <td>-10</td>\n      <td>1.0</td>\n    </tr>\n    <tr>\n      <th>15</th>\n      <td>Toluene</td>\n      <td>0</td>\n      <td>0.1</td>\n    </tr>\n    <tr>\n      <th>16</th>\n      <td>Toluene</td>\n      <td>0</td>\n      <td>0.2</td>\n    </tr>\n    <tr>\n      <th>17</th>\n      <td>Toluene</td>\n      <td>0</td>\n      <td>1.0</td>\n    </tr>\n    <tr>\n      <th>18</th>\n      <td>Toluene</td>\n      <td>10</td>\n      <td>0.1</td>\n    </tr>\n    <tr>\n      <th>19</th>\n      <td>Toluene</td>\n      <td>10</td>\n      <td>0.2</td>\n    </tr>\n    <tr>\n      <th>20</th>\n      <td>Toluene</td>\n      <td>10</td>\n      <td>1.0</td>\n    </tr>\n    <tr>\n      <th>21</th>\n      <td>Toluene</td>\n      <td>25</td>\n      <td>0.1</td>\n    </tr>\n    <tr>\n      <th>22</th>\n      <td>Toluene</td>\n      <td>25</td>\n      <td>0.2</td>\n    </tr>\n    <tr>\n      <th>23</th>\n      <td>Toluene</td>\n      <td>25</td>\n      <td>1.0</td>\n    </tr>\n    <tr>\n      <th>24</th>\n      <td>DMSO</td>\n      <td>-10</td>\n      <td>0.1</td>\n    </tr>\n    <tr>\n      <th>25</th>\n      <td>DMSO</td>\n      <td>-10</td>\n      <td>0.2</td>\n    </tr>\n    <tr>\n      <th>26</th>\n      <td>DMSO</td>\n      <td>-10</td>\n      <td>1.0</td>\n    </tr>\n    <tr>\n      <th>27</th>\n      <td>DMSO</td>\n      <td>0</td>\n      <td>0.1</td>\n    </tr>\n    <tr>\n      <th>28</th>\n      <td>DMSO</td>\n      <td>0</td>\n      <td>0.2</td>\n    </tr>\n    <tr>\n      <th>29</th>\n      <td>DMSO</td>\n      <td>0</td>\n      <td>1.0</td>\n    </tr>\n    <tr>\n      <th>30</th>\n      <td>DMSO</td>\n      <td>10</td>\n      <td>0.1</td>\n    </tr>\n    <tr>\n      <th>31</th>\n      <td>DMSO</td>\n      <td>10</td>\n      <td>0.2</td>\n    </tr>\n    <tr>\n      <th>32</th>\n      <td>DMSO</td>\n      <td>10</td>\n      <td>1.0</td>\n    </tr>\n    <tr>\n      <th>33</th>\n      <td>DMSO</td>\n      <td>25</td>\n      <td>0.1</td>\n    </tr>\n    <tr>\n      <th>34</th>\n      <td>DMSO</td>\n      <td>25</td>\n      <td>0.2</td>\n    </tr>\n    <tr>\n      <th>35</th>\n      <td>DMSO</td>\n      <td>25</td>\n      <td>1.0</td>\n    </tr>\n  </tbody>\n</table>\n</div>"
     },
     "execution_count": 29,
     "metadata": {},
     "output_type": "execute_result"
    }
   ],
   "source": [
    "EDBOplus().generate_reaction_scope(\n",
    "    components=reaction_components, \n",
    "    filename='my_optimization.csv',\n",
    "    check_overwrite=False\n",
    ")"
   ]
  },
  {
   "cell_type": "markdown",
   "id": "0420c7e5-fde7-4257-b6c0-84dbcdb0e839",
   "metadata": {
    "tags": []
   },
   "source": [
    "##### We can always load/read the previously generated reaction scope using any spreadsheet editor but in this case we will use Pandas for that:"
   ]
  },
  {
   "cell_type": "code",
   "execution_count": 30,
   "id": "8620d3f4-453a-418a-9c87-80971f04de8e",
   "metadata": {
    "ExecuteTime": {
     "end_time": "2023-09-21T13:56:28.888373Z",
     "start_time": "2023-09-21T13:56:28.788091Z"
    }
   },
   "outputs": [],
   "source": [
    "import pandas as pd\n",
    "df_scope = pd.read_csv('my_optimization.csv')  # Load csv file."
   ]
  },
  {
   "cell_type": "markdown",
   "id": "88ce551f-a066-460d-b208-149f063746a5",
   "metadata": {
    "tags": []
   },
   "source": [
    "##### Now we can check the number of combinations in the reaction scope:"
   ]
  },
  {
   "cell_type": "code",
   "execution_count": 31,
   "id": "1ccc63b1-435d-40b4-8cd9-228a8c735416",
   "metadata": {
    "ExecuteTime": {
     "end_time": "2023-09-21T13:56:28.988981Z",
     "start_time": "2023-09-21T13:56:28.888901Z"
    }
   },
   "outputs": [
    {
     "name": "stdout",
     "output_type": "stream",
     "text": [
      "Your reaction scope has 36 combinations.\n"
     ]
    }
   ],
   "source": [
    "n_combinations = len(df_scope)\n",
    "print(f\"Your reaction scope has {n_combinations} combinations.\")"
   ]
  },
  {
   "cell_type": "markdown",
   "id": "d3398eaa-a9ca-40ab-a143-89be7908c487",
   "metadata": {},
   "source": [
    "##### Of course, this is a very small reaction scope  as it is meant to be a toy model to demonstrate how EDBO+ works."
   ]
  },
  {
   "cell_type": "markdown",
   "id": "2bed9b2e-1e50-49d1-901e-bb311c430b23",
   "metadata": {},
   "source": [
    "## 2. First steps, initializing EDBO+ (in absence of training data)."
   ]
  },
  {
   "cell_type": "markdown",
   "id": "3603c2ca-4b77-4038-9ee2-f405acd87790",
   "metadata": {},
   "source": [
    "##### We are going to execute EDBO+ to suggest some initial samples. \n",
    "##### Since we have not collected any experimental data (observations) yet, EDBO+ will suggest a set of initial experiments based on an feature space sampling method, in this case the CVT sampling method (see:http://kmh-lanl.hansonhub.com/uncertainty/meetings/gunz03vgr.pdf).\n",
    "##### In this example the $\\bf{objective}$ is to maximize the reaction $\\bf{yield}$ and $\\bf{enantioselectivity}$ but at the same time we want to minimize the amount one of a given $\\bf{side~product}$ in this reaction. We also need to introduce the name of the csv file containing our reaction scope (in our case this was $\\bf{my\\_optimization.csv}$). Now we can execute the algorithm using the $\\bf{run}$ command in EDBOplus:"
   ]
  },
  {
   "cell_type": "code",
   "execution_count": 32,
   "id": "553752b1-9870-408f-953a-bebd960da937",
   "metadata": {
    "ExecuteTime": {
     "end_time": "2023-09-21T13:56:29.186594Z",
     "start_time": "2023-09-21T13:56:28.988317Z"
    }
   },
   "outputs": [
    {
     "name": "stdout",
     "output_type": "stream",
     "text": [
      "The following columns are categorical and will be encoded using One-Hot-Encoding: ['solvent']\n",
      "Sampling type:  selection \n",
      "\n",
      "No column information provided. All except last column will be considered as x variables.\n",
      "\n",
      "Number of unique samples returned by sampling algorithm: 3\n",
      "Creating a priority list using random sampling: cvtsampling\n"
     ]
    },
    {
     "data": {
      "text/plain": "    solvent   T  concentration    yield       ee side_product  priority\n32     DMSO  10            1.0  PENDING  PENDING      PENDING         1\n8       THF  10            1.0  PENDING  PENDING      PENDING         1\n19  Toluene  10            0.2  PENDING  PENDING      PENDING         1\n0       THF -10            0.1  PENDING  PENDING      PENDING         0\n26     DMSO -10            1.0  PENDING  PENDING      PENDING         0\n21  Toluene  25            0.1  PENDING  PENDING      PENDING         0\n22  Toluene  25            0.2  PENDING  PENDING      PENDING         0\n23  Toluene  25            1.0  PENDING  PENDING      PENDING         0\n24     DMSO -10            0.1  PENDING  PENDING      PENDING         0\n25     DMSO -10            0.2  PENDING  PENDING      PENDING         0\n28     DMSO   0            0.2  PENDING  PENDING      PENDING         0\n27     DMSO   0            0.1  PENDING  PENDING      PENDING         0\n29     DMSO   0            1.0  PENDING  PENDING      PENDING         0\n30     DMSO  10            0.1  PENDING  PENDING      PENDING         0\n31     DMSO  10            0.2  PENDING  PENDING      PENDING         0\n33     DMSO  25            0.1  PENDING  PENDING      PENDING         0\n34     DMSO  25            0.2  PENDING  PENDING      PENDING         0\n20  Toluene  10            1.0  PENDING  PENDING      PENDING         0\n18  Toluene  10            0.1  PENDING  PENDING      PENDING         0\n1       THF -10            0.2  PENDING  PENDING      PENDING         0\n9       THF  25            0.1  PENDING  PENDING      PENDING         0\n2       THF -10            1.0  PENDING  PENDING      PENDING         0\n3       THF   0            0.1  PENDING  PENDING      PENDING         0\n4       THF   0            0.2  PENDING  PENDING      PENDING         0\n5       THF   0            1.0  PENDING  PENDING      PENDING         0\n6       THF  10            0.1  PENDING  PENDING      PENDING         0\n7       THF  10            0.2  PENDING  PENDING      PENDING         0\n10      THF  25            0.2  PENDING  PENDING      PENDING         0\n17  Toluene   0            1.0  PENDING  PENDING      PENDING         0\n11      THF  25            1.0  PENDING  PENDING      PENDING         0\n12  Toluene -10            0.1  PENDING  PENDING      PENDING         0\n13  Toluene -10            0.2  PENDING  PENDING      PENDING         0\n14  Toluene -10            1.0  PENDING  PENDING      PENDING         0\n15  Toluene   0            0.1  PENDING  PENDING      PENDING         0\n16  Toluene   0            0.2  PENDING  PENDING      PENDING         0\n35     DMSO  25            1.0  PENDING  PENDING      PENDING         0",
      "text/html": "<div>\n<style scoped>\n    .dataframe tbody tr th:only-of-type {\n        vertical-align: middle;\n    }\n\n    .dataframe tbody tr th {\n        vertical-align: top;\n    }\n\n    .dataframe thead th {\n        text-align: right;\n    }\n</style>\n<table border=\"1\" class=\"dataframe\">\n  <thead>\n    <tr style=\"text-align: right;\">\n      <th></th>\n      <th>solvent</th>\n      <th>T</th>\n      <th>concentration</th>\n      <th>yield</th>\n      <th>ee</th>\n      <th>side_product</th>\n      <th>priority</th>\n    </tr>\n  </thead>\n  <tbody>\n    <tr>\n      <th>32</th>\n      <td>DMSO</td>\n      <td>10</td>\n      <td>1.0</td>\n      <td>PENDING</td>\n      <td>PENDING</td>\n      <td>PENDING</td>\n      <td>1</td>\n    </tr>\n    <tr>\n      <th>8</th>\n      <td>THF</td>\n      <td>10</td>\n      <td>1.0</td>\n      <td>PENDING</td>\n      <td>PENDING</td>\n      <td>PENDING</td>\n      <td>1</td>\n    </tr>\n    <tr>\n      <th>19</th>\n      <td>Toluene</td>\n      <td>10</td>\n      <td>0.2</td>\n      <td>PENDING</td>\n      <td>PENDING</td>\n      <td>PENDING</td>\n      <td>1</td>\n    </tr>\n    <tr>\n      <th>0</th>\n      <td>THF</td>\n      <td>-10</td>\n      <td>0.1</td>\n      <td>PENDING</td>\n      <td>PENDING</td>\n      <td>PENDING</td>\n      <td>0</td>\n    </tr>\n    <tr>\n      <th>26</th>\n      <td>DMSO</td>\n      <td>-10</td>\n      <td>1.0</td>\n      <td>PENDING</td>\n      <td>PENDING</td>\n      <td>PENDING</td>\n      <td>0</td>\n    </tr>\n    <tr>\n      <th>21</th>\n      <td>Toluene</td>\n      <td>25</td>\n      <td>0.1</td>\n      <td>PENDING</td>\n      <td>PENDING</td>\n      <td>PENDING</td>\n      <td>0</td>\n    </tr>\n    <tr>\n      <th>22</th>\n      <td>Toluene</td>\n      <td>25</td>\n      <td>0.2</td>\n      <td>PENDING</td>\n      <td>PENDING</td>\n      <td>PENDING</td>\n      <td>0</td>\n    </tr>\n    <tr>\n      <th>23</th>\n      <td>Toluene</td>\n      <td>25</td>\n      <td>1.0</td>\n      <td>PENDING</td>\n      <td>PENDING</td>\n      <td>PENDING</td>\n      <td>0</td>\n    </tr>\n    <tr>\n      <th>24</th>\n      <td>DMSO</td>\n      <td>-10</td>\n      <td>0.1</td>\n      <td>PENDING</td>\n      <td>PENDING</td>\n      <td>PENDING</td>\n      <td>0</td>\n    </tr>\n    <tr>\n      <th>25</th>\n      <td>DMSO</td>\n      <td>-10</td>\n      <td>0.2</td>\n      <td>PENDING</td>\n      <td>PENDING</td>\n      <td>PENDING</td>\n      <td>0</td>\n    </tr>\n    <tr>\n      <th>28</th>\n      <td>DMSO</td>\n      <td>0</td>\n      <td>0.2</td>\n      <td>PENDING</td>\n      <td>PENDING</td>\n      <td>PENDING</td>\n      <td>0</td>\n    </tr>\n    <tr>\n      <th>27</th>\n      <td>DMSO</td>\n      <td>0</td>\n      <td>0.1</td>\n      <td>PENDING</td>\n      <td>PENDING</td>\n      <td>PENDING</td>\n      <td>0</td>\n    </tr>\n    <tr>\n      <th>29</th>\n      <td>DMSO</td>\n      <td>0</td>\n      <td>1.0</td>\n      <td>PENDING</td>\n      <td>PENDING</td>\n      <td>PENDING</td>\n      <td>0</td>\n    </tr>\n    <tr>\n      <th>30</th>\n      <td>DMSO</td>\n      <td>10</td>\n      <td>0.1</td>\n      <td>PENDING</td>\n      <td>PENDING</td>\n      <td>PENDING</td>\n      <td>0</td>\n    </tr>\n    <tr>\n      <th>31</th>\n      <td>DMSO</td>\n      <td>10</td>\n      <td>0.2</td>\n      <td>PENDING</td>\n      <td>PENDING</td>\n      <td>PENDING</td>\n      <td>0</td>\n    </tr>\n    <tr>\n      <th>33</th>\n      <td>DMSO</td>\n      <td>25</td>\n      <td>0.1</td>\n      <td>PENDING</td>\n      <td>PENDING</td>\n      <td>PENDING</td>\n      <td>0</td>\n    </tr>\n    <tr>\n      <th>34</th>\n      <td>DMSO</td>\n      <td>25</td>\n      <td>0.2</td>\n      <td>PENDING</td>\n      <td>PENDING</td>\n      <td>PENDING</td>\n      <td>0</td>\n    </tr>\n    <tr>\n      <th>20</th>\n      <td>Toluene</td>\n      <td>10</td>\n      <td>1.0</td>\n      <td>PENDING</td>\n      <td>PENDING</td>\n      <td>PENDING</td>\n      <td>0</td>\n    </tr>\n    <tr>\n      <th>18</th>\n      <td>Toluene</td>\n      <td>10</td>\n      <td>0.1</td>\n      <td>PENDING</td>\n      <td>PENDING</td>\n      <td>PENDING</td>\n      <td>0</td>\n    </tr>\n    <tr>\n      <th>1</th>\n      <td>THF</td>\n      <td>-10</td>\n      <td>0.2</td>\n      <td>PENDING</td>\n      <td>PENDING</td>\n      <td>PENDING</td>\n      <td>0</td>\n    </tr>\n    <tr>\n      <th>9</th>\n      <td>THF</td>\n      <td>25</td>\n      <td>0.1</td>\n      <td>PENDING</td>\n      <td>PENDING</td>\n      <td>PENDING</td>\n      <td>0</td>\n    </tr>\n    <tr>\n      <th>2</th>\n      <td>THF</td>\n      <td>-10</td>\n      <td>1.0</td>\n      <td>PENDING</td>\n      <td>PENDING</td>\n      <td>PENDING</td>\n      <td>0</td>\n    </tr>\n    <tr>\n      <th>3</th>\n      <td>THF</td>\n      <td>0</td>\n      <td>0.1</td>\n      <td>PENDING</td>\n      <td>PENDING</td>\n      <td>PENDING</td>\n      <td>0</td>\n    </tr>\n    <tr>\n      <th>4</th>\n      <td>THF</td>\n      <td>0</td>\n      <td>0.2</td>\n      <td>PENDING</td>\n      <td>PENDING</td>\n      <td>PENDING</td>\n      <td>0</td>\n    </tr>\n    <tr>\n      <th>5</th>\n      <td>THF</td>\n      <td>0</td>\n      <td>1.0</td>\n      <td>PENDING</td>\n      <td>PENDING</td>\n      <td>PENDING</td>\n      <td>0</td>\n    </tr>\n    <tr>\n      <th>6</th>\n      <td>THF</td>\n      <td>10</td>\n      <td>0.1</td>\n      <td>PENDING</td>\n      <td>PENDING</td>\n      <td>PENDING</td>\n      <td>0</td>\n    </tr>\n    <tr>\n      <th>7</th>\n      <td>THF</td>\n      <td>10</td>\n      <td>0.2</td>\n      <td>PENDING</td>\n      <td>PENDING</td>\n      <td>PENDING</td>\n      <td>0</td>\n    </tr>\n    <tr>\n      <th>10</th>\n      <td>THF</td>\n      <td>25</td>\n      <td>0.2</td>\n      <td>PENDING</td>\n      <td>PENDING</td>\n      <td>PENDING</td>\n      <td>0</td>\n    </tr>\n    <tr>\n      <th>17</th>\n      <td>Toluene</td>\n      <td>0</td>\n      <td>1.0</td>\n      <td>PENDING</td>\n      <td>PENDING</td>\n      <td>PENDING</td>\n      <td>0</td>\n    </tr>\n    <tr>\n      <th>11</th>\n      <td>THF</td>\n      <td>25</td>\n      <td>1.0</td>\n      <td>PENDING</td>\n      <td>PENDING</td>\n      <td>PENDING</td>\n      <td>0</td>\n    </tr>\n    <tr>\n      <th>12</th>\n      <td>Toluene</td>\n      <td>-10</td>\n      <td>0.1</td>\n      <td>PENDING</td>\n      <td>PENDING</td>\n      <td>PENDING</td>\n      <td>0</td>\n    </tr>\n    <tr>\n      <th>13</th>\n      <td>Toluene</td>\n      <td>-10</td>\n      <td>0.2</td>\n      <td>PENDING</td>\n      <td>PENDING</td>\n      <td>PENDING</td>\n      <td>0</td>\n    </tr>\n    <tr>\n      <th>14</th>\n      <td>Toluene</td>\n      <td>-10</td>\n      <td>1.0</td>\n      <td>PENDING</td>\n      <td>PENDING</td>\n      <td>PENDING</td>\n      <td>0</td>\n    </tr>\n    <tr>\n      <th>15</th>\n      <td>Toluene</td>\n      <td>0</td>\n      <td>0.1</td>\n      <td>PENDING</td>\n      <td>PENDING</td>\n      <td>PENDING</td>\n      <td>0</td>\n    </tr>\n    <tr>\n      <th>16</th>\n      <td>Toluene</td>\n      <td>0</td>\n      <td>0.2</td>\n      <td>PENDING</td>\n      <td>PENDING</td>\n      <td>PENDING</td>\n      <td>0</td>\n    </tr>\n    <tr>\n      <th>35</th>\n      <td>DMSO</td>\n      <td>25</td>\n      <td>1.0</td>\n      <td>PENDING</td>\n      <td>PENDING</td>\n      <td>PENDING</td>\n      <td>0</td>\n    </tr>\n  </tbody>\n</table>\n</div>"
     },
     "execution_count": 32,
     "metadata": {},
     "output_type": "execute_result"
    }
   ],
   "source": [
    "EDBOplus().run(\n",
    "    filename='my_optimization.csv',  # Previously generated scope.\n",
    "    objectives=['yield', 'ee', 'side_product'],  # Objectives to be optimized.\n",
    "    objective_mode=['max', 'max', 'min'],  # Maximize yield and ee but minimize side_product.\n",
    "    batch=3,  # Number of experiments in parallel that we want to perform in this round.\n",
    "    columns_features='all', # features to be included in the model.\n",
    "    init_sampling_method='cvtsampling'  # initialization method.\n",
    ")"
   ]
  },
  {
   "cell_type": "markdown",
   "id": "d56182ae-bb18-4c3d-a997-7115d18a851f",
   "metadata": {},
   "source": [
    "##### EDBO+ has created a column for each objective and added $\\bf{PENDING}$ values to all of them so you can track the experiments that you have been collecting during the optimization campaign.\n",
    "##### We can also see that EDBO+ has created a new $\\bf{priority}$ column. This column is used to distinguish between high and low priority samples. The top entries (with $\\bf{priority=1}$) highlight the next suggested samples."
   ]
  },
  {
   "cell_type": "markdown",
   "id": "273c23a8-651c-4e12-bfd2-291b2d695109",
   "metadata": {},
   "source": [
    "##### We can check now the first 5 experiments in the scope by reading the $\\bf{my\\_optimization.csv}$ file:"
   ]
  },
  {
   "cell_type": "code",
   "execution_count": 33,
   "id": "ac1adce5-9868-445a-8439-c2e9d7c47ea0",
   "metadata": {
    "ExecuteTime": {
     "end_time": "2023-09-21T13:56:29.292748Z",
     "start_time": "2023-09-21T13:56:29.185064Z"
    }
   },
   "outputs": [
    {
     "data": {
      "text/plain": "   solvent   T  concentration    yield       ee side_product  priority\n0     DMSO  10            1.0  PENDING  PENDING      PENDING         1\n1      THF  10            1.0  PENDING  PENDING      PENDING         1\n2  Toluene  10            0.2  PENDING  PENDING      PENDING         1\n3      THF -10            0.1  PENDING  PENDING      PENDING         0\n4     DMSO -10            1.0  PENDING  PENDING      PENDING         0",
      "text/html": "<div>\n<style scoped>\n    .dataframe tbody tr th:only-of-type {\n        vertical-align: middle;\n    }\n\n    .dataframe tbody tr th {\n        vertical-align: top;\n    }\n\n    .dataframe thead th {\n        text-align: right;\n    }\n</style>\n<table border=\"1\" class=\"dataframe\">\n  <thead>\n    <tr style=\"text-align: right;\">\n      <th></th>\n      <th>solvent</th>\n      <th>T</th>\n      <th>concentration</th>\n      <th>yield</th>\n      <th>ee</th>\n      <th>side_product</th>\n      <th>priority</th>\n    </tr>\n  </thead>\n  <tbody>\n    <tr>\n      <th>0</th>\n      <td>DMSO</td>\n      <td>10</td>\n      <td>1.0</td>\n      <td>PENDING</td>\n      <td>PENDING</td>\n      <td>PENDING</td>\n      <td>1</td>\n    </tr>\n    <tr>\n      <th>1</th>\n      <td>THF</td>\n      <td>10</td>\n      <td>1.0</td>\n      <td>PENDING</td>\n      <td>PENDING</td>\n      <td>PENDING</td>\n      <td>1</td>\n    </tr>\n    <tr>\n      <th>2</th>\n      <td>Toluene</td>\n      <td>10</td>\n      <td>0.2</td>\n      <td>PENDING</td>\n      <td>PENDING</td>\n      <td>PENDING</td>\n      <td>1</td>\n    </tr>\n    <tr>\n      <th>3</th>\n      <td>THF</td>\n      <td>-10</td>\n      <td>0.1</td>\n      <td>PENDING</td>\n      <td>PENDING</td>\n      <td>PENDING</td>\n      <td>0</td>\n    </tr>\n    <tr>\n      <th>4</th>\n      <td>DMSO</td>\n      <td>-10</td>\n      <td>1.0</td>\n      <td>PENDING</td>\n      <td>PENDING</td>\n      <td>PENDING</td>\n      <td>0</td>\n    </tr>\n  </tbody>\n</table>\n</div>"
     },
     "execution_count": 33,
     "metadata": {},
     "output_type": "execute_result"
    }
   ],
   "source": [
    "df_edbo = pd.read_csv('my_optimization.csv')\n",
    "df_edbo.head(5)"
   ]
  },
  {
   "cell_type": "markdown",
   "id": "983af8fb-28e5-469e-81bb-dac0b610a4a8",
   "metadata": {},
   "source": [
    "## 3. Adding training data in EDBO+."
   ]
  },
  {
   "cell_type": "markdown",
   "id": "ea74eccc-4062-4192-91a5-d664198ff758",
   "metadata": {},
   "source": [
    "##### Note: We will use Python and Pandas to add new training data in this example. But you can always edit and add new data into the '.csv' file using any spreedsheet editor (such as Excel, Libreoffice Calc, ...) if that's more convinient for you."
   ]
  },
  {
   "cell_type": "markdown",
   "id": "3265c8b0-431a-41cf-9df2-cbb4d08e74f1",
   "metadata": {},
   "source": [
    "##### Let's open again the $\\bf{my\\_optimization.csv}$ file we generated before:"
   ]
  },
  {
   "cell_type": "code",
   "execution_count": 34,
   "id": "71325a29-6fa1-4b40-8021-c871132b502f",
   "metadata": {
    "ExecuteTime": {
     "end_time": "2023-09-21T13:56:29.400128Z",
     "start_time": "2023-09-21T13:56:29.291658Z"
    }
   },
   "outputs": [
    {
     "data": {
      "text/plain": "   solvent   T  concentration    yield       ee side_product  priority\n0     DMSO  10            1.0  PENDING  PENDING      PENDING         1\n1      THF  10            1.0  PENDING  PENDING      PENDING         1\n2  Toluene  10            0.2  PENDING  PENDING      PENDING         1\n3      THF -10            0.1  PENDING  PENDING      PENDING         0\n4     DMSO -10            1.0  PENDING  PENDING      PENDING         0",
      "text/html": "<div>\n<style scoped>\n    .dataframe tbody tr th:only-of-type {\n        vertical-align: middle;\n    }\n\n    .dataframe tbody tr th {\n        vertical-align: top;\n    }\n\n    .dataframe thead th {\n        text-align: right;\n    }\n</style>\n<table border=\"1\" class=\"dataframe\">\n  <thead>\n    <tr style=\"text-align: right;\">\n      <th></th>\n      <th>solvent</th>\n      <th>T</th>\n      <th>concentration</th>\n      <th>yield</th>\n      <th>ee</th>\n      <th>side_product</th>\n      <th>priority</th>\n    </tr>\n  </thead>\n  <tbody>\n    <tr>\n      <th>0</th>\n      <td>DMSO</td>\n      <td>10</td>\n      <td>1.0</td>\n      <td>PENDING</td>\n      <td>PENDING</td>\n      <td>PENDING</td>\n      <td>1</td>\n    </tr>\n    <tr>\n      <th>1</th>\n      <td>THF</td>\n      <td>10</td>\n      <td>1.0</td>\n      <td>PENDING</td>\n      <td>PENDING</td>\n      <td>PENDING</td>\n      <td>1</td>\n    </tr>\n    <tr>\n      <th>2</th>\n      <td>Toluene</td>\n      <td>10</td>\n      <td>0.2</td>\n      <td>PENDING</td>\n      <td>PENDING</td>\n      <td>PENDING</td>\n      <td>1</td>\n    </tr>\n    <tr>\n      <th>3</th>\n      <td>THF</td>\n      <td>-10</td>\n      <td>0.1</td>\n      <td>PENDING</td>\n      <td>PENDING</td>\n      <td>PENDING</td>\n      <td>0</td>\n    </tr>\n    <tr>\n      <th>4</th>\n      <td>DMSO</td>\n      <td>-10</td>\n      <td>1.0</td>\n      <td>PENDING</td>\n      <td>PENDING</td>\n      <td>PENDING</td>\n      <td>0</td>\n    </tr>\n  </tbody>\n</table>\n</div>"
     },
     "execution_count": 34,
     "metadata": {},
     "output_type": "execute_result"
    }
   ],
   "source": [
    "df_edbo = pd.read_csv('my_optimization.csv')\n",
    "df_edbo.head(5)"
   ]
  },
  {
   "cell_type": "markdown",
   "id": "4cc9f2f2-d6d9-461c-9a57-b371d844c4a9",
   "metadata": {},
   "source": [
    "##### We can fill the first out entry in the previous dataframe with the \"observed\" values using Pandas:"
   ]
  },
  {
   "cell_type": "code",
   "execution_count": 35,
   "id": "602cda82-992f-4e72-bf1b-4718506adb21",
   "metadata": {
    "ExecuteTime": {
     "end_time": "2023-09-21T13:56:29.501438Z",
     "start_time": "2023-09-21T13:56:29.399088Z"
    }
   },
   "outputs": [],
   "source": [
    "df_edbo.loc[0, 'yield'] = 20.5\n",
    "df_edbo.loc[0, 'ee'] = 40\n",
    "df_edbo.loc[0, 'side_product'] = 0.1"
   ]
  },
  {
   "cell_type": "markdown",
   "id": "28dc773b-74fe-4415-848b-e3cb0c54fc7c",
   "metadata": {},
   "source": [
    "##### We can check that we have filled out the first entry with our \"observed data\":"
   ]
  },
  {
   "cell_type": "code",
   "execution_count": 36,
   "id": "7fb2a36d-17f4-4579-aa8f-4dd42647398c",
   "metadata": {
    "ExecuteTime": {
     "end_time": "2023-09-21T13:56:29.607845Z",
     "start_time": "2023-09-21T13:56:29.503244Z"
    }
   },
   "outputs": [
    {
     "data": {
      "text/plain": "   solvent   T  concentration    yield       ee side_product  priority\n0     DMSO  10            1.0     20.5       40          0.1         1\n1      THF  10            1.0  PENDING  PENDING      PENDING         1\n2  Toluene  10            0.2  PENDING  PENDING      PENDING         1\n3      THF -10            0.1  PENDING  PENDING      PENDING         0\n4     DMSO -10            1.0  PENDING  PENDING      PENDING         0",
      "text/html": "<div>\n<style scoped>\n    .dataframe tbody tr th:only-of-type {\n        vertical-align: middle;\n    }\n\n    .dataframe tbody tr th {\n        vertical-align: top;\n    }\n\n    .dataframe thead th {\n        text-align: right;\n    }\n</style>\n<table border=\"1\" class=\"dataframe\">\n  <thead>\n    <tr style=\"text-align: right;\">\n      <th></th>\n      <th>solvent</th>\n      <th>T</th>\n      <th>concentration</th>\n      <th>yield</th>\n      <th>ee</th>\n      <th>side_product</th>\n      <th>priority</th>\n    </tr>\n  </thead>\n  <tbody>\n    <tr>\n      <th>0</th>\n      <td>DMSO</td>\n      <td>10</td>\n      <td>1.0</td>\n      <td>20.5</td>\n      <td>40</td>\n      <td>0.1</td>\n      <td>1</td>\n    </tr>\n    <tr>\n      <th>1</th>\n      <td>THF</td>\n      <td>10</td>\n      <td>1.0</td>\n      <td>PENDING</td>\n      <td>PENDING</td>\n      <td>PENDING</td>\n      <td>1</td>\n    </tr>\n    <tr>\n      <th>2</th>\n      <td>Toluene</td>\n      <td>10</td>\n      <td>0.2</td>\n      <td>PENDING</td>\n      <td>PENDING</td>\n      <td>PENDING</td>\n      <td>1</td>\n    </tr>\n    <tr>\n      <th>3</th>\n      <td>THF</td>\n      <td>-10</td>\n      <td>0.1</td>\n      <td>PENDING</td>\n      <td>PENDING</td>\n      <td>PENDING</td>\n      <td>0</td>\n    </tr>\n    <tr>\n      <th>4</th>\n      <td>DMSO</td>\n      <td>-10</td>\n      <td>1.0</td>\n      <td>PENDING</td>\n      <td>PENDING</td>\n      <td>PENDING</td>\n      <td>0</td>\n    </tr>\n  </tbody>\n</table>\n</div>"
     },
     "execution_count": 36,
     "metadata": {},
     "output_type": "execute_result"
    }
   ],
   "source": [
    "df_edbo.head(5)"
   ]
  },
  {
   "cell_type": "markdown",
   "id": "a4382a8d-175a-4aa9-9d08-b36d97c0f8f4",
   "metadata": {},
   "source": [
    "##### We can also fill out the second entry with their corresponding \"observations\":"
   ]
  },
  {
   "cell_type": "code",
   "execution_count": 37,
   "id": "410e2018-70c8-461f-a37e-bd16c44f4c4f",
   "metadata": {
    "ExecuteTime": {
     "end_time": "2023-09-21T13:56:29.708224Z",
     "start_time": "2023-09-21T13:56:29.606561Z"
    }
   },
   "outputs": [],
   "source": [
    "df_edbo.loc[1, 'yield'] = 50.3\n",
    "df_edbo.loc[1, 'ee'] = 10\n",
    "df_edbo.loc[1, 'side_product'] = 0.2"
   ]
  },
  {
   "cell_type": "code",
   "execution_count": 38,
   "id": "2d4b7f83-b41e-4745-94e0-0a2473a10203",
   "metadata": {
    "ExecuteTime": {
     "end_time": "2023-09-21T13:56:29.813482Z",
     "start_time": "2023-09-21T13:56:29.708596Z"
    }
   },
   "outputs": [
    {
     "data": {
      "text/plain": "   solvent   T  concentration    yield       ee side_product  priority\n0     DMSO  10            1.0     20.5       40          0.1         1\n1      THF  10            1.0     50.3       10          0.2         1\n2  Toluene  10            0.2  PENDING  PENDING      PENDING         1\n3      THF -10            0.1  PENDING  PENDING      PENDING         0\n4     DMSO -10            1.0  PENDING  PENDING      PENDING         0",
      "text/html": "<div>\n<style scoped>\n    .dataframe tbody tr th:only-of-type {\n        vertical-align: middle;\n    }\n\n    .dataframe tbody tr th {\n        vertical-align: top;\n    }\n\n    .dataframe thead th {\n        text-align: right;\n    }\n</style>\n<table border=\"1\" class=\"dataframe\">\n  <thead>\n    <tr style=\"text-align: right;\">\n      <th></th>\n      <th>solvent</th>\n      <th>T</th>\n      <th>concentration</th>\n      <th>yield</th>\n      <th>ee</th>\n      <th>side_product</th>\n      <th>priority</th>\n    </tr>\n  </thead>\n  <tbody>\n    <tr>\n      <th>0</th>\n      <td>DMSO</td>\n      <td>10</td>\n      <td>1.0</td>\n      <td>20.5</td>\n      <td>40</td>\n      <td>0.1</td>\n      <td>1</td>\n    </tr>\n    <tr>\n      <th>1</th>\n      <td>THF</td>\n      <td>10</td>\n      <td>1.0</td>\n      <td>50.3</td>\n      <td>10</td>\n      <td>0.2</td>\n      <td>1</td>\n    </tr>\n    <tr>\n      <th>2</th>\n      <td>Toluene</td>\n      <td>10</td>\n      <td>0.2</td>\n      <td>PENDING</td>\n      <td>PENDING</td>\n      <td>PENDING</td>\n      <td>1</td>\n    </tr>\n    <tr>\n      <th>3</th>\n      <td>THF</td>\n      <td>-10</td>\n      <td>0.1</td>\n      <td>PENDING</td>\n      <td>PENDING</td>\n      <td>PENDING</td>\n      <td>0</td>\n    </tr>\n    <tr>\n      <th>4</th>\n      <td>DMSO</td>\n      <td>-10</td>\n      <td>1.0</td>\n      <td>PENDING</td>\n      <td>PENDING</td>\n      <td>PENDING</td>\n      <td>0</td>\n    </tr>\n  </tbody>\n</table>\n</div>"
     },
     "execution_count": 38,
     "metadata": {},
     "output_type": "execute_result"
    }
   ],
   "source": [
    "df_edbo.head(5)"
   ]
  },
  {
   "cell_type": "markdown",
   "id": "ee7aa73c-6804-4b48-ab59-949d53e9e026",
   "metadata": {},
   "source": [
    "##### Now we can save our dataset as $\\bf{my\\_optimization\\_round0.csv}$:"
   ]
  },
  {
   "cell_type": "code",
   "execution_count": 39,
   "id": "4affb64c-0111-44d9-ac3e-c5f194f1c955",
   "metadata": {
    "ExecuteTime": {
     "end_time": "2023-09-21T13:56:29.914784Z",
     "start_time": "2023-09-21T13:56:29.811616Z"
    }
   },
   "outputs": [],
   "source": [
    "df_edbo.to_csv('my_optimization_round0.csv', index=False)"
   ]
  },
  {
   "cell_type": "markdown",
   "id": "4772394c-ddb2-4916-9156-893f066901ea",
   "metadata": {},
   "source": [
    "## 4. Running EDBO+ with training data."
   ]
  },
  {
   "cell_type": "markdown",
   "id": "870f1554-5931-4bd2-8a77-fec44d9d9445",
   "metadata": {},
   "source": [
    "##### First let's check our previous data (which include some $\\bf{yield}$, $\\bf{ee}$ and $\\bf{side\\_product}$ observations, which will be used to train the model):"
   ]
  },
  {
   "cell_type": "code",
   "execution_count": 40,
   "id": "33f82683-fa41-47ca-833a-63d1a4d388e7",
   "metadata": {
    "ExecuteTime": {
     "end_time": "2023-09-21T13:56:30.022428Z",
     "start_time": "2023-09-21T13:56:29.915418Z"
    }
   },
   "outputs": [
    {
     "data": {
      "text/plain": "   solvent   T  concentration    yield       ee side_product  priority\n0     DMSO  10            1.0     20.5       40          0.1         1\n1      THF  10            1.0     50.3       10          0.2         1\n2  Toluene  10            0.2  PENDING  PENDING      PENDING         1\n3      THF -10            0.1  PENDING  PENDING      PENDING         0\n4     DMSO -10            1.0  PENDING  PENDING      PENDING         0",
      "text/html": "<div>\n<style scoped>\n    .dataframe tbody tr th:only-of-type {\n        vertical-align: middle;\n    }\n\n    .dataframe tbody tr th {\n        vertical-align: top;\n    }\n\n    .dataframe thead th {\n        text-align: right;\n    }\n</style>\n<table border=\"1\" class=\"dataframe\">\n  <thead>\n    <tr style=\"text-align: right;\">\n      <th></th>\n      <th>solvent</th>\n      <th>T</th>\n      <th>concentration</th>\n      <th>yield</th>\n      <th>ee</th>\n      <th>side_product</th>\n      <th>priority</th>\n    </tr>\n  </thead>\n  <tbody>\n    <tr>\n      <th>0</th>\n      <td>DMSO</td>\n      <td>10</td>\n      <td>1.0</td>\n      <td>20.5</td>\n      <td>40</td>\n      <td>0.1</td>\n      <td>1</td>\n    </tr>\n    <tr>\n      <th>1</th>\n      <td>THF</td>\n      <td>10</td>\n      <td>1.0</td>\n      <td>50.3</td>\n      <td>10</td>\n      <td>0.2</td>\n      <td>1</td>\n    </tr>\n    <tr>\n      <th>2</th>\n      <td>Toluene</td>\n      <td>10</td>\n      <td>0.2</td>\n      <td>PENDING</td>\n      <td>PENDING</td>\n      <td>PENDING</td>\n      <td>1</td>\n    </tr>\n    <tr>\n      <th>3</th>\n      <td>THF</td>\n      <td>-10</td>\n      <td>0.1</td>\n      <td>PENDING</td>\n      <td>PENDING</td>\n      <td>PENDING</td>\n      <td>0</td>\n    </tr>\n    <tr>\n      <th>4</th>\n      <td>DMSO</td>\n      <td>-10</td>\n      <td>1.0</td>\n      <td>PENDING</td>\n      <td>PENDING</td>\n      <td>PENDING</td>\n      <td>0</td>\n    </tr>\n  </tbody>\n</table>\n</div>"
     },
     "execution_count": 40,
     "metadata": {},
     "output_type": "execute_result"
    }
   ],
   "source": [
    "df_edbo_round0 = pd.read_csv('my_optimization_round0.csv')\n",
    "df_edbo_round0.head(5)"
   ]
  },
  {
   "cell_type": "markdown",
   "id": "6f8aaa91-6c50-49ea-8453-4045a2e1151c",
   "metadata": {},
   "source": [
    "##### Now that we have introduced some \"observations\" in our $\\bf{my\\_optimization\\_round0.csv}$ file, we can execute EDBO+ to suggest samples using these \"observations\" as training data."
   ]
  },
  {
   "cell_type": "code",
   "execution_count": 43,
   "id": "63eef16a-9f45-4956-adcb-07093b482a69",
   "metadata": {
    "ExecuteTime": {
     "end_time": "2023-09-21T13:58:42.781925Z",
     "start_time": "2023-09-21T13:58:39.869028Z"
    }
   },
   "outputs": [
    {
     "name": "stdout",
     "output_type": "stream",
     "text": [
      "The following columns are categorical and will be encoded using One-Hot-Encoding: ['solvent']\n",
      "Using EHVI acquisition function.\n",
      "Using hyperparameters optimized for continuous variables.\n"
     ]
    },
    {
     "name": "stderr",
     "output_type": "stream",
     "text": [
      "/opt/homebrew/anaconda3/envs/edboplus_scope/lib/python3.8/site-packages/botorch/models/utils/assorted.py:201: InputDataWarning: Input data is not standardized (mean = tensor([0.]), std = tensor([1.4142])). Please consider scaling the input to zero mean and unit variance.\n",
      "  warnings.warn(msg, InputDataWarning)\n"
     ]
    },
    {
     "name": "stdout",
     "output_type": "stream",
     "text": [
      "Using hyperparameters optimized for continuous variables.\n",
      "Using hyperparameters optimized for continuous variables.\n",
      "Number of QMC samples using SobolQMCNormalSampler sampler: 512\n",
      "Acquisition function optimized.\n",
      "Predictions obtained and expected improvement obtained.\n"
     ]
    },
    {
     "name": "stderr",
     "output_type": "stream",
     "text": [
      "/opt/homebrew/anaconda3/envs/edboplus_scope/lib/python3.8/site-packages/botorch/models/utils/assorted.py:201: InputDataWarning: Input data is not standardized (mean = tensor([2.2204e-16]), std = tensor([1.4142])). Please consider scaling the input to zero mean and unit variance.\n",
      "  warnings.warn(msg, InputDataWarning)\n"
     ]
    },
    {
     "data": {
      "text/plain": "    solvent   T  concentration    yield       ee side_product  priority\n0   Toluene  25            0.1  PENDING  PENDING      PENDING       1.0\n1   Toluene   0            0.1  PENDING  PENDING      PENDING       1.0\n2      DMSO -10            1.0  PENDING  PENDING      PENDING       1.0\n3   Toluene  25            1.0  PENDING  PENDING      PENDING       0.0\n4   Toluene  25            0.2  PENDING  PENDING      PENDING       0.0\n5   Toluene  10            1.0  PENDING  PENDING      PENDING       0.0\n6   Toluene  10            0.2  PENDING  PENDING      PENDING       0.0\n7   Toluene  10            0.1  PENDING  PENDING      PENDING       0.0\n8   Toluene   0            1.0  PENDING  PENDING      PENDING       0.0\n9   Toluene   0            0.2  PENDING  PENDING      PENDING       0.0\n10  Toluene -10            1.0  PENDING  PENDING      PENDING       0.0\n11  Toluene -10            0.2  PENDING  PENDING      PENDING       0.0\n12  Toluene -10            0.1  PENDING  PENDING      PENDING       0.0\n13      THF  25            1.0  PENDING  PENDING      PENDING       0.0\n14      THF  25            0.2  PENDING  PENDING      PENDING       0.0\n15      THF  25            0.1  PENDING  PENDING      PENDING       0.0\n16      THF  10            0.2  PENDING  PENDING      PENDING       0.0\n17      THF  10            0.1  PENDING  PENDING      PENDING       0.0\n18      THF   0            1.0  PENDING  PENDING      PENDING       0.0\n19      THF   0            0.2  PENDING  PENDING      PENDING       0.0\n20      THF   0            0.1  PENDING  PENDING      PENDING       0.0\n21      THF -10            1.0  PENDING  PENDING      PENDING       0.0\n22      THF -10            0.2  PENDING  PENDING      PENDING       0.0\n23      THF -10            0.1  PENDING  PENDING      PENDING       0.0\n24     DMSO  25            1.0  PENDING  PENDING      PENDING       0.0\n25     DMSO  25            0.2  PENDING  PENDING      PENDING       0.0\n26     DMSO  25            0.1  PENDING  PENDING      PENDING       0.0\n27     DMSO  10            0.2  PENDING  PENDING      PENDING       0.0\n28     DMSO  10            0.1  PENDING  PENDING      PENDING       0.0\n29     DMSO   0            1.0  PENDING  PENDING      PENDING       0.0\n30     DMSO   0            0.2  PENDING  PENDING      PENDING       0.0\n31     DMSO   0            0.1  PENDING  PENDING      PENDING       0.0\n32     DMSO -10            0.2  PENDING  PENDING      PENDING       0.0\n33     DMSO -10            0.1  PENDING  PENDING      PENDING       0.0\n34      THF  10            1.0     50.3       10          0.2      -1.0\n35     DMSO  10            1.0     20.5       40          0.1      -1.0",
      "text/html": "<div>\n<style scoped>\n    .dataframe tbody tr th:only-of-type {\n        vertical-align: middle;\n    }\n\n    .dataframe tbody tr th {\n        vertical-align: top;\n    }\n\n    .dataframe thead th {\n        text-align: right;\n    }\n</style>\n<table border=\"1\" class=\"dataframe\">\n  <thead>\n    <tr style=\"text-align: right;\">\n      <th></th>\n      <th>solvent</th>\n      <th>T</th>\n      <th>concentration</th>\n      <th>yield</th>\n      <th>ee</th>\n      <th>side_product</th>\n      <th>priority</th>\n    </tr>\n  </thead>\n  <tbody>\n    <tr>\n      <th>0</th>\n      <td>Toluene</td>\n      <td>25</td>\n      <td>0.1</td>\n      <td>PENDING</td>\n      <td>PENDING</td>\n      <td>PENDING</td>\n      <td>1.0</td>\n    </tr>\n    <tr>\n      <th>1</th>\n      <td>Toluene</td>\n      <td>0</td>\n      <td>0.1</td>\n      <td>PENDING</td>\n      <td>PENDING</td>\n      <td>PENDING</td>\n      <td>1.0</td>\n    </tr>\n    <tr>\n      <th>2</th>\n      <td>DMSO</td>\n      <td>-10</td>\n      <td>1.0</td>\n      <td>PENDING</td>\n      <td>PENDING</td>\n      <td>PENDING</td>\n      <td>1.0</td>\n    </tr>\n    <tr>\n      <th>3</th>\n      <td>Toluene</td>\n      <td>25</td>\n      <td>1.0</td>\n      <td>PENDING</td>\n      <td>PENDING</td>\n      <td>PENDING</td>\n      <td>0.0</td>\n    </tr>\n    <tr>\n      <th>4</th>\n      <td>Toluene</td>\n      <td>25</td>\n      <td>0.2</td>\n      <td>PENDING</td>\n      <td>PENDING</td>\n      <td>PENDING</td>\n      <td>0.0</td>\n    </tr>\n    <tr>\n      <th>5</th>\n      <td>Toluene</td>\n      <td>10</td>\n      <td>1.0</td>\n      <td>PENDING</td>\n      <td>PENDING</td>\n      <td>PENDING</td>\n      <td>0.0</td>\n    </tr>\n    <tr>\n      <th>6</th>\n      <td>Toluene</td>\n      <td>10</td>\n      <td>0.2</td>\n      <td>PENDING</td>\n      <td>PENDING</td>\n      <td>PENDING</td>\n      <td>0.0</td>\n    </tr>\n    <tr>\n      <th>7</th>\n      <td>Toluene</td>\n      <td>10</td>\n      <td>0.1</td>\n      <td>PENDING</td>\n      <td>PENDING</td>\n      <td>PENDING</td>\n      <td>0.0</td>\n    </tr>\n    <tr>\n      <th>8</th>\n      <td>Toluene</td>\n      <td>0</td>\n      <td>1.0</td>\n      <td>PENDING</td>\n      <td>PENDING</td>\n      <td>PENDING</td>\n      <td>0.0</td>\n    </tr>\n    <tr>\n      <th>9</th>\n      <td>Toluene</td>\n      <td>0</td>\n      <td>0.2</td>\n      <td>PENDING</td>\n      <td>PENDING</td>\n      <td>PENDING</td>\n      <td>0.0</td>\n    </tr>\n    <tr>\n      <th>10</th>\n      <td>Toluene</td>\n      <td>-10</td>\n      <td>1.0</td>\n      <td>PENDING</td>\n      <td>PENDING</td>\n      <td>PENDING</td>\n      <td>0.0</td>\n    </tr>\n    <tr>\n      <th>11</th>\n      <td>Toluene</td>\n      <td>-10</td>\n      <td>0.2</td>\n      <td>PENDING</td>\n      <td>PENDING</td>\n      <td>PENDING</td>\n      <td>0.0</td>\n    </tr>\n    <tr>\n      <th>12</th>\n      <td>Toluene</td>\n      <td>-10</td>\n      <td>0.1</td>\n      <td>PENDING</td>\n      <td>PENDING</td>\n      <td>PENDING</td>\n      <td>0.0</td>\n    </tr>\n    <tr>\n      <th>13</th>\n      <td>THF</td>\n      <td>25</td>\n      <td>1.0</td>\n      <td>PENDING</td>\n      <td>PENDING</td>\n      <td>PENDING</td>\n      <td>0.0</td>\n    </tr>\n    <tr>\n      <th>14</th>\n      <td>THF</td>\n      <td>25</td>\n      <td>0.2</td>\n      <td>PENDING</td>\n      <td>PENDING</td>\n      <td>PENDING</td>\n      <td>0.0</td>\n    </tr>\n    <tr>\n      <th>15</th>\n      <td>THF</td>\n      <td>25</td>\n      <td>0.1</td>\n      <td>PENDING</td>\n      <td>PENDING</td>\n      <td>PENDING</td>\n      <td>0.0</td>\n    </tr>\n    <tr>\n      <th>16</th>\n      <td>THF</td>\n      <td>10</td>\n      <td>0.2</td>\n      <td>PENDING</td>\n      <td>PENDING</td>\n      <td>PENDING</td>\n      <td>0.0</td>\n    </tr>\n    <tr>\n      <th>17</th>\n      <td>THF</td>\n      <td>10</td>\n      <td>0.1</td>\n      <td>PENDING</td>\n      <td>PENDING</td>\n      <td>PENDING</td>\n      <td>0.0</td>\n    </tr>\n    <tr>\n      <th>18</th>\n      <td>THF</td>\n      <td>0</td>\n      <td>1.0</td>\n      <td>PENDING</td>\n      <td>PENDING</td>\n      <td>PENDING</td>\n      <td>0.0</td>\n    </tr>\n    <tr>\n      <th>19</th>\n      <td>THF</td>\n      <td>0</td>\n      <td>0.2</td>\n      <td>PENDING</td>\n      <td>PENDING</td>\n      <td>PENDING</td>\n      <td>0.0</td>\n    </tr>\n    <tr>\n      <th>20</th>\n      <td>THF</td>\n      <td>0</td>\n      <td>0.1</td>\n      <td>PENDING</td>\n      <td>PENDING</td>\n      <td>PENDING</td>\n      <td>0.0</td>\n    </tr>\n    <tr>\n      <th>21</th>\n      <td>THF</td>\n      <td>-10</td>\n      <td>1.0</td>\n      <td>PENDING</td>\n      <td>PENDING</td>\n      <td>PENDING</td>\n      <td>0.0</td>\n    </tr>\n    <tr>\n      <th>22</th>\n      <td>THF</td>\n      <td>-10</td>\n      <td>0.2</td>\n      <td>PENDING</td>\n      <td>PENDING</td>\n      <td>PENDING</td>\n      <td>0.0</td>\n    </tr>\n    <tr>\n      <th>23</th>\n      <td>THF</td>\n      <td>-10</td>\n      <td>0.1</td>\n      <td>PENDING</td>\n      <td>PENDING</td>\n      <td>PENDING</td>\n      <td>0.0</td>\n    </tr>\n    <tr>\n      <th>24</th>\n      <td>DMSO</td>\n      <td>25</td>\n      <td>1.0</td>\n      <td>PENDING</td>\n      <td>PENDING</td>\n      <td>PENDING</td>\n      <td>0.0</td>\n    </tr>\n    <tr>\n      <th>25</th>\n      <td>DMSO</td>\n      <td>25</td>\n      <td>0.2</td>\n      <td>PENDING</td>\n      <td>PENDING</td>\n      <td>PENDING</td>\n      <td>0.0</td>\n    </tr>\n    <tr>\n      <th>26</th>\n      <td>DMSO</td>\n      <td>25</td>\n      <td>0.1</td>\n      <td>PENDING</td>\n      <td>PENDING</td>\n      <td>PENDING</td>\n      <td>0.0</td>\n    </tr>\n    <tr>\n      <th>27</th>\n      <td>DMSO</td>\n      <td>10</td>\n      <td>0.2</td>\n      <td>PENDING</td>\n      <td>PENDING</td>\n      <td>PENDING</td>\n      <td>0.0</td>\n    </tr>\n    <tr>\n      <th>28</th>\n      <td>DMSO</td>\n      <td>10</td>\n      <td>0.1</td>\n      <td>PENDING</td>\n      <td>PENDING</td>\n      <td>PENDING</td>\n      <td>0.0</td>\n    </tr>\n    <tr>\n      <th>29</th>\n      <td>DMSO</td>\n      <td>0</td>\n      <td>1.0</td>\n      <td>PENDING</td>\n      <td>PENDING</td>\n      <td>PENDING</td>\n      <td>0.0</td>\n    </tr>\n    <tr>\n      <th>30</th>\n      <td>DMSO</td>\n      <td>0</td>\n      <td>0.2</td>\n      <td>PENDING</td>\n      <td>PENDING</td>\n      <td>PENDING</td>\n      <td>0.0</td>\n    </tr>\n    <tr>\n      <th>31</th>\n      <td>DMSO</td>\n      <td>0</td>\n      <td>0.1</td>\n      <td>PENDING</td>\n      <td>PENDING</td>\n      <td>PENDING</td>\n      <td>0.0</td>\n    </tr>\n    <tr>\n      <th>32</th>\n      <td>DMSO</td>\n      <td>-10</td>\n      <td>0.2</td>\n      <td>PENDING</td>\n      <td>PENDING</td>\n      <td>PENDING</td>\n      <td>0.0</td>\n    </tr>\n    <tr>\n      <th>33</th>\n      <td>DMSO</td>\n      <td>-10</td>\n      <td>0.1</td>\n      <td>PENDING</td>\n      <td>PENDING</td>\n      <td>PENDING</td>\n      <td>0.0</td>\n    </tr>\n    <tr>\n      <th>34</th>\n      <td>THF</td>\n      <td>10</td>\n      <td>1.0</td>\n      <td>50.3</td>\n      <td>10</td>\n      <td>0.2</td>\n      <td>-1.0</td>\n    </tr>\n    <tr>\n      <th>35</th>\n      <td>DMSO</td>\n      <td>10</td>\n      <td>1.0</td>\n      <td>20.5</td>\n      <td>40</td>\n      <td>0.1</td>\n      <td>-1.0</td>\n    </tr>\n  </tbody>\n</table>\n</div>"
     },
     "execution_count": 43,
     "metadata": {},
     "output_type": "execute_result"
    }
   ],
   "source": [
    "EDBOplus().run(\n",
    "    filename='my_optimization_round0.csv',  # Previous scope (including observations).\n",
    "    objectives=['yield', 'ee', 'side_product'],  # Objectives to be optimized.\n",
    "    objective_mode=['max', 'max', 'min'],  # Maximize yield and ee but minimize side_product.\n",
    "    batch=3,  # Number of experiments in parallel that we want to perform in this round.\n",
    "    columns_features='all', # features to be included in the model.\n",
    "    init_sampling_method='cvtsampling'  # initialization method.\n",
    ")"
   ]
  },
  {
   "cell_type": "markdown",
   "id": "7dace76f-c575-46c8-a452-e5fa36c2388d",
   "metadata": {},
   "source": [
    "##### Again the samples suggested by EDBO+ have $\\bf{priority = +1}$. In addition, we asign $\\bf{priority = -1}$ to the experiments that we have already run (these are at the bottom of the dataset)."
   ]
  },
  {
   "cell_type": "markdown",
   "id": "921e38de-97af-4ae1-b060-44948c528e54",
   "metadata": {},
   "source": [
    "## Extra: Accessing the model predictions."
   ]
  },
  {
   "cell_type": "markdown",
   "id": "e568ca96-31b4-4c51-acd8-7e0d1758e05f",
   "metadata": {},
   "source": [
    "##### Each time that EDBO+ is executed with training data it will generate a .csv file with the predictions for the entire scope (including the 'untested' samples).\n",
    "##### In the previous example, by running EDBO+ with training data, we generated two files: $\\bf{my\\_optimization\\_round0.csv}$ and a second file with the predictions $\\bf{pred\\_my\\_optimization\\_round0.csv}$.\n",
    "##### Let's have a look to the predictions file using Pandas:"
   ]
  },
  {
   "cell_type": "code",
   "execution_count": 45,
   "id": "e1a1f111-5b69-4ec1-b683-142adb2f3f90",
   "metadata": {
    "ExecuteTime": {
     "end_time": "2023-09-21T13:59:25.319303Z",
     "start_time": "2023-09-21T13:59:24.771127Z"
    }
   },
   "outputs": [
    {
     "data": {
      "text/plain": "    solvent   T  concentration    yield       ee side_product  priority  \\\n0   Toluene  25            0.1  PENDING  PENDING      PENDING       1.0   \n1   Toluene   0            0.1  PENDING  PENDING      PENDING       1.0   \n2      DMSO -10            1.0  PENDING  PENDING      PENDING       1.0   \n3   Toluene  25            1.0  PENDING  PENDING      PENDING       0.0   \n4   Toluene  25            0.2  PENDING  PENDING      PENDING       0.0   \n5   Toluene  10            1.0  PENDING  PENDING      PENDING       0.0   \n6   Toluene  10            0.2  PENDING  PENDING      PENDING       0.0   \n7   Toluene  10            0.1  PENDING  PENDING      PENDING       0.0   \n8   Toluene   0            1.0  PENDING  PENDING      PENDING       0.0   \n9   Toluene   0            0.2  PENDING  PENDING      PENDING       0.0   \n10  Toluene -10            1.0  PENDING  PENDING      PENDING       0.0   \n11  Toluene -10            0.2  PENDING  PENDING      PENDING       0.0   \n12  Toluene -10            0.1  PENDING  PENDING      PENDING       0.0   \n13      THF  25            1.0  PENDING  PENDING      PENDING       0.0   \n14      THF  25            0.2  PENDING  PENDING      PENDING       0.0   \n15      THF  25            0.1  PENDING  PENDING      PENDING       0.0   \n16      THF  10            0.2  PENDING  PENDING      PENDING       0.0   \n17      THF  10            0.1  PENDING  PENDING      PENDING       0.0   \n18      THF   0            1.0  PENDING  PENDING      PENDING       0.0   \n19      THF   0            0.2  PENDING  PENDING      PENDING       0.0   \n20      THF   0            0.1  PENDING  PENDING      PENDING       0.0   \n21      THF -10            1.0  PENDING  PENDING      PENDING       0.0   \n22      THF -10            0.2  PENDING  PENDING      PENDING       0.0   \n23      THF -10            0.1  PENDING  PENDING      PENDING       0.0   \n24     DMSO  25            1.0  PENDING  PENDING      PENDING       0.0   \n25     DMSO  25            0.2  PENDING  PENDING      PENDING       0.0   \n26     DMSO  25            0.1  PENDING  PENDING      PENDING       0.0   \n27     DMSO  10            0.2  PENDING  PENDING      PENDING       0.0   \n28     DMSO  10            0.1  PENDING  PENDING      PENDING       0.0   \n29     DMSO   0            1.0  PENDING  PENDING      PENDING       0.0   \n30     DMSO   0            0.2  PENDING  PENDING      PENDING       0.0   \n31     DMSO   0            0.1  PENDING  PENDING      PENDING       0.0   \n32     DMSO -10            0.2  PENDING  PENDING      PENDING       0.0   \n33     DMSO -10            0.1  PENDING  PENDING      PENDING       0.0   \n34      THF  10            1.0     50.3       10          0.2      -1.0   \n35     DMSO  10            1.0     20.5       40          0.1      -1.0   \n\n    yield_predicted_mean  yield_predicted_variance  \\\n0              35.389211                106.283951   \n1              35.329193                104.724311   \n2              35.398475                106.347990   \n3              35.389097                106.282733   \n4              35.389187                106.283698   \n5              34.341670                 23.938856   \n6              34.383269                 27.152537   \n7              34.393614                 27.974466   \n8              35.328145                104.684494   \n9              35.328975                104.716042   \n10             35.398490                106.348026   \n11             35.398500                106.348049   \n12             35.398502                106.348056   \n13             35.411045                106.281195   \n14             35.410954                106.282183   \n15             35.410930                106.282443   \n16             36.483954                 22.042096   \n17             36.471623                 22.946221   \n18             35.473174                104.633840   \n19             35.472326                104.666452   \n20             35.472103                104.674998   \n21             35.401525                106.347990   \n22             35.401515                106.348013   \n23             35.401513                106.348019   \n24             35.388955                106.281195   \n25             35.389046                106.282183   \n26             35.389070                106.282443   \n27             34.316046                 22.042096   \n28             34.328377                 22.946221   \n29             35.326826                104.633840   \n30             35.327674                104.666452   \n31             35.327897                104.674998   \n32             35.398485                106.348013   \n33             35.398487                106.348019   \n34             36.535251                 18.491660   \n35             34.264749                 18.491660   \n\n    yield_expected_improvement  ee_predicted_mean  ee_predicted_variance  \\\n0                    77.555477          25.010862             106.997267   \n1                    76.285865          25.071282             105.427159   \n2                    77.610820          25.001535             107.061735   \n3                    77.554453          25.010976             106.996040   \n4                    77.555264          25.010886             106.997011   \n5                    12.172579          26.065433              24.099519   \n6                    14.630186          26.023555              27.334769   \n7                    15.263226          26.013140              28.162214   \n8                    76.253682          25.072337             105.387074   \n9                    76.279182          25.071502             105.418835   \n10                   77.610856          25.001520             107.061771   \n11                   77.610879          25.001510             107.061795   \n12                   77.610885          25.001508             107.061801   \n13                   77.563590          24.988881             106.994491   \n14                   77.564334          24.988973             106.995487   \n15                   77.564529          24.988997             106.995748   \n16                   11.535728          23.908771              22.190029   \n17                   12.219169          23.921185              23.100222   \n18                   76.281768          24.926334             105.336080   \n19                   76.307324          24.927188             105.368911   \n20                   76.314020          24.927413             105.377515   \n21                   77.612260          24.998465             107.061735   \n22                   77.612274          24.998475             107.061758   \n23                   77.612278          24.998477             107.061765   \n24                   77.553162          25.011119             106.994491   \n25                   77.553992          25.011027             106.995487   \n26                   77.554210          25.011003             106.995748   \n27                   10.738592          26.091229              22.190029   \n28                   11.420326          26.078815              23.100222   \n29                   76.212747          25.073666             105.336080   \n30                   76.239101          25.072812             105.368911   \n31                   76.246008          25.072587             105.377515   \n32                   77.610843          25.001525             107.061758   \n33                   77.610850          25.001523             107.061765   \n34                    8.882106          23.857130              18.615765   \n35                    8.102098          26.142870              18.615765   \n\n    ee_expected_improvement  side_product_predicted_mean  \\\n0                 78.086238                     0.149964   \n1                 76.865090                     0.149762   \n2                 78.133148                     0.149995   \n3                 78.085316                     0.149963   \n4                 78.086046                     0.149964   \n5                 13.059380                     0.146449   \n6                 15.530646                     0.146588   \n7                 16.166053                     0.146623   \n8                 76.833685                     0.149759   \n9                 76.858569                     0.149762   \n10                78.133170                     0.149995   \n11                78.133184                     0.149995   \n12                78.133187                     0.149995   \n13                78.073653                     0.150037   \n14                78.074489                     0.150037   \n15                78.074709                     0.150037   \n16                10.810663                     0.153637   \n17                11.496972                     0.153596   \n18                76.724242                     0.150246   \n19                76.750773                     0.150243   \n20                76.757727                     0.150242   \n21                78.131698                     0.150005   \n22                78.131722                     0.150005   \n23                78.131728                     0.150005   \n24                78.084151                     0.149963   \n25                78.084900                     0.149963   \n26                78.085097                     0.149963   \n27                11.613149                     0.146363   \n28                12.301176                     0.146404   \n29                76.793727                     0.149754   \n30                76.819453                     0.149757   \n31                76.826195                     0.149758   \n32                78.133162                     0.149995   \n33                78.133166                     0.149995   \n34                 8.156474                     0.153810   \n35                 8.941717                     0.146190   \n\n    side_product_predicted_variance  side_product_expected_improvement  \n0                          0.356658                           0.426849  \n1                          0.351424                           0.422797  \n2                          0.356872                           0.427030  \n3                          0.356653                           0.426846  \n4                          0.356657                           0.426849  \n5                          0.080332                           0.250805  \n6                          0.091116                           0.253990  \n7                          0.093874                           0.254927  \n8                          0.351290                           0.422695  \n9                          0.351396                           0.422776  \n10                         0.356873                           0.427030  \n11                         0.356873                           0.427030  \n12                         0.356873                           0.427031  \n13                         0.356648                           0.426889  \n14                         0.356652                           0.426891  \n15                         0.356652                           0.426892  \n16                         0.073967                           0.256248  \n17                         0.077001                           0.256799  \n18                         0.351120                           0.422878  \n19                         0.351230                           0.422958  \n20                         0.351258                           0.422979  \n21                         0.356872                           0.427037  \n22                         0.356873                           0.427037  \n23                         0.356873                           0.427037  \n24                         0.356648                           0.426842  \n25                         0.356652                           0.426844  \n26                         0.356652                           0.426845  \n27                         0.073967                           0.249305  \n28                         0.077001                           0.249983  \n29                         0.351120                           0.422564  \n30                         0.351230                           0.422648  \n31                         0.351258                           0.422670  \n32                         0.356873                           0.427030  \n33                         0.356873                           0.427030  \n34                         0.062053                           0.254743  \n35                         0.062053                           0.247291  ",
      "text/html": "<div>\n<style scoped>\n    .dataframe tbody tr th:only-of-type {\n        vertical-align: middle;\n    }\n\n    .dataframe tbody tr th {\n        vertical-align: top;\n    }\n\n    .dataframe thead th {\n        text-align: right;\n    }\n</style>\n<table border=\"1\" class=\"dataframe\">\n  <thead>\n    <tr style=\"text-align: right;\">\n      <th></th>\n      <th>solvent</th>\n      <th>T</th>\n      <th>concentration</th>\n      <th>yield</th>\n      <th>ee</th>\n      <th>side_product</th>\n      <th>priority</th>\n      <th>yield_predicted_mean</th>\n      <th>yield_predicted_variance</th>\n      <th>yield_expected_improvement</th>\n      <th>ee_predicted_mean</th>\n      <th>ee_predicted_variance</th>\n      <th>ee_expected_improvement</th>\n      <th>side_product_predicted_mean</th>\n      <th>side_product_predicted_variance</th>\n      <th>side_product_expected_improvement</th>\n    </tr>\n  </thead>\n  <tbody>\n    <tr>\n      <th>0</th>\n      <td>Toluene</td>\n      <td>25</td>\n      <td>0.1</td>\n      <td>PENDING</td>\n      <td>PENDING</td>\n      <td>PENDING</td>\n      <td>1.0</td>\n      <td>35.389211</td>\n      <td>106.283951</td>\n      <td>77.555477</td>\n      <td>25.010862</td>\n      <td>106.997267</td>\n      <td>78.086238</td>\n      <td>0.149964</td>\n      <td>0.356658</td>\n      <td>0.426849</td>\n    </tr>\n    <tr>\n      <th>1</th>\n      <td>Toluene</td>\n      <td>0</td>\n      <td>0.1</td>\n      <td>PENDING</td>\n      <td>PENDING</td>\n      <td>PENDING</td>\n      <td>1.0</td>\n      <td>35.329193</td>\n      <td>104.724311</td>\n      <td>76.285865</td>\n      <td>25.071282</td>\n      <td>105.427159</td>\n      <td>76.865090</td>\n      <td>0.149762</td>\n      <td>0.351424</td>\n      <td>0.422797</td>\n    </tr>\n    <tr>\n      <th>2</th>\n      <td>DMSO</td>\n      <td>-10</td>\n      <td>1.0</td>\n      <td>PENDING</td>\n      <td>PENDING</td>\n      <td>PENDING</td>\n      <td>1.0</td>\n      <td>35.398475</td>\n      <td>106.347990</td>\n      <td>77.610820</td>\n      <td>25.001535</td>\n      <td>107.061735</td>\n      <td>78.133148</td>\n      <td>0.149995</td>\n      <td>0.356872</td>\n      <td>0.427030</td>\n    </tr>\n    <tr>\n      <th>3</th>\n      <td>Toluene</td>\n      <td>25</td>\n      <td>1.0</td>\n      <td>PENDING</td>\n      <td>PENDING</td>\n      <td>PENDING</td>\n      <td>0.0</td>\n      <td>35.389097</td>\n      <td>106.282733</td>\n      <td>77.554453</td>\n      <td>25.010976</td>\n      <td>106.996040</td>\n      <td>78.085316</td>\n      <td>0.149963</td>\n      <td>0.356653</td>\n      <td>0.426846</td>\n    </tr>\n    <tr>\n      <th>4</th>\n      <td>Toluene</td>\n      <td>25</td>\n      <td>0.2</td>\n      <td>PENDING</td>\n      <td>PENDING</td>\n      <td>PENDING</td>\n      <td>0.0</td>\n      <td>35.389187</td>\n      <td>106.283698</td>\n      <td>77.555264</td>\n      <td>25.010886</td>\n      <td>106.997011</td>\n      <td>78.086046</td>\n      <td>0.149964</td>\n      <td>0.356657</td>\n      <td>0.426849</td>\n    </tr>\n    <tr>\n      <th>5</th>\n      <td>Toluene</td>\n      <td>10</td>\n      <td>1.0</td>\n      <td>PENDING</td>\n      <td>PENDING</td>\n      <td>PENDING</td>\n      <td>0.0</td>\n      <td>34.341670</td>\n      <td>23.938856</td>\n      <td>12.172579</td>\n      <td>26.065433</td>\n      <td>24.099519</td>\n      <td>13.059380</td>\n      <td>0.146449</td>\n      <td>0.080332</td>\n      <td>0.250805</td>\n    </tr>\n    <tr>\n      <th>6</th>\n      <td>Toluene</td>\n      <td>10</td>\n      <td>0.2</td>\n      <td>PENDING</td>\n      <td>PENDING</td>\n      <td>PENDING</td>\n      <td>0.0</td>\n      <td>34.383269</td>\n      <td>27.152537</td>\n      <td>14.630186</td>\n      <td>26.023555</td>\n      <td>27.334769</td>\n      <td>15.530646</td>\n      <td>0.146588</td>\n      <td>0.091116</td>\n      <td>0.253990</td>\n    </tr>\n    <tr>\n      <th>7</th>\n      <td>Toluene</td>\n      <td>10</td>\n      <td>0.1</td>\n      <td>PENDING</td>\n      <td>PENDING</td>\n      <td>PENDING</td>\n      <td>0.0</td>\n      <td>34.393614</td>\n      <td>27.974466</td>\n      <td>15.263226</td>\n      <td>26.013140</td>\n      <td>28.162214</td>\n      <td>16.166053</td>\n      <td>0.146623</td>\n      <td>0.093874</td>\n      <td>0.254927</td>\n    </tr>\n    <tr>\n      <th>8</th>\n      <td>Toluene</td>\n      <td>0</td>\n      <td>1.0</td>\n      <td>PENDING</td>\n      <td>PENDING</td>\n      <td>PENDING</td>\n      <td>0.0</td>\n      <td>35.328145</td>\n      <td>104.684494</td>\n      <td>76.253682</td>\n      <td>25.072337</td>\n      <td>105.387074</td>\n      <td>76.833685</td>\n      <td>0.149759</td>\n      <td>0.351290</td>\n      <td>0.422695</td>\n    </tr>\n    <tr>\n      <th>9</th>\n      <td>Toluene</td>\n      <td>0</td>\n      <td>0.2</td>\n      <td>PENDING</td>\n      <td>PENDING</td>\n      <td>PENDING</td>\n      <td>0.0</td>\n      <td>35.328975</td>\n      <td>104.716042</td>\n      <td>76.279182</td>\n      <td>25.071502</td>\n      <td>105.418835</td>\n      <td>76.858569</td>\n      <td>0.149762</td>\n      <td>0.351396</td>\n      <td>0.422776</td>\n    </tr>\n    <tr>\n      <th>10</th>\n      <td>Toluene</td>\n      <td>-10</td>\n      <td>1.0</td>\n      <td>PENDING</td>\n      <td>PENDING</td>\n      <td>PENDING</td>\n      <td>0.0</td>\n      <td>35.398490</td>\n      <td>106.348026</td>\n      <td>77.610856</td>\n      <td>25.001520</td>\n      <td>107.061771</td>\n      <td>78.133170</td>\n      <td>0.149995</td>\n      <td>0.356873</td>\n      <td>0.427030</td>\n    </tr>\n    <tr>\n      <th>11</th>\n      <td>Toluene</td>\n      <td>-10</td>\n      <td>0.2</td>\n      <td>PENDING</td>\n      <td>PENDING</td>\n      <td>PENDING</td>\n      <td>0.0</td>\n      <td>35.398500</td>\n      <td>106.348049</td>\n      <td>77.610879</td>\n      <td>25.001510</td>\n      <td>107.061795</td>\n      <td>78.133184</td>\n      <td>0.149995</td>\n      <td>0.356873</td>\n      <td>0.427030</td>\n    </tr>\n    <tr>\n      <th>12</th>\n      <td>Toluene</td>\n      <td>-10</td>\n      <td>0.1</td>\n      <td>PENDING</td>\n      <td>PENDING</td>\n      <td>PENDING</td>\n      <td>0.0</td>\n      <td>35.398502</td>\n      <td>106.348056</td>\n      <td>77.610885</td>\n      <td>25.001508</td>\n      <td>107.061801</td>\n      <td>78.133187</td>\n      <td>0.149995</td>\n      <td>0.356873</td>\n      <td>0.427031</td>\n    </tr>\n    <tr>\n      <th>13</th>\n      <td>THF</td>\n      <td>25</td>\n      <td>1.0</td>\n      <td>PENDING</td>\n      <td>PENDING</td>\n      <td>PENDING</td>\n      <td>0.0</td>\n      <td>35.411045</td>\n      <td>106.281195</td>\n      <td>77.563590</td>\n      <td>24.988881</td>\n      <td>106.994491</td>\n      <td>78.073653</td>\n      <td>0.150037</td>\n      <td>0.356648</td>\n      <td>0.426889</td>\n    </tr>\n    <tr>\n      <th>14</th>\n      <td>THF</td>\n      <td>25</td>\n      <td>0.2</td>\n      <td>PENDING</td>\n      <td>PENDING</td>\n      <td>PENDING</td>\n      <td>0.0</td>\n      <td>35.410954</td>\n      <td>106.282183</td>\n      <td>77.564334</td>\n      <td>24.988973</td>\n      <td>106.995487</td>\n      <td>78.074489</td>\n      <td>0.150037</td>\n      <td>0.356652</td>\n      <td>0.426891</td>\n    </tr>\n    <tr>\n      <th>15</th>\n      <td>THF</td>\n      <td>25</td>\n      <td>0.1</td>\n      <td>PENDING</td>\n      <td>PENDING</td>\n      <td>PENDING</td>\n      <td>0.0</td>\n      <td>35.410930</td>\n      <td>106.282443</td>\n      <td>77.564529</td>\n      <td>24.988997</td>\n      <td>106.995748</td>\n      <td>78.074709</td>\n      <td>0.150037</td>\n      <td>0.356652</td>\n      <td>0.426892</td>\n    </tr>\n    <tr>\n      <th>16</th>\n      <td>THF</td>\n      <td>10</td>\n      <td>0.2</td>\n      <td>PENDING</td>\n      <td>PENDING</td>\n      <td>PENDING</td>\n      <td>0.0</td>\n      <td>36.483954</td>\n      <td>22.042096</td>\n      <td>11.535728</td>\n      <td>23.908771</td>\n      <td>22.190029</td>\n      <td>10.810663</td>\n      <td>0.153637</td>\n      <td>0.073967</td>\n      <td>0.256248</td>\n    </tr>\n    <tr>\n      <th>17</th>\n      <td>THF</td>\n      <td>10</td>\n      <td>0.1</td>\n      <td>PENDING</td>\n      <td>PENDING</td>\n      <td>PENDING</td>\n      <td>0.0</td>\n      <td>36.471623</td>\n      <td>22.946221</td>\n      <td>12.219169</td>\n      <td>23.921185</td>\n      <td>23.100222</td>\n      <td>11.496972</td>\n      <td>0.153596</td>\n      <td>0.077001</td>\n      <td>0.256799</td>\n    </tr>\n    <tr>\n      <th>18</th>\n      <td>THF</td>\n      <td>0</td>\n      <td>1.0</td>\n      <td>PENDING</td>\n      <td>PENDING</td>\n      <td>PENDING</td>\n      <td>0.0</td>\n      <td>35.473174</td>\n      <td>104.633840</td>\n      <td>76.281768</td>\n      <td>24.926334</td>\n      <td>105.336080</td>\n      <td>76.724242</td>\n      <td>0.150246</td>\n      <td>0.351120</td>\n      <td>0.422878</td>\n    </tr>\n    <tr>\n      <th>19</th>\n      <td>THF</td>\n      <td>0</td>\n      <td>0.2</td>\n      <td>PENDING</td>\n      <td>PENDING</td>\n      <td>PENDING</td>\n      <td>0.0</td>\n      <td>35.472326</td>\n      <td>104.666452</td>\n      <td>76.307324</td>\n      <td>24.927188</td>\n      <td>105.368911</td>\n      <td>76.750773</td>\n      <td>0.150243</td>\n      <td>0.351230</td>\n      <td>0.422958</td>\n    </tr>\n    <tr>\n      <th>20</th>\n      <td>THF</td>\n      <td>0</td>\n      <td>0.1</td>\n      <td>PENDING</td>\n      <td>PENDING</td>\n      <td>PENDING</td>\n      <td>0.0</td>\n      <td>35.472103</td>\n      <td>104.674998</td>\n      <td>76.314020</td>\n      <td>24.927413</td>\n      <td>105.377515</td>\n      <td>76.757727</td>\n      <td>0.150242</td>\n      <td>0.351258</td>\n      <td>0.422979</td>\n    </tr>\n    <tr>\n      <th>21</th>\n      <td>THF</td>\n      <td>-10</td>\n      <td>1.0</td>\n      <td>PENDING</td>\n      <td>PENDING</td>\n      <td>PENDING</td>\n      <td>0.0</td>\n      <td>35.401525</td>\n      <td>106.347990</td>\n      <td>77.612260</td>\n      <td>24.998465</td>\n      <td>107.061735</td>\n      <td>78.131698</td>\n      <td>0.150005</td>\n      <td>0.356872</td>\n      <td>0.427037</td>\n    </tr>\n    <tr>\n      <th>22</th>\n      <td>THF</td>\n      <td>-10</td>\n      <td>0.2</td>\n      <td>PENDING</td>\n      <td>PENDING</td>\n      <td>PENDING</td>\n      <td>0.0</td>\n      <td>35.401515</td>\n      <td>106.348013</td>\n      <td>77.612274</td>\n      <td>24.998475</td>\n      <td>107.061758</td>\n      <td>78.131722</td>\n      <td>0.150005</td>\n      <td>0.356873</td>\n      <td>0.427037</td>\n    </tr>\n    <tr>\n      <th>23</th>\n      <td>THF</td>\n      <td>-10</td>\n      <td>0.1</td>\n      <td>PENDING</td>\n      <td>PENDING</td>\n      <td>PENDING</td>\n      <td>0.0</td>\n      <td>35.401513</td>\n      <td>106.348019</td>\n      <td>77.612278</td>\n      <td>24.998477</td>\n      <td>107.061765</td>\n      <td>78.131728</td>\n      <td>0.150005</td>\n      <td>0.356873</td>\n      <td>0.427037</td>\n    </tr>\n    <tr>\n      <th>24</th>\n      <td>DMSO</td>\n      <td>25</td>\n      <td>1.0</td>\n      <td>PENDING</td>\n      <td>PENDING</td>\n      <td>PENDING</td>\n      <td>0.0</td>\n      <td>35.388955</td>\n      <td>106.281195</td>\n      <td>77.553162</td>\n      <td>25.011119</td>\n      <td>106.994491</td>\n      <td>78.084151</td>\n      <td>0.149963</td>\n      <td>0.356648</td>\n      <td>0.426842</td>\n    </tr>\n    <tr>\n      <th>25</th>\n      <td>DMSO</td>\n      <td>25</td>\n      <td>0.2</td>\n      <td>PENDING</td>\n      <td>PENDING</td>\n      <td>PENDING</td>\n      <td>0.0</td>\n      <td>35.389046</td>\n      <td>106.282183</td>\n      <td>77.553992</td>\n      <td>25.011027</td>\n      <td>106.995487</td>\n      <td>78.084900</td>\n      <td>0.149963</td>\n      <td>0.356652</td>\n      <td>0.426844</td>\n    </tr>\n    <tr>\n      <th>26</th>\n      <td>DMSO</td>\n      <td>25</td>\n      <td>0.1</td>\n      <td>PENDING</td>\n      <td>PENDING</td>\n      <td>PENDING</td>\n      <td>0.0</td>\n      <td>35.389070</td>\n      <td>106.282443</td>\n      <td>77.554210</td>\n      <td>25.011003</td>\n      <td>106.995748</td>\n      <td>78.085097</td>\n      <td>0.149963</td>\n      <td>0.356652</td>\n      <td>0.426845</td>\n    </tr>\n    <tr>\n      <th>27</th>\n      <td>DMSO</td>\n      <td>10</td>\n      <td>0.2</td>\n      <td>PENDING</td>\n      <td>PENDING</td>\n      <td>PENDING</td>\n      <td>0.0</td>\n      <td>34.316046</td>\n      <td>22.042096</td>\n      <td>10.738592</td>\n      <td>26.091229</td>\n      <td>22.190029</td>\n      <td>11.613149</td>\n      <td>0.146363</td>\n      <td>0.073967</td>\n      <td>0.249305</td>\n    </tr>\n    <tr>\n      <th>28</th>\n      <td>DMSO</td>\n      <td>10</td>\n      <td>0.1</td>\n      <td>PENDING</td>\n      <td>PENDING</td>\n      <td>PENDING</td>\n      <td>0.0</td>\n      <td>34.328377</td>\n      <td>22.946221</td>\n      <td>11.420326</td>\n      <td>26.078815</td>\n      <td>23.100222</td>\n      <td>12.301176</td>\n      <td>0.146404</td>\n      <td>0.077001</td>\n      <td>0.249983</td>\n    </tr>\n    <tr>\n      <th>29</th>\n      <td>DMSO</td>\n      <td>0</td>\n      <td>1.0</td>\n      <td>PENDING</td>\n      <td>PENDING</td>\n      <td>PENDING</td>\n      <td>0.0</td>\n      <td>35.326826</td>\n      <td>104.633840</td>\n      <td>76.212747</td>\n      <td>25.073666</td>\n      <td>105.336080</td>\n      <td>76.793727</td>\n      <td>0.149754</td>\n      <td>0.351120</td>\n      <td>0.422564</td>\n    </tr>\n    <tr>\n      <th>30</th>\n      <td>DMSO</td>\n      <td>0</td>\n      <td>0.2</td>\n      <td>PENDING</td>\n      <td>PENDING</td>\n      <td>PENDING</td>\n      <td>0.0</td>\n      <td>35.327674</td>\n      <td>104.666452</td>\n      <td>76.239101</td>\n      <td>25.072812</td>\n      <td>105.368911</td>\n      <td>76.819453</td>\n      <td>0.149757</td>\n      <td>0.351230</td>\n      <td>0.422648</td>\n    </tr>\n    <tr>\n      <th>31</th>\n      <td>DMSO</td>\n      <td>0</td>\n      <td>0.1</td>\n      <td>PENDING</td>\n      <td>PENDING</td>\n      <td>PENDING</td>\n      <td>0.0</td>\n      <td>35.327897</td>\n      <td>104.674998</td>\n      <td>76.246008</td>\n      <td>25.072587</td>\n      <td>105.377515</td>\n      <td>76.826195</td>\n      <td>0.149758</td>\n      <td>0.351258</td>\n      <td>0.422670</td>\n    </tr>\n    <tr>\n      <th>32</th>\n      <td>DMSO</td>\n      <td>-10</td>\n      <td>0.2</td>\n      <td>PENDING</td>\n      <td>PENDING</td>\n      <td>PENDING</td>\n      <td>0.0</td>\n      <td>35.398485</td>\n      <td>106.348013</td>\n      <td>77.610843</td>\n      <td>25.001525</td>\n      <td>107.061758</td>\n      <td>78.133162</td>\n      <td>0.149995</td>\n      <td>0.356873</td>\n      <td>0.427030</td>\n    </tr>\n    <tr>\n      <th>33</th>\n      <td>DMSO</td>\n      <td>-10</td>\n      <td>0.1</td>\n      <td>PENDING</td>\n      <td>PENDING</td>\n      <td>PENDING</td>\n      <td>0.0</td>\n      <td>35.398487</td>\n      <td>106.348019</td>\n      <td>77.610850</td>\n      <td>25.001523</td>\n      <td>107.061765</td>\n      <td>78.133166</td>\n      <td>0.149995</td>\n      <td>0.356873</td>\n      <td>0.427030</td>\n    </tr>\n    <tr>\n      <th>34</th>\n      <td>THF</td>\n      <td>10</td>\n      <td>1.0</td>\n      <td>50.3</td>\n      <td>10</td>\n      <td>0.2</td>\n      <td>-1.0</td>\n      <td>36.535251</td>\n      <td>18.491660</td>\n      <td>8.882106</td>\n      <td>23.857130</td>\n      <td>18.615765</td>\n      <td>8.156474</td>\n      <td>0.153810</td>\n      <td>0.062053</td>\n      <td>0.254743</td>\n    </tr>\n    <tr>\n      <th>35</th>\n      <td>DMSO</td>\n      <td>10</td>\n      <td>1.0</td>\n      <td>20.5</td>\n      <td>40</td>\n      <td>0.1</td>\n      <td>-1.0</td>\n      <td>34.264749</td>\n      <td>18.491660</td>\n      <td>8.102098</td>\n      <td>26.142870</td>\n      <td>18.615765</td>\n      <td>8.941717</td>\n      <td>0.146190</td>\n      <td>0.062053</td>\n      <td>0.247291</td>\n    </tr>\n  </tbody>\n</table>\n</div>"
     },
     "execution_count": 45,
     "metadata": {},
     "output_type": "execute_result"
    }
   ],
   "source": [
    "df_predictions_round0 = pd.read_csv('pred_my_optimization_round0.csv')\n",
    "df_predictions_round0.style.background_gradient(subset=['priority'], cmap='plasma')\n",
    "df_predictions_round0"
   ]
  },
  {
   "cell_type": "markdown",
   "id": "7f5ce5e6-08ab-425f-abb4-4fe190c78677",
   "metadata": {},
   "source": [
    "##### In the previous dataset we can access the model predictions ($\\bf{predicted\\_mean}$ and $\\bf{predicted\\_variance}$ columns) but also to the expected improvement values (in the $\\bf{expected\\_improvement}$ columns) for each objective ($\\bf{yield}$, $\\bf{ee}$ and $\\bf{side\\_product}$.)."
   ]
  },
  {
   "cell_type": "code",
   "execution_count": 42,
   "id": "3747c6bf-2885-425f-ab4e-dc2889216d04",
   "metadata": {
    "ExecuteTime": {
     "end_time": "2023-09-21T13:56:33.288987Z",
     "start_time": "2023-09-21T13:56:33.281681Z"
    }
   },
   "outputs": [],
   "source": []
  }
 ],
 "metadata": {
  "kernelspec": {
   "display_name": "Python 3.7.5",
   "language": "python",
   "name": "python3"
  },
  "language_info": {
   "codemirror_mode": {
    "name": "ipython",
    "version": 3
   },
   "file_extension": ".py",
   "mimetype": "text/x-python",
   "name": "python",
   "nbconvert_exporter": "python",
   "pygments_lexer": "ipython3",
   "version": "3.7.5"
  },
  "vscode": {
   "interpreter": {
    "hash": "f6b50c482b94d49566f339c9bbaa80fe4f4c53d65f91d29ce8fa084769027490"
   }
  }
 },
 "nbformat": 4,
 "nbformat_minor": 5
}
