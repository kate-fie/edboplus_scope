{
 "cells": [
  {
   "cell_type": "code",
   "execution_count": 2,
   "id": "initial_id",
   "metadata": {
    "collapsed": true,
    "ExecuteTime": {
     "end_time": "2023-10-03T19:00:40.921187Z",
     "start_time": "2023-10-03T19:00:39.154139Z"
    }
   },
   "outputs": [],
   "source": [
    "%load_ext autoreload\n",
    "%autoreload 2\n",
    "%reload_ext autoreload\n",
    "\n",
    "import pandas as pd\n",
    "import torch\n",
    "from sklearn.decomposition import PCA\n",
    "from tqdm import tqdm\n",
    "from rdkit import Chem, DataStructs\n",
    "from rdkit.Chem import AllChem\n",
    "import numpy as np\n",
    "import seaborn as sns\n",
    "import os\n",
    "from chemUtils.utils import utils\n",
    "import matplotlib.pyplot as plt\n",
    "from sklearn.manifold import TSNE\n",
    "\n",
    "from matplotlib.lines import Line2D\n",
    "import plotly.express as px\n",
    "import json"
   ]
  },
  {
   "cell_type": "code",
   "execution_count": 2,
   "outputs": [
    {
     "ename": "FileNotFoundError",
     "evalue": "[Errno 2] No such file or directory: 'figure_S2.csv'",
     "output_type": "error",
     "traceback": [
      "\u001B[0;31m---------------------------------------------------------------------------\u001B[0m",
      "\u001B[0;31mFileNotFoundError\u001B[0m                         Traceback (most recent call last)",
      "\u001B[0;32m/var/folders/sg/gb03t0zx5sz8vw2lxlghz1gr0000gn/T/ipykernel_64978/1575397259.py\u001B[0m in \u001B[0;36m<module>\u001B[0;34m\u001B[0m\n\u001B[0;32m----> 1\u001B[0;31m \u001B[0mdata\u001B[0m \u001B[0;34m=\u001B[0m \u001B[0mpd\u001B[0m\u001B[0;34m.\u001B[0m\u001B[0mread_csv\u001B[0m\u001B[0;34m(\u001B[0m\u001B[0;34m'figure_S2.csv'\u001B[0m\u001B[0;34m)\u001B[0m\u001B[0;34m\u001B[0m\u001B[0;34m\u001B[0m\u001B[0m\n\u001B[0m",
      "\u001B[0;32m/opt/homebrew/anaconda3/envs/edboplus_scope/lib/python3.8/site-packages/pandas/util/_decorators.py\u001B[0m in \u001B[0;36mwrapper\u001B[0;34m(*args, **kwargs)\u001B[0m\n\u001B[1;32m    309\u001B[0m                     \u001B[0mstacklevel\u001B[0m\u001B[0;34m=\u001B[0m\u001B[0mstacklevel\u001B[0m\u001B[0;34m,\u001B[0m\u001B[0;34m\u001B[0m\u001B[0;34m\u001B[0m\u001B[0m\n\u001B[1;32m    310\u001B[0m                 )\n\u001B[0;32m--> 311\u001B[0;31m             \u001B[0;32mreturn\u001B[0m \u001B[0mfunc\u001B[0m\u001B[0;34m(\u001B[0m\u001B[0;34m*\u001B[0m\u001B[0margs\u001B[0m\u001B[0;34m,\u001B[0m \u001B[0;34m**\u001B[0m\u001B[0mkwargs\u001B[0m\u001B[0;34m)\u001B[0m\u001B[0;34m\u001B[0m\u001B[0;34m\u001B[0m\u001B[0m\n\u001B[0m\u001B[1;32m    312\u001B[0m \u001B[0;34m\u001B[0m\u001B[0m\n\u001B[1;32m    313\u001B[0m         \u001B[0;32mreturn\u001B[0m \u001B[0mwrapper\u001B[0m\u001B[0;34m\u001B[0m\u001B[0;34m\u001B[0m\u001B[0m\n",
      "\u001B[0;32m/opt/homebrew/anaconda3/envs/edboplus_scope/lib/python3.8/site-packages/pandas/io/parsers/readers.py\u001B[0m in \u001B[0;36mread_csv\u001B[0;34m(filepath_or_buffer, sep, delimiter, header, names, index_col, usecols, squeeze, prefix, mangle_dupe_cols, dtype, engine, converters, true_values, false_values, skipinitialspace, skiprows, skipfooter, nrows, na_values, keep_default_na, na_filter, verbose, skip_blank_lines, parse_dates, infer_datetime_format, keep_date_col, date_parser, dayfirst, cache_dates, iterator, chunksize, compression, thousands, decimal, lineterminator, quotechar, quoting, doublequote, escapechar, comment, encoding, encoding_errors, dialect, error_bad_lines, warn_bad_lines, on_bad_lines, delim_whitespace, low_memory, memory_map, float_precision, storage_options)\u001B[0m\n\u001B[1;32m    584\u001B[0m     \u001B[0mkwds\u001B[0m\u001B[0;34m.\u001B[0m\u001B[0mupdate\u001B[0m\u001B[0;34m(\u001B[0m\u001B[0mkwds_defaults\u001B[0m\u001B[0;34m)\u001B[0m\u001B[0;34m\u001B[0m\u001B[0;34m\u001B[0m\u001B[0m\n\u001B[1;32m    585\u001B[0m \u001B[0;34m\u001B[0m\u001B[0m\n\u001B[0;32m--> 586\u001B[0;31m     \u001B[0;32mreturn\u001B[0m \u001B[0m_read\u001B[0m\u001B[0;34m(\u001B[0m\u001B[0mfilepath_or_buffer\u001B[0m\u001B[0;34m,\u001B[0m \u001B[0mkwds\u001B[0m\u001B[0;34m)\u001B[0m\u001B[0;34m\u001B[0m\u001B[0;34m\u001B[0m\u001B[0m\n\u001B[0m\u001B[1;32m    587\u001B[0m \u001B[0;34m\u001B[0m\u001B[0m\n\u001B[1;32m    588\u001B[0m \u001B[0;34m\u001B[0m\u001B[0m\n",
      "\u001B[0;32m/opt/homebrew/anaconda3/envs/edboplus_scope/lib/python3.8/site-packages/pandas/io/parsers/readers.py\u001B[0m in \u001B[0;36m_read\u001B[0;34m(filepath_or_buffer, kwds)\u001B[0m\n\u001B[1;32m    480\u001B[0m \u001B[0;34m\u001B[0m\u001B[0m\n\u001B[1;32m    481\u001B[0m     \u001B[0;31m# Create the parser.\u001B[0m\u001B[0;34m\u001B[0m\u001B[0;34m\u001B[0m\u001B[0;34m\u001B[0m\u001B[0m\n\u001B[0;32m--> 482\u001B[0;31m     \u001B[0mparser\u001B[0m \u001B[0;34m=\u001B[0m \u001B[0mTextFileReader\u001B[0m\u001B[0;34m(\u001B[0m\u001B[0mfilepath_or_buffer\u001B[0m\u001B[0;34m,\u001B[0m \u001B[0;34m**\u001B[0m\u001B[0mkwds\u001B[0m\u001B[0;34m)\u001B[0m\u001B[0;34m\u001B[0m\u001B[0;34m\u001B[0m\u001B[0m\n\u001B[0m\u001B[1;32m    483\u001B[0m \u001B[0;34m\u001B[0m\u001B[0m\n\u001B[1;32m    484\u001B[0m     \u001B[0;32mif\u001B[0m \u001B[0mchunksize\u001B[0m \u001B[0;32mor\u001B[0m \u001B[0miterator\u001B[0m\u001B[0;34m:\u001B[0m\u001B[0;34m\u001B[0m\u001B[0;34m\u001B[0m\u001B[0m\n",
      "\u001B[0;32m/opt/homebrew/anaconda3/envs/edboplus_scope/lib/python3.8/site-packages/pandas/io/parsers/readers.py\u001B[0m in \u001B[0;36m__init__\u001B[0;34m(self, f, engine, **kwds)\u001B[0m\n\u001B[1;32m    809\u001B[0m             \u001B[0mself\u001B[0m\u001B[0;34m.\u001B[0m\u001B[0moptions\u001B[0m\u001B[0;34m[\u001B[0m\u001B[0;34m\"has_index_names\"\u001B[0m\u001B[0;34m]\u001B[0m \u001B[0;34m=\u001B[0m \u001B[0mkwds\u001B[0m\u001B[0;34m[\u001B[0m\u001B[0;34m\"has_index_names\"\u001B[0m\u001B[0;34m]\u001B[0m\u001B[0;34m\u001B[0m\u001B[0;34m\u001B[0m\u001B[0m\n\u001B[1;32m    810\u001B[0m \u001B[0;34m\u001B[0m\u001B[0m\n\u001B[0;32m--> 811\u001B[0;31m         \u001B[0mself\u001B[0m\u001B[0;34m.\u001B[0m\u001B[0m_engine\u001B[0m \u001B[0;34m=\u001B[0m \u001B[0mself\u001B[0m\u001B[0;34m.\u001B[0m\u001B[0m_make_engine\u001B[0m\u001B[0;34m(\u001B[0m\u001B[0mself\u001B[0m\u001B[0;34m.\u001B[0m\u001B[0mengine\u001B[0m\u001B[0;34m)\u001B[0m\u001B[0;34m\u001B[0m\u001B[0;34m\u001B[0m\u001B[0m\n\u001B[0m\u001B[1;32m    812\u001B[0m \u001B[0;34m\u001B[0m\u001B[0m\n\u001B[1;32m    813\u001B[0m     \u001B[0;32mdef\u001B[0m \u001B[0mclose\u001B[0m\u001B[0;34m(\u001B[0m\u001B[0mself\u001B[0m\u001B[0;34m)\u001B[0m\u001B[0;34m:\u001B[0m\u001B[0;34m\u001B[0m\u001B[0;34m\u001B[0m\u001B[0m\n",
      "\u001B[0;32m/opt/homebrew/anaconda3/envs/edboplus_scope/lib/python3.8/site-packages/pandas/io/parsers/readers.py\u001B[0m in \u001B[0;36m_make_engine\u001B[0;34m(self, engine)\u001B[0m\n\u001B[1;32m   1038\u001B[0m             )\n\u001B[1;32m   1039\u001B[0m         \u001B[0;31m# error: Too many arguments for \"ParserBase\"\u001B[0m\u001B[0;34m\u001B[0m\u001B[0;34m\u001B[0m\u001B[0;34m\u001B[0m\u001B[0m\n\u001B[0;32m-> 1040\u001B[0;31m         \u001B[0;32mreturn\u001B[0m \u001B[0mmapping\u001B[0m\u001B[0;34m[\u001B[0m\u001B[0mengine\u001B[0m\u001B[0;34m]\u001B[0m\u001B[0;34m(\u001B[0m\u001B[0mself\u001B[0m\u001B[0;34m.\u001B[0m\u001B[0mf\u001B[0m\u001B[0;34m,\u001B[0m \u001B[0;34m**\u001B[0m\u001B[0mself\u001B[0m\u001B[0;34m.\u001B[0m\u001B[0moptions\u001B[0m\u001B[0;34m)\u001B[0m  \u001B[0;31m# type: ignore[call-arg]\u001B[0m\u001B[0;34m\u001B[0m\u001B[0;34m\u001B[0m\u001B[0m\n\u001B[0m\u001B[1;32m   1041\u001B[0m \u001B[0;34m\u001B[0m\u001B[0m\n\u001B[1;32m   1042\u001B[0m     \u001B[0;32mdef\u001B[0m \u001B[0m_failover_to_python\u001B[0m\u001B[0;34m(\u001B[0m\u001B[0mself\u001B[0m\u001B[0;34m)\u001B[0m\u001B[0;34m:\u001B[0m\u001B[0;34m\u001B[0m\u001B[0;34m\u001B[0m\u001B[0m\n",
      "\u001B[0;32m/opt/homebrew/anaconda3/envs/edboplus_scope/lib/python3.8/site-packages/pandas/io/parsers/c_parser_wrapper.py\u001B[0m in \u001B[0;36m__init__\u001B[0;34m(self, src, **kwds)\u001B[0m\n\u001B[1;32m     49\u001B[0m \u001B[0;34m\u001B[0m\u001B[0m\n\u001B[1;32m     50\u001B[0m         \u001B[0;31m# open handles\u001B[0m\u001B[0;34m\u001B[0m\u001B[0;34m\u001B[0m\u001B[0;34m\u001B[0m\u001B[0m\n\u001B[0;32m---> 51\u001B[0;31m         \u001B[0mself\u001B[0m\u001B[0;34m.\u001B[0m\u001B[0m_open_handles\u001B[0m\u001B[0;34m(\u001B[0m\u001B[0msrc\u001B[0m\u001B[0;34m,\u001B[0m \u001B[0mkwds\u001B[0m\u001B[0;34m)\u001B[0m\u001B[0;34m\u001B[0m\u001B[0;34m\u001B[0m\u001B[0m\n\u001B[0m\u001B[1;32m     52\u001B[0m         \u001B[0;32massert\u001B[0m \u001B[0mself\u001B[0m\u001B[0;34m.\u001B[0m\u001B[0mhandles\u001B[0m \u001B[0;32mis\u001B[0m \u001B[0;32mnot\u001B[0m \u001B[0;32mNone\u001B[0m\u001B[0;34m\u001B[0m\u001B[0;34m\u001B[0m\u001B[0m\n\u001B[1;32m     53\u001B[0m \u001B[0;34m\u001B[0m\u001B[0m\n",
      "\u001B[0;32m/opt/homebrew/anaconda3/envs/edboplus_scope/lib/python3.8/site-packages/pandas/io/parsers/base_parser.py\u001B[0m in \u001B[0;36m_open_handles\u001B[0;34m(self, src, kwds)\u001B[0m\n\u001B[1;32m    220\u001B[0m         \u001B[0mLet\u001B[0m \u001B[0mthe\u001B[0m \u001B[0mreaders\u001B[0m \u001B[0mopen\u001B[0m \u001B[0mIOHandles\u001B[0m \u001B[0mafter\u001B[0m \u001B[0mthey\u001B[0m \u001B[0mare\u001B[0m \u001B[0mdone\u001B[0m \u001B[0;32mwith\u001B[0m \u001B[0mtheir\u001B[0m \u001B[0mpotential\u001B[0m \u001B[0mraises\u001B[0m\u001B[0;34m.\u001B[0m\u001B[0;34m\u001B[0m\u001B[0;34m\u001B[0m\u001B[0m\n\u001B[1;32m    221\u001B[0m         \"\"\"\n\u001B[0;32m--> 222\u001B[0;31m         self.handles = get_handle(\n\u001B[0m\u001B[1;32m    223\u001B[0m             \u001B[0msrc\u001B[0m\u001B[0;34m,\u001B[0m\u001B[0;34m\u001B[0m\u001B[0;34m\u001B[0m\u001B[0m\n\u001B[1;32m    224\u001B[0m             \u001B[0;34m\"r\"\u001B[0m\u001B[0;34m,\u001B[0m\u001B[0;34m\u001B[0m\u001B[0;34m\u001B[0m\u001B[0m\n",
      "\u001B[0;32m/opt/homebrew/anaconda3/envs/edboplus_scope/lib/python3.8/site-packages/pandas/io/common.py\u001B[0m in \u001B[0;36mget_handle\u001B[0;34m(path_or_buf, mode, encoding, compression, memory_map, is_text, errors, storage_options)\u001B[0m\n\u001B[1;32m    700\u001B[0m         \u001B[0;32mif\u001B[0m \u001B[0mioargs\u001B[0m\u001B[0;34m.\u001B[0m\u001B[0mencoding\u001B[0m \u001B[0;32mand\u001B[0m \u001B[0;34m\"b\"\u001B[0m \u001B[0;32mnot\u001B[0m \u001B[0;32min\u001B[0m \u001B[0mioargs\u001B[0m\u001B[0;34m.\u001B[0m\u001B[0mmode\u001B[0m\u001B[0;34m:\u001B[0m\u001B[0;34m\u001B[0m\u001B[0;34m\u001B[0m\u001B[0m\n\u001B[1;32m    701\u001B[0m             \u001B[0;31m# Encoding\u001B[0m\u001B[0;34m\u001B[0m\u001B[0;34m\u001B[0m\u001B[0;34m\u001B[0m\u001B[0m\n\u001B[0;32m--> 702\u001B[0;31m             handle = open(\n\u001B[0m\u001B[1;32m    703\u001B[0m                 \u001B[0mhandle\u001B[0m\u001B[0;34m,\u001B[0m\u001B[0;34m\u001B[0m\u001B[0;34m\u001B[0m\u001B[0m\n\u001B[1;32m    704\u001B[0m                 \u001B[0mioargs\u001B[0m\u001B[0;34m.\u001B[0m\u001B[0mmode\u001B[0m\u001B[0;34m,\u001B[0m\u001B[0;34m\u001B[0m\u001B[0;34m\u001B[0m\u001B[0m\n",
      "\u001B[0;31mFileNotFoundError\u001B[0m: [Errno 2] No such file or directory: 'figure_S2.csv'"
     ]
    }
   ],
   "source": [
    "data = pd.read_csv('figure_S2.csv')"
   ],
   "metadata": {
    "collapsed": false,
    "ExecuteTime": {
     "end_time": "2023-10-03T18:58:27.838983Z",
     "start_time": "2023-10-03T18:58:27.486588Z"
    }
   },
   "id": "aae060797b33c233"
  },
  {
   "cell_type": "code",
   "execution_count": null,
   "outputs": [],
   "source": [
    "data"
   ],
   "metadata": {
    "collapsed": false,
    "ExecuteTime": {
     "end_time": "2023-10-03T18:58:27.840724Z",
     "start_time": "2023-10-03T18:58:27.840531Z"
    }
   },
   "id": "70c5d9bf38a5bef"
  },
  {
   "cell_type": "code",
   "execution_count": null,
   "outputs": [],
   "source": [
    "data.iloc[8]"
   ],
   "metadata": {
    "collapsed": false,
    "ExecuteTime": {
     "end_time": "2023-10-03T18:58:27.873524Z",
     "start_time": "2023-10-03T18:58:27.841379Z"
    }
   },
   "id": "a7c4e4f3d4613dd7"
  },
  {
   "cell_type": "code",
   "execution_count": null,
   "outputs": [],
   "source": [
    "def extract_rxn_conditions(old_df, df):\n",
    "    # Extract metadata from the 0,0 entry\n",
    "    print(df)\n",
    "    if old_df is None:\n",
    "        metadata = df.columns[0].split(\", \")\n",
    "    else:\n",
    "        metadata = df.iloc[0,0].split(\", \")\n",
    "    print(metadata)\n",
    "    T = metadata[0][:-1]\n",
    "    time = metadata[1].split(\" \")[0][:-1]\n",
    "    base, solvent = metadata[2:4]\n",
    "    round_num = metadata[4][1]\n",
    "    \n",
    "    # Create an empty DataFrame with the desired columns\n",
    "    new_df = pd.DataFrame(columns=['A', 'B', 'solvent', 'base', 'T', 'time', 'round_num', 'peak_height'])\n",
    "    \n",
    "    # Populate the new DataFrame\n",
    "    for col in df.columns[1:]:\n",
    "        for index, row in df.iterrows():\n",
    "            if \"C\" in row[0]:\n",
    "                continue\n",
    "            new_row = {\n",
    "                'A': row[0],\n",
    "                'B': col,\n",
    "                'solvent': solvent,\n",
    "                'base': base,\n",
    "                'T': T,\n",
    "                'time': time,\n",
    "                'round_num': round_num,\n",
    "                'peak_height': row[col]\n",
    "            }\n",
    "            new_df = new_df.append(new_row, ignore_index=True)\n",
    "    \n",
    "    if old_df is None:\n",
    "        return new_df\n",
    "    else:\n",
    "        return old_df.append(new_df, ignore_index=True)\n",
    "    "
   ],
   "metadata": {
    "collapsed": false,
    "ExecuteTime": {
     "start_time": "2023-10-03T18:58:27.842963Z"
    }
   },
   "id": "7fb9ddf0d2b865f3"
  },
  {
   "cell_type": "code",
   "execution_count": null,
   "outputs": [],
   "source": [
    "new_df = None\n",
    "new_df = extract_rxn_conditions(None, data.iloc[:8])\n",
    "for i in range(1, 16):\n",
    "    print(i)\n",
    "    new_df = extract_rxn_conditions(new_df, data.iloc[(i*9)-1:(i+1)*9-1])"
   ],
   "metadata": {
    "collapsed": false,
    "ExecuteTime": {
     "start_time": "2023-10-03T18:58:27.844298Z"
    }
   },
   "id": "c6369e8422238fef"
  },
  {
   "cell_type": "code",
   "execution_count": null,
   "outputs": [],
   "source": [
    "new_df"
   ],
   "metadata": {
    "collapsed": false,
    "ExecuteTime": {
     "start_time": "2023-10-03T18:58:27.845562Z"
    }
   },
   "id": "714e361fb9dc5bed"
  },
  {
   "cell_type": "code",
   "execution_count": null,
   "outputs": [],
   "source": [
    "new_df.to_csv('figure_S2_tidy.csv', index=False)"
   ],
   "metadata": {
    "collapsed": false,
    "ExecuteTime": {
     "start_time": "2023-10-03T18:58:27.846966Z"
    }
   },
   "id": "db8121190e3e291d"
  },
  {
   "cell_type": "markdown",
   "source": [
    "# Making 5 random train and test splits of 80/20"
   ],
   "metadata": {
    "collapsed": false
   },
   "id": "79804dc0d1e415f7"
  },
  {
   "cell_type": "code",
   "execution_count": null,
   "outputs": [],
   "source": [
    "os.chdir('/Users/kate_fieseler/PycharmProjects/edboplus_scope/test/thompson_SNAr/')\n",
    "df = pd.read_csv('figure_S2_tidy.csv')\n",
    "df"
   ],
   "metadata": {
    "collapsed": false,
    "ExecuteTime": {
     "start_time": "2023-10-03T18:58:27.848506Z"
    }
   },
   "id": "ef5eed0ab7f1f1ad"
  },
  {
   "cell_type": "code",
   "execution_count": null,
   "outputs": [],
   "source": [
    "num_splits = 5\n",
    "train_test_splits = []\n",
    "\n",
    "for _ in range(num_splits):\n",
    "    # Randomly shuffle the indices\n",
    "    shuffled_indices = torch.randperm(len(df))\n",
    "    \n",
    "    # Split indices into train and test\n",
    "    split_idx = int(0.8 * len(df))\n",
    "    train_indices = shuffled_indices[:split_idx]\n",
    "    test_indices = shuffled_indices[split_idx:]\n",
    "    \n",
    "    # Extract train and test DataFrames based on indices\n",
    "    train_df = df.iloc[train_indices]\n",
    "    test_df = df.iloc[test_indices]\n",
    "    \n",
    "    train_test_splits.append((train_df, test_df))"
   ],
   "metadata": {
    "collapsed": false,
    "ExecuteTime": {
     "start_time": "2023-10-03T18:58:27.849699Z"
    }
   },
   "id": "38815ea6804a4d94"
  },
  {
   "cell_type": "code",
   "execution_count": null,
   "outputs": [],
   "source": [
    "for i, (train, test) in enumerate(train_test_splits):\n",
    "    print(f\"Split {i+1}\")\n",
    "    print(\"Train:\", len(train))\n",
    "    print(\"Test:\", len(test))\n",
    "    print(\"------\")"
   ],
   "metadata": {
    "collapsed": false,
    "ExecuteTime": {
     "start_time": "2023-10-03T18:58:27.851130Z"
    }
   },
   "id": "bff65b513959d35c"
  },
  {
   "cell_type": "code",
   "execution_count": null,
   "outputs": [],
   "source": [
    "for i, (train, test) in enumerate(train_test_splits):\n",
    "    train.to_csv(f'figure_S2_train_{i+1}.csv', index=False)\n",
    "    test.to_csv(f'figure_S2_test_{i+1}.csv', index=False)"
   ],
   "metadata": {
    "collapsed": false,
    "ExecuteTime": {
     "start_time": "2023-10-03T18:58:27.852366Z"
    }
   },
   "id": "5b117813876a5fb5"
  },
  {
   "cell_type": "markdown",
   "source": [
    "# Add smiles for each reactant."
   ],
   "metadata": {
    "collapsed": false
   },
   "id": "b348ba87486592cb"
  },
  {
   "cell_type": "code",
   "execution_count": null,
   "outputs": [],
   "source": [
    "smiles = {\n",
    "    'R1-A1': 'N[C@@H]1CCCC[C@H]1N',\n",
    "    'R1-A2': 'Cn1ccnc1',\n",
    "    'R1-A3': 'C1CCNCC1',\n",
    "    'R1-A4': 'CN1CCNCC1',\n",
    "    'R1-A5': 'NCc1ccccc1',\n",
    "    'R1-A6': 'Nc1cccnc1N',\n",
    "    'R1-A7': 'CC1CCCCN1CCCN',\n",
    "    'R1-A8': 'c1ccc2[nH]cnc2c1',\n",
    "    'R1-B1': 'CC(=O)c1ccc(F)cc1',\n",
    "    'R1-B2': 'CC(=O)c1ccc(Cl)cc1',\n",
    "    'R1-B3': 'CC(=O)c1ccc(Br)cc1',\n",
    "    'R1-B4': 'O=[N+]([O-])c1ccc(F)cc1',\n",
    "    'R1-B5': 'O=[N+]([O-])c1ccc(Cl)cc1',\n",
    "    'R1-B6': 'O=[N+]([O-])c1ccc(Br)cc1',\n",
    "    'R1-B7': 'CCc1ncnc(Cl)c1F',\n",
    "    'R1-B8': 'Fc1ccc(C(F)(F)F)cc1',\n",
    "    'R1-B9': 'FC(F)(F)c1ccc(Cl)cc1',\n",
    "    'R1-B10': 'N#Cc1ccc(Br)cc1',\n",
    "    'R1-B11': 'CCN(CC)c1ccc(Br)cc1',\n",
    "    'R1-B12 (S)': 'O=[N+]([O-])c1cnc(Cl)nc1Cl',\n",
    "    'R1-B12 (D)': 'O=[N+]([O-])c1cnc(Cl)nc1Cl',\n",
    "}"
   ],
   "metadata": {
    "collapsed": false,
    "ExecuteTime": {
     "start_time": "2023-10-03T18:58:27.853634Z"
    }
   },
   "id": "a53b236de0f39f47"
  },
  {
   "cell_type": "code",
   "execution_count": null,
   "outputs": [],
   "source": [
    "def is_canonical(smiles):\n",
    "    molecule = Chem.MolFromSmiles(smiles)\n",
    "    canonical_smiles = Chem.MolToSmiles(molecule)\n",
    "    return smiles == canonical_smiles\n",
    "\n",
    "smiles_str = \"CC(=O)c1ccc(F)cc1\"   # example SMILES string\n",
    "print(is_canonical(smiles_str))"
   ],
   "metadata": {
    "collapsed": false,
    "ExecuteTime": {
     "start_time": "2023-10-03T18:58:27.854896Z"
    }
   },
   "id": "779c216569357a13"
  },
  {
   "cell_type": "code",
   "execution_count": null,
   "outputs": [],
   "source": [
    "# Add smiles as column to dataframes\n",
    "for i in range(1, 6):\n",
    "    train_df = pd.read_csv(f'figure_S2_train_{i}.csv')\n",
    "    test_df = pd.read_csv(f'figure_S2_test_{i}.csv')\n",
    "    \n",
    "    train_df['A_smiles'] = train_df['A'].apply(lambda x: smiles[x])\n",
    "    train_df['B_smiles'] = train_df['B'].apply(lambda x: smiles[x])\n",
    "    test_df['A_smiles'] = test_df['A'].apply(lambda x: smiles[x])\n",
    "    test_df['B_smiles'] = test_df['B'].apply(lambda x: smiles[x])\n",
    "    \n",
    "    test_df = test_df[['A', 'A_smiles', 'B', 'B_smiles', 'solvent', 'base', 'T', 'time', 'round_num', 'peak_height']]\n",
    "    train_df = train_df[['A', 'A_smiles', 'B', 'B_smiles', 'solvent', 'base', 'T', 'time', 'round_num', 'peak_height']]\n",
    "    \n",
    "    train_df.to_csv(f'figure_S2_train_{i}.csv', index=False)\n",
    "    test_df.to_csv(f'figure_S2_test_{i}.csv', index=False)"
   ],
   "metadata": {
    "collapsed": false,
    "ExecuteTime": {
     "start_time": "2023-10-03T18:58:27.856203Z"
    }
   },
   "id": "7f4dc49951926e71"
  },
  {
   "cell_type": "code",
   "execution_count": null,
   "outputs": [],
   "source": [
    "# Make fp list\n",
    "def fp_as_array(mol,n_bits=2048):\n",
    "    fp = AllChem.GetMorganFingerprintAsBitVect(mol, 2, nBits=n_bits)\n",
    "    arr = np.zeros((1,), int)\n",
    "    DataStructs.ConvertToNumpyArray(fp, arr)\n",
    "    return arr\n",
    "\n",
    "def fp_list_from_smiles_list(smiles_list,n_bits=2048):\n",
    "    fp_list = []\n",
    "    for smiles in tqdm(smiles_list):\n",
    "        mol = Chem.MolFromSmiles(smiles)\n",
    "        fp_list.append(fp_as_array(mol,n_bits))\n",
    "    return fp_list\n",
    "\n",
    "fp_list = fp_list_from_smiles_list(list(smiles.values()))"
   ],
   "metadata": {
    "collapsed": false,
    "ExecuteTime": {
     "start_time": "2023-10-03T18:58:27.857544Z"
    }
   },
   "id": "4d91beee32afe205"
  },
  {
   "cell_type": "code",
   "execution_count": null,
   "outputs": [],
   "source": [
    "# show T-SNE plot of amines and aryl halides, using first 50 PCs\n",
    "sns.set(rc={'figure.figsize': (10, 10)})\n",
    "sns.set(font_scale=1.5)\n",
    "sns.set_style('whitegrid')\n",
    "\n",
    "pca = PCA(n_components=50)\n",
    "crds = pca.fit_transform(fp_list) \n",
    "from sklearn.manifold import TSNE\n",
    "%time crds_embedded = TSNE(n_components=2).fit_transform(crds)"
   ],
   "metadata": {
    "collapsed": false,
    "ExecuteTime": {
     "start_time": "2023-10-03T18:58:27.859146Z"
    }
   },
   "id": "6e372ff54dc8a467"
  },
  {
   "cell_type": "markdown",
   "source": [
    "# Add other representations of peak height data"
   ],
   "metadata": {
    "collapsed": false
   },
   "id": "644f6a273078f268"
  },
  {
   "cell_type": "code",
   "execution_count": null,
   "outputs": [],
   "source": [
    "os.chdir('/Users/kate_fieseler/PycharmProjects/edboplus_scope/test/thompson_SNAr')\n",
    "df = pd.read_csv('figure_S2_tidy.csv')\n",
    "df['A_smiles'] = df['A'].apply(lambda x: smiles[x])\n",
    "df['B_smiles'] = df['B'].apply(lambda x: smiles[x])\n",
    "df = df[['A', 'A_smiles', 'B', 'B_smiles', 'solvent', 'base', 'T', 'time', 'round_num', 'peak_height']]\n",
    "df = df[df['B'].isin(['R1-B12 (S)']) == False]\n",
    "df.to_csv(f'figure_S2_tidy.csv', index=False)"
   ],
   "metadata": {
    "collapsed": false,
    "ExecuteTime": {
     "start_time": "2023-10-03T18:58:27.860376Z"
    }
   },
   "id": "d9715e0a33fb9d43"
  },
  {
   "cell_type": "code",
   "execution_count": null,
   "outputs": [],
   "source": [
    "sns.set(rc={'figure.figsize': (10, 10)})\n",
    "sns.set(font_scale=1.5)\n",
    "sns.set_style('whitegrid')\n",
    "# What is the distribution of peak heights?\n",
    "sns.histplot(data=df, x='peak_height', bins=20, kde=True)"
   ],
   "metadata": {
    "collapsed": false,
    "ExecuteTime": {
     "start_time": "2023-10-03T18:58:27.861876Z"
    }
   },
   "id": "b75e09a36c99b477"
  },
  {
   "cell_type": "code",
   "execution_count": null,
   "outputs": [],
   "source": [
    "# Min-max scaling\n",
    "df['peak_height_scaled'] = (df['peak_height'] - df['peak_height'].min()) / (df['peak_height'].max() - df['peak_height'].min())\n",
    "sns.histplot(data=df, x='peak_height_scaled', bins=20, kde=True)"
   ],
   "metadata": {
    "collapsed": false,
    "ExecuteTime": {
     "start_time": "2023-10-03T18:58:27.862748Z"
    }
   },
   "id": "fa26bc85d14d32ab"
  },
  {
   "cell_type": "code",
   "execution_count": null,
   "outputs": [],
   "source": [
    "df['peak_height_scaled'].describe()"
   ],
   "metadata": {
    "collapsed": false,
    "ExecuteTime": {
     "start_time": "2023-10-03T18:58:27.863558Z"
    }
   },
   "id": "cd51471ecd4db0f6"
  },
  {
   "cell_type": "code",
   "execution_count": null,
   "outputs": [],
   "source": [
    "df['peak_height_log'] = np.log(df['peak_height'])\n",
    "sns.histplot(data=df, x='peak_height_log', bins=20, kde=True)"
   ],
   "metadata": {
    "collapsed": false,
    "ExecuteTime": {
     "start_time": "2023-10-03T18:58:27.864392Z"
    }
   },
   "id": "6b2f665fdd184cc3"
  },
  {
   "cell_type": "code",
   "execution_count": null,
   "outputs": [],
   "source": [
    "df.to_csv(f'figure_S2_tidy.csv', index=False)\n",
    "df"
   ],
   "metadata": {
    "collapsed": false,
    "ExecuteTime": {
     "start_time": "2023-10-03T18:58:27.865135Z"
    }
   },
   "id": "42a3ecf9ba619466"
  },
  {
   "cell_type": "code",
   "execution_count": null,
   "outputs": [],
   "source": [
    "# Assuming df is your DataFrame and 'Original Data' is the column to be scaled\n",
    "data = torch.tensor(df['peak_height'].values, dtype=torch.float32)\n",
    "\n",
    "# Sort the data and get the indices\n",
    "sorted_data, indices = torch.sort(data)\n",
    "\n",
    "# Compute the quantile rank for each value\n",
    "quantile_rank = torch.arange(1, len(data) + 1, dtype=torch.float32) / (len(data) + 1)\n",
    "\n",
    "# Map the data to its quantile rank\n",
    "quantile_scaled_data = torch.zeros_like(data)\n",
    "quantile_scaled_data[indices] = quantile_rank\n",
    "\n",
    "# Add the quantile-scaled data as a new column in the original DataFrame\n",
    "df['peak_height_quantile_scaled'] = quantile_scaled_data.numpy()\n",
    "\n",
    "df"
   ],
   "metadata": {
    "collapsed": false,
    "ExecuteTime": {
     "start_time": "2023-10-03T18:58:27.865876Z"
    }
   },
   "id": "8924a796427d5959"
  },
  {
   "cell_type": "code",
   "execution_count": null,
   "outputs": [],
   "source": [
    "df.drop(columns=['Quantile Scaled Data'], inplace=True)"
   ],
   "metadata": {
    "collapsed": false,
    "ExecuteTime": {
     "start_time": "2023-10-03T18:58:27.866660Z"
    }
   },
   "id": "b2b9342579badb97"
  },
  {
   "cell_type": "code",
   "execution_count": null,
   "outputs": [],
   "source": [
    "df"
   ],
   "metadata": {
    "collapsed": false,
    "ExecuteTime": {
     "start_time": "2023-10-03T18:58:27.867430Z"
    }
   },
   "id": "a85afe57d87539a3"
  },
  {
   "cell_type": "code",
   "execution_count": null,
   "outputs": [],
   "source": [
    "quantile_labels = ['Q1', 'Q2', 'Q3', 'Q4']\n",
    "df['quantile_category'] = pd.qcut(df['peak_height'], q=4, labels=quantile_labels)\n",
    "df"
   ],
   "metadata": {
    "collapsed": false,
    "ExecuteTime": {
     "start_time": "2023-10-03T18:58:27.868226Z"
    }
   },
   "id": "70f46ec014c8b2f6"
  },
  {
   "cell_type": "code",
   "execution_count": null,
   "outputs": [],
   "source": [
    "sns.set(rc={'figure.figsize': (10, 10)})\n",
    "sns.set(font_scale=1.5)\n",
    "sns.set_style('whitegrid')\n",
    "sns.scatterplot(data=df, x='peak_height_quantile_scaled', y='peak_height', hue='quantile_category')"
   ],
   "metadata": {
    "collapsed": false,
    "ExecuteTime": {
     "start_time": "2023-10-03T18:58:27.868994Z"
    }
   },
   "id": "9d830535855c5b4"
  },
  {
   "cell_type": "code",
   "execution_count": null,
   "outputs": [],
   "source": [
    "decile_labels = ['D1', 'D2', 'D3', 'D4', 'D5', 'D6', 'D7', 'D8', 'D9', 'D10']\n",
    "df['decile_category'] = pd.qcut(df['peak_height'], q=10, labels=decile_labels)\n",
    "sns.scatterplot(data=df, x='peak_height_quantile_scaled', y='peak_height', hue='decile_category')"
   ],
   "metadata": {
    "collapsed": false,
    "ExecuteTime": {
     "start_time": "2023-10-03T18:58:27.869766Z"
    }
   },
   "id": "e7ed90b3b6b32f17"
  },
  {
   "cell_type": "code",
   "execution_count": null,
   "outputs": [],
   "source": [
    "df.to_csv(f'figure_S2_tidy.csv', index=False)"
   ],
   "metadata": {
    "collapsed": false,
    "ExecuteTime": {
     "start_time": "2023-10-03T18:58:27.870492Z"
    }
   },
   "id": "7e28fbf33d0e3348"
  },
  {
   "cell_type": "markdown",
   "source": [
    "# TEST TSNE"
   ],
   "metadata": {
    "collapsed": false
   },
   "id": "99ad0162ea40e5b9"
  },
  {
   "cell_type": "code",
   "execution_count": null,
   "outputs": [],
   "source": [
    "# Make images dictionary\n",
    "filename = '/Users/kate_fieseler/PycharmProjects/edboplus_scope/test/thompson_SNAr/figure_S2/benchmark_init_random_embedding_OHE_scaling_log_batch_5_acq_EHVI.csv'\n",
    "df_preds = pd.read_csv(filename)\n",
    "A = df_preds['A'].values\n",
    "# get unique values in A\n",
    "A_unique = np.unique(A)\n",
    "A_unique\n",
    "\n",
    "B_unique = np.unique(df_preds['B'].values)\n",
    "full = np.concatenate((A_unique, B_unique))\n",
    "\n",
    "images = {}\n",
    "for label in full:\n",
    "    images[label] = f'{label}.png'\n",
    "with open('/Users/kate_fieseler/PycharmProjects/edboplus_scope/test/thompson_SNAr/figure_S2/images.json', 'w') as f:\n",
    "    json.dump(images, f)"
   ],
   "metadata": {
    "collapsed": false,
    "ExecuteTime": {
     "start_time": "2023-10-03T18:58:27.871285Z"
    }
   },
   "id": "c95e8013ff87c133"
  },
  {
   "cell_type": "code",
   "execution_count": null,
   "outputs": [],
   "source": [
    "def _plot_batches(embedding=False, concat=True, image_file_path=None, image_dict=None):\n",
    "    \"\"\"\n",
    "    Plot the batches in a T-SNE plot.\n",
    "    \n",
    "    embedding: bool\n",
    "        If True, it will plot the full embedding of the batches. Else, will just plot fp of reactants.\n",
    "    concat: bool\n",
    "        If True, it will plot the fp of reactants concatenated. Else, will plot them separately.\n",
    "    image_file_path: str\n",
    "        Path to the folder of images files in dictionary.\n",
    "    image_dict: dict\n",
    "        Dictionary of images and their filenames.\n",
    "    \"\"\"\n",
    "    filename = '/Users/kate_fieseler/PycharmProjects/edboplus_scope/test/thompson_SNAr/figure_S2/benchmark_init_random_embedding_OHE_scaling_log_batch_5_acq_EHVI.csv'\n",
    "    \n",
    "    df_preds = pd.read_csv(filename)\n",
    "    r1_test = df_preds[df_preds['batch_num'].notna()]['A_smiles'].values\n",
    "    r2_test = df_preds[df_preds['batch_num'].notna()]['B_smiles'].values\n",
    "\n",
    "    # Get fp list (or lists)\n",
    "    if concat:\n",
    "        reacts_fp = utils.fp_list_from_two_smiles_list(r1_test, r2_test)\n",
    "    else:\n",
    "        react1_fp = utils.fp_list_from_smiles_list(r1_test)\n",
    "        react2_fp = utils.fp_list_from_smiles_list(r2_test)\n",
    "    pca = PCA(n_components=10)\n",
    "    # Get coordinates and plot\n",
    "    plt.figure(figsize=(10, 8))\n",
    "    if concat:\n",
    "        crds = pca.fit_transform(reacts_fp)\n",
    "        crds_tsne = TSNE(n_components=2).fit_transform(crds)\n",
    "        reacts_df = pd.DataFrame(crds_tsne, columns=[\"X\", \"Y\"])\n",
    "        reacts_df['batch_num'] = df_preds[df_preds['batch_num'].notna()]['batch_num'].values\n",
    "        reacts_df['react1_smiles'] = r1_test\n",
    "        reacts_df['react2_smiles'] = r2_test\n",
    "        \n",
    "        # Compute average X and Y coordinates for each unique react1 and react2 smiles combo.\n",
    "        averaged_coords = reacts_df.groupby(['react1_smiles', 'react2_smiles']).agg({'X': 'mean', 'Y': 'mean'}).reset_index()\n",
    "        # Merge the averaged coordinates back to the original dataframe\n",
    "        plot_df = reacts_df.drop(columns=['X', 'Y']).merge(averaged_coords, on=['react1_smiles', 'react2_smiles'], how='left')\n",
    "        \n",
    "        # Plot\n",
    "        plot_df['batch_num'] = plot_df['batch_num'].astype(str)\n",
    "        fig = px.scatter(plot_df, x=\"X\", y=\"Y\", color=\"batch_num\", hover_data=['react1_smiles', 'react2_smiles'])\n",
    "        fig.update_traces(marker={'size': 15})\n",
    "        fig.write_html(\"test_scatter.html\")\n",
    "    else:\n",
    "        return NotImplementedError\n",
    "    fig.show()\n",
    "    return plot_df"
   ],
   "metadata": {
    "collapsed": false,
    "ExecuteTime": {
     "start_time": "2023-10-03T18:58:27.872044Z"
    }
   },
   "id": "d9dbad8bb6076652"
  },
  {
   "cell_type": "code",
   "execution_count": null,
   "outputs": [],
   "source": [
    "with open('/Users/kate_fieseler/PycharmProjects/edboplus_scope/test/thompson_SNAr/figure_S2/images.json', 'r') as f:\n",
    "    images = json.load(f)\n",
    "_plot_batches(image_dict=images, concat=True, image_file_path='/Users/kate_fieseler/PycharmProjects/edboplus_scope/test/thompson_SNAr/figure_S2/')"
   ],
   "metadata": {
    "collapsed": false,
    "ExecuteTime": {
     "start_time": "2023-10-03T18:58:27.872817Z"
    }
   },
   "id": "7dad037fce9e8691"
  },
  {
   "cell_type": "markdown",
   "source": [
    "# Make csv of highest peak heights for each reaction."
   ],
   "metadata": {
    "collapsed": false
   },
   "id": "b5c8b9c7f092ae83"
  },
  {
   "cell_type": "code",
   "execution_count": 4,
   "outputs": [
    {
     "data": {
      "text/plain": "          A             A_smiles           B                    B_smiles  \\\n0     R1-A1  N[C@@H]1CCCC[C@H]1N       R1-B1           CC(=O)c1ccc(F)cc1   \n1     R1-A2             Cn1ccnc1       R1-B1           CC(=O)c1ccc(F)cc1   \n2     R1-A3             C1CCNCC1       R1-B1           CC(=O)c1ccc(F)cc1   \n3     R1-A4            CN1CCNCC1       R1-B1           CC(=O)c1ccc(F)cc1   \n4     R1-A5           NCc1ccccc1       R1-B1           CC(=O)c1ccc(F)cc1   \n...     ...                  ...         ...                         ...   \n1531  R1-A4            CN1CCNCC1  R1-B12 (D)  O=[N+]([O-])c1cnc(Cl)nc1Cl   \n1532  R1-A5           NCc1ccccc1  R1-B12 (D)  O=[N+]([O-])c1cnc(Cl)nc1Cl   \n1533  R1-A6           Nc1cccnc1N  R1-B12 (D)  O=[N+]([O-])c1cnc(Cl)nc1Cl   \n1534  R1-A7        CC1CCCCN1CCCN  R1-B12 (D)  O=[N+]([O-])c1cnc(Cl)nc1Cl   \n1535  R1-A8     c1ccc2[nH]cnc2c1  R1-B12 (D)  O=[N+]([O-])c1cnc(Cl)nc1Cl   \n\n          solvent   base    T  time  round_num  peak_height  \\\n0             NMP  DIPEA   20     0          1         31.7   \n1             NMP  DIPEA   20     0          1         52.3   \n2             NMP  DIPEA   20     0          1         12.2   \n3             NMP  DIPEA   20     0          1        410.3   \n4             NMP  DIPEA   20     0          1         24.3   \n...           ...    ...  ...   ...        ...          ...   \n1531  1,4-dioxane   None  150    15          1         50.0   \n1532  1,4-dioxane   None  150    15          1         79.0   \n1533  1,4-dioxane   None  150    15          1         83.6   \n1534  1,4-dioxane   None  150    15          1        103.2   \n1535  1,4-dioxane   None  150    15          1         78.5   \n\n      peak_height_scaled  peak_height_log  peak_height_quantile_scaled  \\\n0               0.001923         3.456317                     0.303839   \n1               0.003266         3.956996                     0.482759   \n2               0.000652         2.501436                     0.057254   \n3               0.026602         6.016889                     0.811321   \n4               0.001441         3.190476                     0.191282   \n...                  ...              ...                          ...   \n1531            0.003116         3.912023                     0.469096   \n1532            0.005006         4.369448                     0.595966   \n1533            0.005306         4.426044                     0.609629   \n1534            0.006584         4.636669                     0.649317   \n1535            0.004974         4.363099                     0.594665   \n\n     quantile_category peak_height_decile  \n0                   Q2                 D4  \n1                   Q2                 D5  \n2                   Q1                 D1  \n3                   Q4                 D9  \n4                   Q1                 D2  \n...                ...                ...  \n1531                Q2                 D5  \n1532                Q3                 D6  \n1533                Q3                 D7  \n1534                Q3                 D7  \n1535                Q3                 D6  \n\n[1536 rows x 15 columns]",
      "text/html": "<div>\n<style scoped>\n    .dataframe tbody tr th:only-of-type {\n        vertical-align: middle;\n    }\n\n    .dataframe tbody tr th {\n        vertical-align: top;\n    }\n\n    .dataframe thead th {\n        text-align: right;\n    }\n</style>\n<table border=\"1\" class=\"dataframe\">\n  <thead>\n    <tr style=\"text-align: right;\">\n      <th></th>\n      <th>A</th>\n      <th>A_smiles</th>\n      <th>B</th>\n      <th>B_smiles</th>\n      <th>solvent</th>\n      <th>base</th>\n      <th>T</th>\n      <th>time</th>\n      <th>round_num</th>\n      <th>peak_height</th>\n      <th>peak_height_scaled</th>\n      <th>peak_height_log</th>\n      <th>peak_height_quantile_scaled</th>\n      <th>quantile_category</th>\n      <th>peak_height_decile</th>\n    </tr>\n  </thead>\n  <tbody>\n    <tr>\n      <th>0</th>\n      <td>R1-A1</td>\n      <td>N[C@@H]1CCCC[C@H]1N</td>\n      <td>R1-B1</td>\n      <td>CC(=O)c1ccc(F)cc1</td>\n      <td>NMP</td>\n      <td>DIPEA</td>\n      <td>20</td>\n      <td>0</td>\n      <td>1</td>\n      <td>31.7</td>\n      <td>0.001923</td>\n      <td>3.456317</td>\n      <td>0.303839</td>\n      <td>Q2</td>\n      <td>D4</td>\n    </tr>\n    <tr>\n      <th>1</th>\n      <td>R1-A2</td>\n      <td>Cn1ccnc1</td>\n      <td>R1-B1</td>\n      <td>CC(=O)c1ccc(F)cc1</td>\n      <td>NMP</td>\n      <td>DIPEA</td>\n      <td>20</td>\n      <td>0</td>\n      <td>1</td>\n      <td>52.3</td>\n      <td>0.003266</td>\n      <td>3.956996</td>\n      <td>0.482759</td>\n      <td>Q2</td>\n      <td>D5</td>\n    </tr>\n    <tr>\n      <th>2</th>\n      <td>R1-A3</td>\n      <td>C1CCNCC1</td>\n      <td>R1-B1</td>\n      <td>CC(=O)c1ccc(F)cc1</td>\n      <td>NMP</td>\n      <td>DIPEA</td>\n      <td>20</td>\n      <td>0</td>\n      <td>1</td>\n      <td>12.2</td>\n      <td>0.000652</td>\n      <td>2.501436</td>\n      <td>0.057254</td>\n      <td>Q1</td>\n      <td>D1</td>\n    </tr>\n    <tr>\n      <th>3</th>\n      <td>R1-A4</td>\n      <td>CN1CCNCC1</td>\n      <td>R1-B1</td>\n      <td>CC(=O)c1ccc(F)cc1</td>\n      <td>NMP</td>\n      <td>DIPEA</td>\n      <td>20</td>\n      <td>0</td>\n      <td>1</td>\n      <td>410.3</td>\n      <td>0.026602</td>\n      <td>6.016889</td>\n      <td>0.811321</td>\n      <td>Q4</td>\n      <td>D9</td>\n    </tr>\n    <tr>\n      <th>4</th>\n      <td>R1-A5</td>\n      <td>NCc1ccccc1</td>\n      <td>R1-B1</td>\n      <td>CC(=O)c1ccc(F)cc1</td>\n      <td>NMP</td>\n      <td>DIPEA</td>\n      <td>20</td>\n      <td>0</td>\n      <td>1</td>\n      <td>24.3</td>\n      <td>0.001441</td>\n      <td>3.190476</td>\n      <td>0.191282</td>\n      <td>Q1</td>\n      <td>D2</td>\n    </tr>\n    <tr>\n      <th>...</th>\n      <td>...</td>\n      <td>...</td>\n      <td>...</td>\n      <td>...</td>\n      <td>...</td>\n      <td>...</td>\n      <td>...</td>\n      <td>...</td>\n      <td>...</td>\n      <td>...</td>\n      <td>...</td>\n      <td>...</td>\n      <td>...</td>\n      <td>...</td>\n      <td>...</td>\n    </tr>\n    <tr>\n      <th>1531</th>\n      <td>R1-A4</td>\n      <td>CN1CCNCC1</td>\n      <td>R1-B12 (D)</td>\n      <td>O=[N+]([O-])c1cnc(Cl)nc1Cl</td>\n      <td>1,4-dioxane</td>\n      <td>None</td>\n      <td>150</td>\n      <td>15</td>\n      <td>1</td>\n      <td>50.0</td>\n      <td>0.003116</td>\n      <td>3.912023</td>\n      <td>0.469096</td>\n      <td>Q2</td>\n      <td>D5</td>\n    </tr>\n    <tr>\n      <th>1532</th>\n      <td>R1-A5</td>\n      <td>NCc1ccccc1</td>\n      <td>R1-B12 (D)</td>\n      <td>O=[N+]([O-])c1cnc(Cl)nc1Cl</td>\n      <td>1,4-dioxane</td>\n      <td>None</td>\n      <td>150</td>\n      <td>15</td>\n      <td>1</td>\n      <td>79.0</td>\n      <td>0.005006</td>\n      <td>4.369448</td>\n      <td>0.595966</td>\n      <td>Q3</td>\n      <td>D6</td>\n    </tr>\n    <tr>\n      <th>1533</th>\n      <td>R1-A6</td>\n      <td>Nc1cccnc1N</td>\n      <td>R1-B12 (D)</td>\n      <td>O=[N+]([O-])c1cnc(Cl)nc1Cl</td>\n      <td>1,4-dioxane</td>\n      <td>None</td>\n      <td>150</td>\n      <td>15</td>\n      <td>1</td>\n      <td>83.6</td>\n      <td>0.005306</td>\n      <td>4.426044</td>\n      <td>0.609629</td>\n      <td>Q3</td>\n      <td>D7</td>\n    </tr>\n    <tr>\n      <th>1534</th>\n      <td>R1-A7</td>\n      <td>CC1CCCCN1CCCN</td>\n      <td>R1-B12 (D)</td>\n      <td>O=[N+]([O-])c1cnc(Cl)nc1Cl</td>\n      <td>1,4-dioxane</td>\n      <td>None</td>\n      <td>150</td>\n      <td>15</td>\n      <td>1</td>\n      <td>103.2</td>\n      <td>0.006584</td>\n      <td>4.636669</td>\n      <td>0.649317</td>\n      <td>Q3</td>\n      <td>D7</td>\n    </tr>\n    <tr>\n      <th>1535</th>\n      <td>R1-A8</td>\n      <td>c1ccc2[nH]cnc2c1</td>\n      <td>R1-B12 (D)</td>\n      <td>O=[N+]([O-])c1cnc(Cl)nc1Cl</td>\n      <td>1,4-dioxane</td>\n      <td>None</td>\n      <td>150</td>\n      <td>15</td>\n      <td>1</td>\n      <td>78.5</td>\n      <td>0.004974</td>\n      <td>4.363099</td>\n      <td>0.594665</td>\n      <td>Q3</td>\n      <td>D6</td>\n    </tr>\n  </tbody>\n</table>\n<p>1536 rows × 15 columns</p>\n</div>"
     },
     "execution_count": 4,
     "metadata": {},
     "output_type": "execute_result"
    }
   ],
   "source": [
    "os.chdir('/Users/kate_fieseler/PycharmProjects/edboplus_scope/test/thompson_SNAr/figure_S2/data')\n",
    "df = pd.read_csv('figure_S2_tidy.csv')\n",
    "df"
   ],
   "metadata": {
    "collapsed": false,
    "ExecuteTime": {
     "end_time": "2023-10-03T19:00:56.057937Z",
     "start_time": "2023-10-03T19:00:55.944602Z"
    }
   },
   "id": "9102194a69ed3ea8"
  },
  {
   "cell_type": "code",
   "execution_count": 7,
   "outputs": [
    {
     "data": {
      "text/plain": "        A             A_smiles           B                    B_smiles  \\\n0   R1-A4            CN1CCNCC1  R1-B12 (D)  O=[N+]([O-])c1cnc(Cl)nc1Cl   \n1   R1-A4            CN1CCNCC1       R1-B1           CC(=O)c1ccc(F)cc1   \n2   R1-A7        CC1CCCCN1CCCN       R1-B3          CC(=O)c1ccc(Br)cc1   \n3   R1-A7        CC1CCCCN1CCCN       R1-B4     O=[N+]([O-])c1ccc(F)cc1   \n4   R1-A1  N[C@@H]1CCCC[C@H]1N       R1-B5    O=[N+]([O-])c1ccc(Cl)cc1   \n..    ...                  ...         ...                         ...   \n91  R1-A6           Nc1cccnc1N       R1-B2          CC(=O)c1ccc(Cl)cc1   \n92  R1-A2             Cn1ccnc1       R1-B3          CC(=O)c1ccc(Br)cc1   \n93  R1-A6           Nc1cccnc1N       R1-B3          CC(=O)c1ccc(Br)cc1   \n94  R1-A5           NCc1ccccc1       R1-B7             CCc1ncnc(Cl)c1F   \n95  R1-A6           Nc1cccnc1N       R1-B8         Fc1ccc(C(F)(F)F)cc1   \n\n        solvent   base    T  time  round_num  peak_height  peak_height_scaled  \\\n0           NMP  DIPEA   20     0          1       2215.1            0.144249   \n1           NMP  DIPEA  150    15          1       3499.9            0.228000   \n2           NMP  DIPEA  150    15          1        826.9            0.053759   \n3           NMP  DIPEA  150    15          1       9886.8            0.644334   \n4           NMP  DIPEA  150    15          1       1555.6            0.101259   \n..          ...    ...  ...   ...        ...          ...                 ...   \n91  1,4-dioxane   None  150    15          1        106.2            0.006779   \n92  1,4-dioxane   None  150    15          1        255.8            0.016531   \n93  1,4-dioxane   None  150    15          1        109.7            0.007007   \n94  1,4-dioxane   None  150    15          1       8215.1            0.535363   \n95  1,4-dioxane   None  150    15          1        104.4            0.006662   \n\n    peak_height_log  peak_height_quantile_scaled quantile_category  \\\n0          7.703053                     0.936890                Q4   \n1          8.160490                     0.956409                Q4   \n2          6.717684                     0.874431                Q4   \n3          9.198956                     0.993494                Q4   \n4          7.349617                     0.908914                Q4   \n..              ...                          ...               ...   \n91         4.665324                     0.651269                Q3   \n92         5.544396                     0.770332                Q4   \n93         4.697749                     0.658425                Q3   \n94         9.013729                     0.987638                Q4   \n95         4.648230                     0.649968                Q3   \n\n   peak_height_decile  \n0                 D10  \n1                 D10  \n2                  D9  \n3                 D10  \n4                 D10  \n..                ...  \n91                 D7  \n92                 D8  \n93                 D7  \n94                D10  \n95                 D7  \n\n[96 rows x 15 columns]",
      "text/html": "<div>\n<style scoped>\n    .dataframe tbody tr th:only-of-type {\n        vertical-align: middle;\n    }\n\n    .dataframe tbody tr th {\n        vertical-align: top;\n    }\n\n    .dataframe thead th {\n        text-align: right;\n    }\n</style>\n<table border=\"1\" class=\"dataframe\">\n  <thead>\n    <tr style=\"text-align: right;\">\n      <th></th>\n      <th>A</th>\n      <th>A_smiles</th>\n      <th>B</th>\n      <th>B_smiles</th>\n      <th>solvent</th>\n      <th>base</th>\n      <th>T</th>\n      <th>time</th>\n      <th>round_num</th>\n      <th>peak_height</th>\n      <th>peak_height_scaled</th>\n      <th>peak_height_log</th>\n      <th>peak_height_quantile_scaled</th>\n      <th>quantile_category</th>\n      <th>peak_height_decile</th>\n    </tr>\n  </thead>\n  <tbody>\n    <tr>\n      <th>0</th>\n      <td>R1-A4</td>\n      <td>CN1CCNCC1</td>\n      <td>R1-B12 (D)</td>\n      <td>O=[N+]([O-])c1cnc(Cl)nc1Cl</td>\n      <td>NMP</td>\n      <td>DIPEA</td>\n      <td>20</td>\n      <td>0</td>\n      <td>1</td>\n      <td>2215.1</td>\n      <td>0.144249</td>\n      <td>7.703053</td>\n      <td>0.936890</td>\n      <td>Q4</td>\n      <td>D10</td>\n    </tr>\n    <tr>\n      <th>1</th>\n      <td>R1-A4</td>\n      <td>CN1CCNCC1</td>\n      <td>R1-B1</td>\n      <td>CC(=O)c1ccc(F)cc1</td>\n      <td>NMP</td>\n      <td>DIPEA</td>\n      <td>150</td>\n      <td>15</td>\n      <td>1</td>\n      <td>3499.9</td>\n      <td>0.228000</td>\n      <td>8.160490</td>\n      <td>0.956409</td>\n      <td>Q4</td>\n      <td>D10</td>\n    </tr>\n    <tr>\n      <th>2</th>\n      <td>R1-A7</td>\n      <td>CC1CCCCN1CCCN</td>\n      <td>R1-B3</td>\n      <td>CC(=O)c1ccc(Br)cc1</td>\n      <td>NMP</td>\n      <td>DIPEA</td>\n      <td>150</td>\n      <td>15</td>\n      <td>1</td>\n      <td>826.9</td>\n      <td>0.053759</td>\n      <td>6.717684</td>\n      <td>0.874431</td>\n      <td>Q4</td>\n      <td>D9</td>\n    </tr>\n    <tr>\n      <th>3</th>\n      <td>R1-A7</td>\n      <td>CC1CCCCN1CCCN</td>\n      <td>R1-B4</td>\n      <td>O=[N+]([O-])c1ccc(F)cc1</td>\n      <td>NMP</td>\n      <td>DIPEA</td>\n      <td>150</td>\n      <td>15</td>\n      <td>1</td>\n      <td>9886.8</td>\n      <td>0.644334</td>\n      <td>9.198956</td>\n      <td>0.993494</td>\n      <td>Q4</td>\n      <td>D10</td>\n    </tr>\n    <tr>\n      <th>4</th>\n      <td>R1-A1</td>\n      <td>N[C@@H]1CCCC[C@H]1N</td>\n      <td>R1-B5</td>\n      <td>O=[N+]([O-])c1ccc(Cl)cc1</td>\n      <td>NMP</td>\n      <td>DIPEA</td>\n      <td>150</td>\n      <td>15</td>\n      <td>1</td>\n      <td>1555.6</td>\n      <td>0.101259</td>\n      <td>7.349617</td>\n      <td>0.908914</td>\n      <td>Q4</td>\n      <td>D10</td>\n    </tr>\n    <tr>\n      <th>...</th>\n      <td>...</td>\n      <td>...</td>\n      <td>...</td>\n      <td>...</td>\n      <td>...</td>\n      <td>...</td>\n      <td>...</td>\n      <td>...</td>\n      <td>...</td>\n      <td>...</td>\n      <td>...</td>\n      <td>...</td>\n      <td>...</td>\n      <td>...</td>\n      <td>...</td>\n    </tr>\n    <tr>\n      <th>91</th>\n      <td>R1-A6</td>\n      <td>Nc1cccnc1N</td>\n      <td>R1-B2</td>\n      <td>CC(=O)c1ccc(Cl)cc1</td>\n      <td>1,4-dioxane</td>\n      <td>None</td>\n      <td>150</td>\n      <td>15</td>\n      <td>1</td>\n      <td>106.2</td>\n      <td>0.006779</td>\n      <td>4.665324</td>\n      <td>0.651269</td>\n      <td>Q3</td>\n      <td>D7</td>\n    </tr>\n    <tr>\n      <th>92</th>\n      <td>R1-A2</td>\n      <td>Cn1ccnc1</td>\n      <td>R1-B3</td>\n      <td>CC(=O)c1ccc(Br)cc1</td>\n      <td>1,4-dioxane</td>\n      <td>None</td>\n      <td>150</td>\n      <td>15</td>\n      <td>1</td>\n      <td>255.8</td>\n      <td>0.016531</td>\n      <td>5.544396</td>\n      <td>0.770332</td>\n      <td>Q4</td>\n      <td>D8</td>\n    </tr>\n    <tr>\n      <th>93</th>\n      <td>R1-A6</td>\n      <td>Nc1cccnc1N</td>\n      <td>R1-B3</td>\n      <td>CC(=O)c1ccc(Br)cc1</td>\n      <td>1,4-dioxane</td>\n      <td>None</td>\n      <td>150</td>\n      <td>15</td>\n      <td>1</td>\n      <td>109.7</td>\n      <td>0.007007</td>\n      <td>4.697749</td>\n      <td>0.658425</td>\n      <td>Q3</td>\n      <td>D7</td>\n    </tr>\n    <tr>\n      <th>94</th>\n      <td>R1-A5</td>\n      <td>NCc1ccccc1</td>\n      <td>R1-B7</td>\n      <td>CCc1ncnc(Cl)c1F</td>\n      <td>1,4-dioxane</td>\n      <td>None</td>\n      <td>150</td>\n      <td>15</td>\n      <td>1</td>\n      <td>8215.1</td>\n      <td>0.535363</td>\n      <td>9.013729</td>\n      <td>0.987638</td>\n      <td>Q4</td>\n      <td>D10</td>\n    </tr>\n    <tr>\n      <th>95</th>\n      <td>R1-A6</td>\n      <td>Nc1cccnc1N</td>\n      <td>R1-B8</td>\n      <td>Fc1ccc(C(F)(F)F)cc1</td>\n      <td>1,4-dioxane</td>\n      <td>None</td>\n      <td>150</td>\n      <td>15</td>\n      <td>1</td>\n      <td>104.4</td>\n      <td>0.006662</td>\n      <td>4.648230</td>\n      <td>0.649968</td>\n      <td>Q3</td>\n      <td>D7</td>\n    </tr>\n  </tbody>\n</table>\n<p>96 rows × 15 columns</p>\n</div>"
     },
     "execution_count": 7,
     "metadata": {},
     "output_type": "execute_result"
    }
   ],
   "source": [
    "# Group by the 'R1-AX' and 'R1-BX' and compute the max of 'peak_height'\n",
    "grouped = df.groupby(['A', 'B'])['peak_height'].max().reset_index()\n",
    "\n",
    "# Merge with the original DataFrame\n",
    "merged = pd.merge(df, grouped, on=['A', 'B', 'peak_height'])\n",
    "\n",
    "# Print the resulting DataFrame\n",
    "merged"
   ],
   "metadata": {
    "collapsed": false,
    "ExecuteTime": {
     "end_time": "2023-10-03T19:06:04.305452Z",
     "start_time": "2023-10-03T19:06:04.223763Z"
    }
   },
   "id": "4109334959ed12de"
  },
  {
   "cell_type": "code",
   "execution_count": 8,
   "outputs": [],
   "source": [
    "merged.to_csv('figure_S2_tidy_max_peak_height.csv', index=False)"
   ],
   "metadata": {
    "collapsed": false,
    "ExecuteTime": {
     "end_time": "2023-10-03T19:07:06.199405Z",
     "start_time": "2023-10-03T19:07:05.837566Z"
    }
   },
   "id": "c4375fddc307e45b"
  },
  {
   "cell_type": "code",
   "execution_count": null,
   "outputs": [],
   "source": [],
   "metadata": {
    "collapsed": false
   },
   "id": "4f96c127b53d25aa"
  }
 ],
 "metadata": {
  "kernelspec": {
   "display_name": "Python 3",
   "language": "python",
   "name": "python3"
  },
  "language_info": {
   "codemirror_mode": {
    "name": "ipython",
    "version": 2
   },
   "file_extension": ".py",
   "mimetype": "text/x-python",
   "name": "python",
   "nbconvert_exporter": "python",
   "pygments_lexer": "ipython2",
   "version": "2.7.6"
  }
 },
 "nbformat": 4,
 "nbformat_minor": 5
}
