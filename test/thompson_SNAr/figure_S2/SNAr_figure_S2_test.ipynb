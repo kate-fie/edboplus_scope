{
 "cells": [
  {
   "cell_type": "code",
   "execution_count": 2,
   "id": "9be8eb2f-f792-4a54-a10d-8a5706e34d59",
   "metadata": {
    "ExecuteTime": {
     "end_time": "2023-09-26T13:12:07.363800Z",
     "start_time": "2023-09-26T13:12:04.508150Z"
    }
   },
   "outputs": [
    {
     "name": "stdout",
     "output_type": "stream",
     "text": [
      "WARNING: DEPRECATED: pyomo.core.expr.current is deprecated.  Please import\n",
      "expression symbols from pyomo.core.expr  (deprecated in 6.6.2) (called from\n",
      "<frozen importlib._bootstrap>:219)\n"
     ]
    },
    {
     "ename": "FileNotFoundError",
     "evalue": "[Errno 2] No such file or directory: '/Users/kate_fieseler/PycharmProjects/edboplus_scope/test/thompson_SNAr/figure_S2_train_test'",
     "output_type": "error",
     "traceback": [
      "\u001B[0;31m---------------------------------------------------------------------------\u001B[0m",
      "\u001B[0;31mFileNotFoundError\u001B[0m                         Traceback (most recent call last)",
      "\u001B[0;32m/var/folders/sg/gb03t0zx5sz8vw2lxlghz1gr0000gn/T/ipykernel_63657/567772833.py\u001B[0m in \u001B[0;36m<module>\u001B[0;34m\u001B[0m\n\u001B[1;32m      5\u001B[0m \u001B[0;32mimport\u001B[0m \u001B[0mos\u001B[0m\u001B[0;34m\u001B[0m\u001B[0;34m\u001B[0m\u001B[0m\n\u001B[1;32m      6\u001B[0m \u001B[0;32mimport\u001B[0m \u001B[0mjson\u001B[0m\u001B[0;34m\u001B[0m\u001B[0;34m\u001B[0m\u001B[0m\n\u001B[0;32m----> 7\u001B[0;31m \u001B[0mos\u001B[0m\u001B[0;34m.\u001B[0m\u001B[0mchdir\u001B[0m\u001B[0;34m(\u001B[0m\u001B[0;34m'/Users/kate_fieseler/PycharmProjects/edboplus_scope/test/thompson_SNAr/figure_S2_train_test'\u001B[0m\u001B[0;34m)\u001B[0m\u001B[0;34m\u001B[0m\u001B[0;34m\u001B[0m\u001B[0m\n\u001B[0m",
      "\u001B[0;31mFileNotFoundError\u001B[0m: [Errno 2] No such file or directory: '/Users/kate_fieseler/PycharmProjects/edboplus_scope/test/thompson_SNAr/figure_S2_train_test'"
     ]
    }
   ],
   "source": [
    "%load_ext autoreload\n",
    "%autoreload 2\n",
    "%reload_ext autoreload\n",
    "from edbo.plus.optimizer_botorch import EDBOplus\n",
    "import os\n",
    "import json\n",
    "os.chdir('/Users/kate_fieseler/PycharmProjects/edboplus_scope/test/thompson_SNAr/figure_S2_train_test')"
   ]
  },
  {
   "cell_type": "markdown",
   "id": "f0ff930a-aa80-4848-91a0-621c4b96bb8a",
   "metadata": {},
   "source": [
    "#### Artificially recreating figure S2. How long will it take to find the maximum peak height? What does the chemical space look like for each round?\n",
    "I am using data from Thompson + Cooks SNAr HTE experimentation."
   ]
  },
  {
   "cell_type": "markdown",
   "id": "a01dc181-474e-4e74-9347-962ab3156f79",
   "metadata": {
    "tags": []
   },
   "source": [
    "## 1. Creating a search scope using EDBO+."
   ]
  },
  {
   "cell_type": "markdown",
   "id": "a8e484fc-1cae-4f44-9127-3961b4a7ddb9",
   "metadata": {},
   "source": [
    "##### To run EDBO+ we need to first create a reaction scope (search space) in a .csv format with all the possible combinations that you want to consider for our optimization. \n",
    "##### You can \"manually\" create a reaction scope using any spreadsheet editor (such as Excel, Libreoffice Calc, ...) but we have also created a tool to help you generating combinatorial search spaces. \n",
    "##### For instance, lets say that we want to consider 3 solvents ($\\bf{THF}$, $\\bf{Toluene}$, $\\bf{DMSO}$), 4 temperatures ($\\bf{-10}$, $\\bf{0}$, $\\bf{10}$, $\\bf{25}$) and 3 concentration levels ($\\bf{0.1}$, $\\bf{0.2}$, $\\bf{1.0}$). We can introduce these in the EDBO+ scope generator in a dictionary form as follows:"
   ]
  },
  {
   "cell_type": "code",
   "execution_count": 3,
   "id": "322dda36-9760-48ad-b450-cdd4791228b1",
   "metadata": {
    "ExecuteTime": {
     "end_time": "2023-09-26T13:12:10.579438Z",
     "start_time": "2023-09-26T13:12:10.510905Z"
    }
   },
   "outputs": [],
   "source": [
    "\n",
    "# NOTE: Only using R1-B12 (D) since it means there was a double addition in the final product and had more positive results. There is no difference in the R1_B12 (S) and (D) reactants, just the product. \n",
    "reaction_components = {\n",
    "    'A': ['R1-A1', 'R1-A2', 'R1-A3', 'R1-A4', 'R1-A5', 'R1-A6', 'R1-A7', 'R1-A8'],\n",
    "    'B': ['R1-B1', 'R1-B2', 'R1-B3', 'R1-B4', 'R1-B5', 'R1-B6', 'R1-B7', 'R1-B8', 'R1-B9', 'R1-B10', 'R1-B11', 'R1-B12 (D)'],\n",
    "    'solvent': ['NMP', '1,4-dioxane'],\n",
    "    'base': ['DIPEA', 'TEA', 'NaOtBu', 'None'],\n",
    "    'T': [20, 150],\n",
    "}\n",
    "\n",
    "with open('/Users/kate_fieseler/PycharmProjects/edboplus_scope/test/thompson_SNAr/figure_S2/reaction_components.json', 'w') as f:\n",
    "    json.dump(reaction_components, f)"
   ]
  },
  {
   "cell_type": "markdown",
   "id": "a1f422a4-8daf-4310-9673-f7e37a01322f",
   "metadata": {},
   "source": [
    "##### Now we need to pass the previous dictionary to the $\\bf{generate\\_reaction\\_scope}$ tool in the EDBOplus class."
   ]
  },
  {
   "cell_type": "code",
   "execution_count": 46,
   "id": "76330307-b63a-4b57-9bab-9fbf9a5d1bfe",
   "metadata": {
    "tags": [],
    "ExecuteTime": {
     "end_time": "2023-09-22T10:22:31.343405Z",
     "start_time": "2023-09-22T10:22:31.108962Z"
    }
   },
   "outputs": [
    {
     "name": "stdout",
     "output_type": "stream",
     "text": [
      "Generating reaction scope...\n"
     ]
    },
    {
     "data": {
      "text/plain": "          A           B      solvent    base    T\n0     R1-A1       R1-B1          NMP   DIPEA   20\n1     R1-A1       R1-B1          NMP   DIPEA  150\n2     R1-A1       R1-B1          NMP     TEA   20\n3     R1-A1       R1-B1          NMP     TEA  150\n4     R1-A1       R1-B1          NMP  NaOtBu   20\n...     ...         ...          ...     ...  ...\n1531  R1-A8  R1-B12 (D)  1,4-dioxane     TEA  150\n1532  R1-A8  R1-B12 (D)  1,4-dioxane  NaOtBu   20\n1533  R1-A8  R1-B12 (D)  1,4-dioxane  NaOtBu  150\n1534  R1-A8  R1-B12 (D)  1,4-dioxane    None   20\n1535  R1-A8  R1-B12 (D)  1,4-dioxane    None  150\n\n[1536 rows x 5 columns]",
      "text/html": "<div>\n<style scoped>\n    .dataframe tbody tr th:only-of-type {\n        vertical-align: middle;\n    }\n\n    .dataframe tbody tr th {\n        vertical-align: top;\n    }\n\n    .dataframe thead th {\n        text-align: right;\n    }\n</style>\n<table border=\"1\" class=\"dataframe\">\n  <thead>\n    <tr style=\"text-align: right;\">\n      <th></th>\n      <th>A</th>\n      <th>B</th>\n      <th>solvent</th>\n      <th>base</th>\n      <th>T</th>\n    </tr>\n  </thead>\n  <tbody>\n    <tr>\n      <th>0</th>\n      <td>R1-A1</td>\n      <td>R1-B1</td>\n      <td>NMP</td>\n      <td>DIPEA</td>\n      <td>20</td>\n    </tr>\n    <tr>\n      <th>1</th>\n      <td>R1-A1</td>\n      <td>R1-B1</td>\n      <td>NMP</td>\n      <td>DIPEA</td>\n      <td>150</td>\n    </tr>\n    <tr>\n      <th>2</th>\n      <td>R1-A1</td>\n      <td>R1-B1</td>\n      <td>NMP</td>\n      <td>TEA</td>\n      <td>20</td>\n    </tr>\n    <tr>\n      <th>3</th>\n      <td>R1-A1</td>\n      <td>R1-B1</td>\n      <td>NMP</td>\n      <td>TEA</td>\n      <td>150</td>\n    </tr>\n    <tr>\n      <th>4</th>\n      <td>R1-A1</td>\n      <td>R1-B1</td>\n      <td>NMP</td>\n      <td>NaOtBu</td>\n      <td>20</td>\n    </tr>\n    <tr>\n      <th>...</th>\n      <td>...</td>\n      <td>...</td>\n      <td>...</td>\n      <td>...</td>\n      <td>...</td>\n    </tr>\n    <tr>\n      <th>1531</th>\n      <td>R1-A8</td>\n      <td>R1-B12 (D)</td>\n      <td>1,4-dioxane</td>\n      <td>TEA</td>\n      <td>150</td>\n    </tr>\n    <tr>\n      <th>1532</th>\n      <td>R1-A8</td>\n      <td>R1-B12 (D)</td>\n      <td>1,4-dioxane</td>\n      <td>NaOtBu</td>\n      <td>20</td>\n    </tr>\n    <tr>\n      <th>1533</th>\n      <td>R1-A8</td>\n      <td>R1-B12 (D)</td>\n      <td>1,4-dioxane</td>\n      <td>NaOtBu</td>\n      <td>150</td>\n    </tr>\n    <tr>\n      <th>1534</th>\n      <td>R1-A8</td>\n      <td>R1-B12 (D)</td>\n      <td>1,4-dioxane</td>\n      <td>None</td>\n      <td>20</td>\n    </tr>\n    <tr>\n      <th>1535</th>\n      <td>R1-A8</td>\n      <td>R1-B12 (D)</td>\n      <td>1,4-dioxane</td>\n      <td>None</td>\n      <td>150</td>\n    </tr>\n  </tbody>\n</table>\n<p>1536 rows × 5 columns</p>\n</div>"
     },
     "execution_count": 46,
     "metadata": {},
     "output_type": "execute_result"
    }
   ],
   "source": [
    "EDBOplus().generate_reaction_scope(\n",
    "    components=reaction_components, \n",
    "    filename='SNAr_optimization.csv',\n",
    "    check_overwrite=False\n",
    ")"
   ]
  },
  {
   "cell_type": "markdown",
   "id": "0420c7e5-fde7-4257-b6c0-84dbcdb0e839",
   "metadata": {
    "tags": []
   },
   "source": [
    "##### We can always load/read the previously generated reaction scope using any spreadsheet editor but in this case we will use Pandas for that:"
   ]
  },
  {
   "cell_type": "code",
   "execution_count": 47,
   "id": "8620d3f4-453a-418a-9c87-80971f04de8e",
   "metadata": {
    "ExecuteTime": {
     "end_time": "2023-09-22T10:22:32.125164Z",
     "start_time": "2023-09-22T10:22:31.927285Z"
    }
   },
   "outputs": [],
   "source": [
    "import pandas as pd\n",
    "df_scope = pd.read_csv('SNAr_optimization.csv')  # Load csv file."
   ]
  },
  {
   "cell_type": "markdown",
   "id": "88ce551f-a066-460d-b208-149f063746a5",
   "metadata": {
    "tags": []
   },
   "source": [
    "##### Now we can check the number of combinations in the reaction scope:"
   ]
  },
  {
   "cell_type": "code",
   "execution_count": 48,
   "id": "1ccc63b1-435d-40b4-8cd9-228a8c735416",
   "metadata": {
    "ExecuteTime": {
     "end_time": "2023-09-22T10:22:33.148386Z",
     "start_time": "2023-09-22T10:22:32.953562Z"
    }
   },
   "outputs": [
    {
     "name": "stdout",
     "output_type": "stream",
     "text": [
      "Your reaction scope has 1536 combinations.\n"
     ]
    }
   ],
   "source": [
    "n_combinations = len(df_scope)\n",
    "print(f\"Your reaction scope has {n_combinations} combinations.\")"
   ]
  },
  {
   "cell_type": "markdown",
   "source": [
    "##### Adding training data. "
   ],
   "metadata": {
    "collapsed": false
   },
   "id": "9f5d01d45dad8ea5"
  },
  {
   "cell_type": "code",
   "execution_count": 73,
   "outputs": [
    {
     "name": "stdout",
     "output_type": "stream",
     "text": [
      "          A           B      solvent   base    T             A_smiles  \\\n",
      "0     R1-A1       R1-B1          NMP  DIPEA   20  N[C@@H]1CCCC[C@H]1N   \n",
      "1     R1-A1       R1-B1          NMP  DIPEA   20  N[C@@H]1CCCC[C@H]1N   \n",
      "2     R1-A1       R1-B1          NMP  DIPEA   20  N[C@@H]1CCCC[C@H]1N   \n",
      "3     R1-A1       R1-B1          NMP  DIPEA  150  N[C@@H]1CCCC[C@H]1N   \n",
      "4     R1-A1       R1-B1          NMP  DIPEA  150  N[C@@H]1CCCC[C@H]1N   \n",
      "...     ...         ...          ...    ...  ...                  ...   \n",
      "4923  R1-A8  R1-B12 (D)  1,4-dioxane   None   20     c1ccc2[nH]cnc2c1   \n",
      "4924  R1-A8  R1-B12 (D)  1,4-dioxane   None   20     c1ccc2[nH]cnc2c1   \n",
      "4925  R1-A8  R1-B12 (D)  1,4-dioxane   None  150     c1ccc2[nH]cnc2c1   \n",
      "4926  R1-A8  R1-B12 (D)  1,4-dioxane   None  150     c1ccc2[nH]cnc2c1   \n",
      "4927  R1-A8  R1-B12 (D)  1,4-dioxane   None  150     c1ccc2[nH]cnc2c1   \n",
      "\n",
      "                        B_smiles  peak_height  \n",
      "0              CC(=O)c1ccc(F)cc1          NaN  \n",
      "1              CC(=O)c1ccc(F)cc1          NaN  \n",
      "2              CC(=O)c1ccc(F)cc1          NaN  \n",
      "3              CC(=O)c1ccc(F)cc1          NaN  \n",
      "4              CC(=O)c1ccc(F)cc1          NaN  \n",
      "...                          ...          ...  \n",
      "4923  O=[N+]([O-])c1cnc(Cl)nc1Cl        102.6  \n",
      "4924  O=[N+]([O-])c1cnc(Cl)nc1Cl        102.6  \n",
      "4925  O=[N+]([O-])c1cnc(Cl)nc1Cl         78.5  \n",
      "4926  O=[N+]([O-])c1cnc(Cl)nc1Cl         78.5  \n",
      "4927  O=[N+]([O-])c1cnc(Cl)nc1Cl         78.5  \n",
      "\n",
      "[4928 rows x 8 columns]\n",
      "          A           B      solvent   base    T             A_smiles  \\\n",
      "0     R1-A1       R1-B1          NMP  DIPEA   20  N[C@@H]1CCCC[C@H]1N   \n",
      "1     R1-A1       R1-B1          NMP  DIPEA   20  N[C@@H]1CCCC[C@H]1N   \n",
      "2     R1-A1       R1-B1          NMP  DIPEA   20  N[C@@H]1CCCC[C@H]1N   \n",
      "3     R1-A1       R1-B1          NMP  DIPEA  150  N[C@@H]1CCCC[C@H]1N   \n",
      "4     R1-A1       R1-B1          NMP  DIPEA  150  N[C@@H]1CCCC[C@H]1N   \n",
      "...     ...         ...          ...    ...  ...                  ...   \n",
      "5003  R1-A8  R1-B12 (D)  1,4-dioxane   None  150     c1ccc2[nH]cnc2c1   \n",
      "5004  R1-A8  R1-B12 (D)  1,4-dioxane   None  150     c1ccc2[nH]cnc2c1   \n",
      "5005  R1-A8  R1-B12 (D)  1,4-dioxane   None  150     c1ccc2[nH]cnc2c1   \n",
      "5006  R1-A8  R1-B12 (D)  1,4-dioxane   None  150     c1ccc2[nH]cnc2c1   \n",
      "5007  R1-A8  R1-B12 (D)  1,4-dioxane   None  150     c1ccc2[nH]cnc2c1   \n",
      "\n",
      "                        B_smiles  peak_height  \n",
      "0              CC(=O)c1ccc(F)cc1         31.7  \n",
      "1              CC(=O)c1ccc(F)cc1         31.7  \n",
      "2              CC(=O)c1ccc(F)cc1         31.7  \n",
      "3              CC(=O)c1ccc(F)cc1          NaN  \n",
      "4              CC(=O)c1ccc(F)cc1          NaN  \n",
      "...                          ...          ...  \n",
      "5003  O=[N+]([O-])c1cnc(Cl)nc1Cl         78.5  \n",
      "5004  O=[N+]([O-])c1cnc(Cl)nc1Cl         78.5  \n",
      "5005  O=[N+]([O-])c1cnc(Cl)nc1Cl         78.5  \n",
      "5006  O=[N+]([O-])c1cnc(Cl)nc1Cl         78.5  \n",
      "5007  O=[N+]([O-])c1cnc(Cl)nc1Cl         78.5  \n",
      "\n",
      "[5008 rows x 8 columns]\n",
      "          A           B      solvent    base    T             A_smiles  \\\n",
      "0     R1-A1       R1-B1          NMP   DIPEA   20  N[C@@H]1CCCC[C@H]1N   \n",
      "1     R1-A1       R1-B1          NMP   DIPEA   20  N[C@@H]1CCCC[C@H]1N   \n",
      "2     R1-A1       R1-B1          NMP   DIPEA   20  N[C@@H]1CCCC[C@H]1N   \n",
      "3     R1-A1       R1-B1          NMP   DIPEA   20  N[C@@H]1CCCC[C@H]1N   \n",
      "4     R1-A1       R1-B1          NMP   DIPEA  150  N[C@@H]1CCCC[C@H]1N   \n",
      "...     ...         ...          ...     ...  ...                  ...   \n",
      "4987  R1-A8  R1-B12 (D)  1,4-dioxane  NaOtBu  150     c1ccc2[nH]cnc2c1   \n",
      "4988  R1-A8  R1-B12 (D)  1,4-dioxane    None   20     c1ccc2[nH]cnc2c1   \n",
      "4989  R1-A8  R1-B12 (D)  1,4-dioxane    None   20     c1ccc2[nH]cnc2c1   \n",
      "4990  R1-A8  R1-B12 (D)  1,4-dioxane    None  150     c1ccc2[nH]cnc2c1   \n",
      "4991  R1-A8  R1-B12 (D)  1,4-dioxane    None  150     c1ccc2[nH]cnc2c1   \n",
      "\n",
      "                        B_smiles  peak_height  \n",
      "0              CC(=O)c1ccc(F)cc1          NaN  \n",
      "1              CC(=O)c1ccc(F)cc1          NaN  \n",
      "2              CC(=O)c1ccc(F)cc1          NaN  \n",
      "3              CC(=O)c1ccc(F)cc1          NaN  \n",
      "4              CC(=O)c1ccc(F)cc1          NaN  \n",
      "...                          ...          ...  \n",
      "4987  O=[N+]([O-])c1cnc(Cl)nc1Cl          NaN  \n",
      "4988  O=[N+]([O-])c1cnc(Cl)nc1Cl          NaN  \n",
      "4989  O=[N+]([O-])c1cnc(Cl)nc1Cl          NaN  \n",
      "4990  O=[N+]([O-])c1cnc(Cl)nc1Cl         78.5  \n",
      "4991  O=[N+]([O-])c1cnc(Cl)nc1Cl         78.5  \n",
      "\n",
      "[4992 rows x 8 columns]\n",
      "          A           B      solvent   base    T             A_smiles  \\\n",
      "0     R1-A1       R1-B1          NMP  DIPEA   20  N[C@@H]1CCCC[C@H]1N   \n",
      "1     R1-A1       R1-B1          NMP  DIPEA   20  N[C@@H]1CCCC[C@H]1N   \n",
      "2     R1-A1       R1-B1          NMP  DIPEA  150  N[C@@H]1CCCC[C@H]1N   \n",
      "3     R1-A1       R1-B1          NMP  DIPEA  150  N[C@@H]1CCCC[C@H]1N   \n",
      "4     R1-A1       R1-B1          NMP    TEA   20  N[C@@H]1CCCC[C@H]1N   \n",
      "...     ...         ...          ...    ...  ...                  ...   \n",
      "5035  R1-A8  R1-B12 (D)  1,4-dioxane   None  150     c1ccc2[nH]cnc2c1   \n",
      "5036  R1-A8  R1-B12 (D)  1,4-dioxane   None  150     c1ccc2[nH]cnc2c1   \n",
      "5037  R1-A8  R1-B12 (D)  1,4-dioxane   None  150     c1ccc2[nH]cnc2c1   \n",
      "5038  R1-A8  R1-B12 (D)  1,4-dioxane   None  150     c1ccc2[nH]cnc2c1   \n",
      "5039  R1-A8  R1-B12 (D)  1,4-dioxane   None  150     c1ccc2[nH]cnc2c1   \n",
      "\n",
      "                        B_smiles  peak_height  \n",
      "0              CC(=O)c1ccc(F)cc1          NaN  \n",
      "1              CC(=O)c1ccc(F)cc1          NaN  \n",
      "2              CC(=O)c1ccc(F)cc1          NaN  \n",
      "3              CC(=O)c1ccc(F)cc1          NaN  \n",
      "4              CC(=O)c1ccc(F)cc1          NaN  \n",
      "...                          ...          ...  \n",
      "5035  O=[N+]([O-])c1cnc(Cl)nc1Cl          NaN  \n",
      "5036  O=[N+]([O-])c1cnc(Cl)nc1Cl          NaN  \n",
      "5037  O=[N+]([O-])c1cnc(Cl)nc1Cl          NaN  \n",
      "5038  O=[N+]([O-])c1cnc(Cl)nc1Cl          NaN  \n",
      "5039  O=[N+]([O-])c1cnc(Cl)nc1Cl          NaN  \n",
      "\n",
      "[5040 rows x 8 columns]\n",
      "          A           B      solvent   base    T             A_smiles  \\\n",
      "0     R1-A1       R1-B1          NMP  DIPEA   20  N[C@@H]1CCCC[C@H]1N   \n",
      "1     R1-A1       R1-B1          NMP  DIPEA   20  N[C@@H]1CCCC[C@H]1N   \n",
      "2     R1-A1       R1-B1          NMP  DIPEA  150  N[C@@H]1CCCC[C@H]1N   \n",
      "3     R1-A1       R1-B1          NMP  DIPEA  150  N[C@@H]1CCCC[C@H]1N   \n",
      "4     R1-A1       R1-B1          NMP    TEA   20  N[C@@H]1CCCC[C@H]1N   \n",
      "...     ...         ...          ...    ...  ...                  ...   \n",
      "5067  R1-A8  R1-B12 (D)  1,4-dioxane   None   20     c1ccc2[nH]cnc2c1   \n",
      "5068  R1-A8  R1-B12 (D)  1,4-dioxane   None   20     c1ccc2[nH]cnc2c1   \n",
      "5069  R1-A8  R1-B12 (D)  1,4-dioxane   None  150     c1ccc2[nH]cnc2c1   \n",
      "5070  R1-A8  R1-B12 (D)  1,4-dioxane   None  150     c1ccc2[nH]cnc2c1   \n",
      "5071  R1-A8  R1-B12 (D)  1,4-dioxane   None  150     c1ccc2[nH]cnc2c1   \n",
      "\n",
      "                        B_smiles  peak_height  \n",
      "0              CC(=O)c1ccc(F)cc1          NaN  \n",
      "1              CC(=O)c1ccc(F)cc1          NaN  \n",
      "2              CC(=O)c1ccc(F)cc1          NaN  \n",
      "3              CC(=O)c1ccc(F)cc1          NaN  \n",
      "4              CC(=O)c1ccc(F)cc1          NaN  \n",
      "...                          ...          ...  \n",
      "5067  O=[N+]([O-])c1cnc(Cl)nc1Cl          NaN  \n",
      "5068  O=[N+]([O-])c1cnc(Cl)nc1Cl          NaN  \n",
      "5069  O=[N+]([O-])c1cnc(Cl)nc1Cl         78.5  \n",
      "5070  O=[N+]([O-])c1cnc(Cl)nc1Cl         78.5  \n",
      "5071  O=[N+]([O-])c1cnc(Cl)nc1Cl         78.5  \n",
      "\n",
      "[5072 rows x 8 columns]\n"
     ]
    }
   ],
   "source": [
    "tests = []\n",
    "for i in range(5):\n",
    "    exp = pd.read_csv(f'figure_S2_test_{i+1}.csv')\n",
    "    # fill in all A, A_smiles, B, B_smiles before other values\n",
    "    df_reactants_filled = df_scope.merge(exp[['A', 'A_smiles', 'B', 'B_smiles']], on=['A', 'B'], how='left')\n",
    "    df_edbo = df_reactants_filled.merge(exp[['A', 'B', 'solvent', 'base', 'T', 'peak_height']], on=['A', 'B', 'solvent', 'base', 'T',], how='left')\n",
    "    print(df_edbo)\n",
    "    df_edbo = df_edbo.fillna('PENDING')\n",
    "    df_edbo = df_edbo.drop_duplicates()\n",
    "    df_edbo.to_csv(f'edbo_initial_figure_S2_test_{i+1}.csv', index=False)\n",
    "    tests.append(df_edbo)"
   ],
   "metadata": {
    "collapsed": false,
    "ExecuteTime": {
     "end_time": "2023-09-22T10:53:11.601720Z",
     "start_time": "2023-09-22T10:53:11.336857Z"
    }
   },
   "id": "dbd6b3f859df0f1c"
  },
  {
   "cell_type": "code",
   "execution_count": 71,
   "outputs": [
    {
     "data": {
      "text/plain": "[          A           B      solvent   base    T             A_smiles  \\\n 0     R1-A1       R1-B1          NMP  DIPEA   20  N[C@@H]1CCCC[C@H]1N   \n 1     R1-A1       R1-B1          NMP  DIPEA   20  N[C@@H]1CCCC[C@H]1N   \n 2     R1-A1       R1-B1          NMP  DIPEA   20  N[C@@H]1CCCC[C@H]1N   \n 3     R1-A1       R1-B1          NMP  DIPEA  150  N[C@@H]1CCCC[C@H]1N   \n 4     R1-A1       R1-B1          NMP  DIPEA  150  N[C@@H]1CCCC[C@H]1N   \n ...     ...         ...          ...    ...  ...                  ...   \n 4923  R1-A8  R1-B12 (D)  1,4-dioxane   None   20     c1ccc2[nH]cnc2c1   \n 4924  R1-A8  R1-B12 (D)  1,4-dioxane   None   20     c1ccc2[nH]cnc2c1   \n 4925  R1-A8  R1-B12 (D)  1,4-dioxane   None  150     c1ccc2[nH]cnc2c1   \n 4926  R1-A8  R1-B12 (D)  1,4-dioxane   None  150     c1ccc2[nH]cnc2c1   \n 4927  R1-A8  R1-B12 (D)  1,4-dioxane   None  150     c1ccc2[nH]cnc2c1   \n \n                         B_smiles peak_height  \n 0              CC(=O)c1ccc(F)cc1     PENDING  \n 1              CC(=O)c1ccc(F)cc1     PENDING  \n 2              CC(=O)c1ccc(F)cc1     PENDING  \n 3              CC(=O)c1ccc(F)cc1     PENDING  \n 4              CC(=O)c1ccc(F)cc1     PENDING  \n ...                          ...         ...  \n 4923  O=[N+]([O-])c1cnc(Cl)nc1Cl       102.6  \n 4924  O=[N+]([O-])c1cnc(Cl)nc1Cl       102.6  \n 4925  O=[N+]([O-])c1cnc(Cl)nc1Cl        78.5  \n 4926  O=[N+]([O-])c1cnc(Cl)nc1Cl        78.5  \n 4927  O=[N+]([O-])c1cnc(Cl)nc1Cl        78.5  \n \n [4928 rows x 8 columns],\n           A           B      solvent   base    T             A_smiles  \\\n 0     R1-A1       R1-B1          NMP  DIPEA   20  N[C@@H]1CCCC[C@H]1N   \n 1     R1-A1       R1-B1          NMP  DIPEA   20  N[C@@H]1CCCC[C@H]1N   \n 2     R1-A1       R1-B1          NMP  DIPEA   20  N[C@@H]1CCCC[C@H]1N   \n 3     R1-A1       R1-B1          NMP  DIPEA  150  N[C@@H]1CCCC[C@H]1N   \n 4     R1-A1       R1-B1          NMP  DIPEA  150  N[C@@H]1CCCC[C@H]1N   \n ...     ...         ...          ...    ...  ...                  ...   \n 5003  R1-A8  R1-B12 (D)  1,4-dioxane   None  150     c1ccc2[nH]cnc2c1   \n 5004  R1-A8  R1-B12 (D)  1,4-dioxane   None  150     c1ccc2[nH]cnc2c1   \n 5005  R1-A8  R1-B12 (D)  1,4-dioxane   None  150     c1ccc2[nH]cnc2c1   \n 5006  R1-A8  R1-B12 (D)  1,4-dioxane   None  150     c1ccc2[nH]cnc2c1   \n 5007  R1-A8  R1-B12 (D)  1,4-dioxane   None  150     c1ccc2[nH]cnc2c1   \n \n                         B_smiles peak_height  \n 0              CC(=O)c1ccc(F)cc1        31.7  \n 1              CC(=O)c1ccc(F)cc1        31.7  \n 2              CC(=O)c1ccc(F)cc1        31.7  \n 3              CC(=O)c1ccc(F)cc1     PENDING  \n 4              CC(=O)c1ccc(F)cc1     PENDING  \n ...                          ...         ...  \n 5003  O=[N+]([O-])c1cnc(Cl)nc1Cl        78.5  \n 5004  O=[N+]([O-])c1cnc(Cl)nc1Cl        78.5  \n 5005  O=[N+]([O-])c1cnc(Cl)nc1Cl        78.5  \n 5006  O=[N+]([O-])c1cnc(Cl)nc1Cl        78.5  \n 5007  O=[N+]([O-])c1cnc(Cl)nc1Cl        78.5  \n \n [5008 rows x 8 columns],\n           A           B      solvent    base    T             A_smiles  \\\n 0     R1-A1       R1-B1          NMP   DIPEA   20  N[C@@H]1CCCC[C@H]1N   \n 1     R1-A1       R1-B1          NMP   DIPEA   20  N[C@@H]1CCCC[C@H]1N   \n 2     R1-A1       R1-B1          NMP   DIPEA   20  N[C@@H]1CCCC[C@H]1N   \n 3     R1-A1       R1-B1          NMP   DIPEA   20  N[C@@H]1CCCC[C@H]1N   \n 4     R1-A1       R1-B1          NMP   DIPEA  150  N[C@@H]1CCCC[C@H]1N   \n ...     ...         ...          ...     ...  ...                  ...   \n 4987  R1-A8  R1-B12 (D)  1,4-dioxane  NaOtBu  150     c1ccc2[nH]cnc2c1   \n 4988  R1-A8  R1-B12 (D)  1,4-dioxane    None   20     c1ccc2[nH]cnc2c1   \n 4989  R1-A8  R1-B12 (D)  1,4-dioxane    None   20     c1ccc2[nH]cnc2c1   \n 4990  R1-A8  R1-B12 (D)  1,4-dioxane    None  150     c1ccc2[nH]cnc2c1   \n 4991  R1-A8  R1-B12 (D)  1,4-dioxane    None  150     c1ccc2[nH]cnc2c1   \n \n                         B_smiles peak_height  \n 0              CC(=O)c1ccc(F)cc1     PENDING  \n 1              CC(=O)c1ccc(F)cc1     PENDING  \n 2              CC(=O)c1ccc(F)cc1     PENDING  \n 3              CC(=O)c1ccc(F)cc1     PENDING  \n 4              CC(=O)c1ccc(F)cc1     PENDING  \n ...                          ...         ...  \n 4987  O=[N+]([O-])c1cnc(Cl)nc1Cl     PENDING  \n 4988  O=[N+]([O-])c1cnc(Cl)nc1Cl     PENDING  \n 4989  O=[N+]([O-])c1cnc(Cl)nc1Cl     PENDING  \n 4990  O=[N+]([O-])c1cnc(Cl)nc1Cl        78.5  \n 4991  O=[N+]([O-])c1cnc(Cl)nc1Cl        78.5  \n \n [4992 rows x 8 columns],\n           A           B      solvent   base    T             A_smiles  \\\n 0     R1-A1       R1-B1          NMP  DIPEA   20  N[C@@H]1CCCC[C@H]1N   \n 1     R1-A1       R1-B1          NMP  DIPEA   20  N[C@@H]1CCCC[C@H]1N   \n 2     R1-A1       R1-B1          NMP  DIPEA  150  N[C@@H]1CCCC[C@H]1N   \n 3     R1-A1       R1-B1          NMP  DIPEA  150  N[C@@H]1CCCC[C@H]1N   \n 4     R1-A1       R1-B1          NMP    TEA   20  N[C@@H]1CCCC[C@H]1N   \n ...     ...         ...          ...    ...  ...                  ...   \n 5035  R1-A8  R1-B12 (D)  1,4-dioxane   None  150     c1ccc2[nH]cnc2c1   \n 5036  R1-A8  R1-B12 (D)  1,4-dioxane   None  150     c1ccc2[nH]cnc2c1   \n 5037  R1-A8  R1-B12 (D)  1,4-dioxane   None  150     c1ccc2[nH]cnc2c1   \n 5038  R1-A8  R1-B12 (D)  1,4-dioxane   None  150     c1ccc2[nH]cnc2c1   \n 5039  R1-A8  R1-B12 (D)  1,4-dioxane   None  150     c1ccc2[nH]cnc2c1   \n \n                         B_smiles peak_height  \n 0              CC(=O)c1ccc(F)cc1     PENDING  \n 1              CC(=O)c1ccc(F)cc1     PENDING  \n 2              CC(=O)c1ccc(F)cc1     PENDING  \n 3              CC(=O)c1ccc(F)cc1     PENDING  \n 4              CC(=O)c1ccc(F)cc1     PENDING  \n ...                          ...         ...  \n 5035  O=[N+]([O-])c1cnc(Cl)nc1Cl     PENDING  \n 5036  O=[N+]([O-])c1cnc(Cl)nc1Cl     PENDING  \n 5037  O=[N+]([O-])c1cnc(Cl)nc1Cl     PENDING  \n 5038  O=[N+]([O-])c1cnc(Cl)nc1Cl     PENDING  \n 5039  O=[N+]([O-])c1cnc(Cl)nc1Cl     PENDING  \n \n [5040 rows x 8 columns],\n           A           B      solvent   base    T             A_smiles  \\\n 0     R1-A1       R1-B1          NMP  DIPEA   20  N[C@@H]1CCCC[C@H]1N   \n 1     R1-A1       R1-B1          NMP  DIPEA   20  N[C@@H]1CCCC[C@H]1N   \n 2     R1-A1       R1-B1          NMP  DIPEA  150  N[C@@H]1CCCC[C@H]1N   \n 3     R1-A1       R1-B1          NMP  DIPEA  150  N[C@@H]1CCCC[C@H]1N   \n 4     R1-A1       R1-B1          NMP    TEA   20  N[C@@H]1CCCC[C@H]1N   \n ...     ...         ...          ...    ...  ...                  ...   \n 5067  R1-A8  R1-B12 (D)  1,4-dioxane   None   20     c1ccc2[nH]cnc2c1   \n 5068  R1-A8  R1-B12 (D)  1,4-dioxane   None   20     c1ccc2[nH]cnc2c1   \n 5069  R1-A8  R1-B12 (D)  1,4-dioxane   None  150     c1ccc2[nH]cnc2c1   \n 5070  R1-A8  R1-B12 (D)  1,4-dioxane   None  150     c1ccc2[nH]cnc2c1   \n 5071  R1-A8  R1-B12 (D)  1,4-dioxane   None  150     c1ccc2[nH]cnc2c1   \n \n                         B_smiles peak_height  \n 0              CC(=O)c1ccc(F)cc1     PENDING  \n 1              CC(=O)c1ccc(F)cc1     PENDING  \n 2              CC(=O)c1ccc(F)cc1     PENDING  \n 3              CC(=O)c1ccc(F)cc1     PENDING  \n 4              CC(=O)c1ccc(F)cc1     PENDING  \n ...                          ...         ...  \n 5067  O=[N+]([O-])c1cnc(Cl)nc1Cl     PENDING  \n 5068  O=[N+]([O-])c1cnc(Cl)nc1Cl     PENDING  \n 5069  O=[N+]([O-])c1cnc(Cl)nc1Cl        78.5  \n 5070  O=[N+]([O-])c1cnc(Cl)nc1Cl        78.5  \n 5071  O=[N+]([O-])c1cnc(Cl)nc1Cl        78.5  \n \n [5072 rows x 8 columns]]"
     },
     "execution_count": 71,
     "metadata": {},
     "output_type": "execute_result"
    }
   ],
   "source": [
    "tests"
   ],
   "metadata": {
    "collapsed": false,
    "ExecuteTime": {
     "end_time": "2023-09-22T10:50:03.760947Z",
     "start_time": "2023-09-22T10:50:03.355997Z"
    }
   },
   "id": "8c6442f07cf50aac"
  },
  {
   "cell_type": "markdown",
   "id": "2bed9b2e-1e50-49d1-901e-bb311c430b23",
   "metadata": {},
   "source": [
    "## 2a. First steps, initializing EDBO+ with training data. OHE."
   ]
  },
  {
   "cell_type": "code",
   "execution_count": 57,
   "id": "553752b1-9870-408f-953a-bebd960da937",
   "metadata": {
    "ExecuteTime": {
     "end_time": "2023-09-22T10:34:46.142985Z",
     "start_time": "2023-09-22T10:34:45.700003Z"
    }
   },
   "outputs": [
    {
     "name": "stdout",
     "output_type": "stream",
     "text": [
      "The following columns are categorical and will be encoded using One-Hot-Encoding: ['A', 'B', 'solvent', 'base']\n"
     ]
    },
    {
     "ename": "AttributeError",
     "evalue": "Can only use .str accessor with string values!",
     "output_type": "error",
     "traceback": [
      "\u001B[0;31m---------------------------------------------------------------------------\u001B[0m",
      "\u001B[0;31mAttributeError\u001B[0m                            Traceback (most recent call last)",
      "\u001B[0;32m/var/folders/sg/gb03t0zx5sz8vw2lxlghz1gr0000gn/T/ipykernel_9877/2507088876.py\u001B[0m in \u001B[0;36m<module>\u001B[0;34m\u001B[0m\n\u001B[0;32m----> 1\u001B[0;31m EDBOplus().run(\n\u001B[0m\u001B[1;32m      2\u001B[0m     \u001B[0mfilename\u001B[0m\u001B[0;34m=\u001B[0m\u001B[0;34m'figure_S2_test_1.csv'\u001B[0m\u001B[0;34m,\u001B[0m  \u001B[0;31m# Previously generated scope.\u001B[0m\u001B[0;34m\u001B[0m\u001B[0;34m\u001B[0m\u001B[0m\n\u001B[1;32m      3\u001B[0m     \u001B[0mobjectives\u001B[0m\u001B[0;34m=\u001B[0m\u001B[0;34m[\u001B[0m\u001B[0;34m'peak_height'\u001B[0m\u001B[0;34m]\u001B[0m\u001B[0;34m,\u001B[0m  \u001B[0;31m# Objectives to be optimized.\u001B[0m\u001B[0;34m\u001B[0m\u001B[0;34m\u001B[0m\u001B[0m\n\u001B[1;32m      4\u001B[0m     \u001B[0mobjective_mode\u001B[0m\u001B[0;34m=\u001B[0m\u001B[0;34m[\u001B[0m\u001B[0;34m'max'\u001B[0m\u001B[0;34m]\u001B[0m\u001B[0;34m,\u001B[0m  \u001B[0;31m# Maximize yield and ee but minimize side_product.\u001B[0m\u001B[0;34m\u001B[0m\u001B[0;34m\u001B[0m\u001B[0m\n\u001B[1;32m      5\u001B[0m     \u001B[0mbatch\u001B[0m\u001B[0;34m=\u001B[0m\u001B[0;36m96\u001B[0m\u001B[0;34m,\u001B[0m  \u001B[0;31m# Number of experiments in parallel that we want to perform in this round.\u001B[0m\u001B[0;34m\u001B[0m\u001B[0;34m\u001B[0m\u001B[0m\n",
      "\u001B[0;32m~/PycharmProjects/edboplus_scope/edbo/plus/optimizer_botorch.py\u001B[0m in \u001B[0;36mrun\u001B[0;34m(self, objectives, objective_mode, objective_thresholds, directory, filename, columns_features, batch, init_sampling_method, seed, scaler_features, scaler_objectives, acquisition_function, acquisition_function_sampler)\u001B[0m\n\u001B[1;32m    251\u001B[0m \u001B[0;34m\u001B[0m\u001B[0m\n\u001B[1;32m    252\u001B[0m         \u001B[0;31m# 3.2. Any sample with a value 'PENDING' in any objective is a test.\u001B[0m\u001B[0;34m\u001B[0m\u001B[0;34m\u001B[0m\u001B[0;34m\u001B[0m\u001B[0m\n\u001B[0;32m--> 253\u001B[0;31m         \u001B[0midx_test\u001B[0m \u001B[0;34m=\u001B[0m \u001B[0;34m(\u001B[0m\u001B[0mdata\u001B[0m\u001B[0;34m[\u001B[0m\u001B[0mdata\u001B[0m\u001B[0;34m.\u001B[0m\u001B[0mapply\u001B[0m\u001B[0;34m(\u001B[0m\u001B[0;32mlambda\u001B[0m \u001B[0mr\u001B[0m\u001B[0;34m:\u001B[0m \u001B[0mr\u001B[0m\u001B[0;34m.\u001B[0m\u001B[0mstr\u001B[0m\u001B[0;34m.\u001B[0m\u001B[0mcontains\u001B[0m\u001B[0;34m(\u001B[0m\u001B[0;34m'PENDING'\u001B[0m\u001B[0;34m,\u001B[0m \u001B[0mcase\u001B[0m\u001B[0;34m=\u001B[0m\u001B[0;32mFalse\u001B[0m\u001B[0;34m)\u001B[0m\u001B[0;34m.\u001B[0m\u001B[0many\u001B[0m\u001B[0;34m(\u001B[0m\u001B[0;34m)\u001B[0m\u001B[0;34m,\u001B[0m \u001B[0maxis\u001B[0m\u001B[0;34m=\u001B[0m\u001B[0;36m1\u001B[0m\u001B[0;34m)\u001B[0m\u001B[0;34m]\u001B[0m\u001B[0;34m)\u001B[0m\u001B[0;34m.\u001B[0m\u001B[0mindex\u001B[0m\u001B[0;34m.\u001B[0m\u001B[0mvalues\u001B[0m\u001B[0;34m\u001B[0m\u001B[0;34m\u001B[0m\u001B[0m\n\u001B[0m\u001B[1;32m    254\u001B[0m         \u001B[0midx_train\u001B[0m \u001B[0;34m=\u001B[0m \u001B[0;34m(\u001B[0m\u001B[0mdata\u001B[0m\u001B[0;34m[\u001B[0m\u001B[0;34m~\u001B[0m\u001B[0mdata\u001B[0m\u001B[0;34m.\u001B[0m\u001B[0mapply\u001B[0m\u001B[0;34m(\u001B[0m\u001B[0;32mlambda\u001B[0m \u001B[0mr\u001B[0m\u001B[0;34m:\u001B[0m \u001B[0mr\u001B[0m\u001B[0;34m.\u001B[0m\u001B[0mstr\u001B[0m\u001B[0;34m.\u001B[0m\u001B[0mcontains\u001B[0m\u001B[0;34m(\u001B[0m\u001B[0;34m'PENDING'\u001B[0m\u001B[0;34m,\u001B[0m \u001B[0mcase\u001B[0m\u001B[0;34m=\u001B[0m\u001B[0;32mFalse\u001B[0m\u001B[0;34m)\u001B[0m\u001B[0;34m.\u001B[0m\u001B[0many\u001B[0m\u001B[0;34m(\u001B[0m\u001B[0;34m)\u001B[0m\u001B[0;34m,\u001B[0m \u001B[0maxis\u001B[0m\u001B[0;34m=\u001B[0m\u001B[0;36m1\u001B[0m\u001B[0;34m)\u001B[0m\u001B[0;34m]\u001B[0m\u001B[0;34m)\u001B[0m\u001B[0;34m.\u001B[0m\u001B[0mindex\u001B[0m\u001B[0;34m.\u001B[0m\u001B[0mvalues\u001B[0m\u001B[0;34m\u001B[0m\u001B[0;34m\u001B[0m\u001B[0m\n\u001B[1;32m    255\u001B[0m \u001B[0;34m\u001B[0m\u001B[0m\n",
      "\u001B[0;32m/opt/homebrew/anaconda3/envs/edboplus_scope/lib/python3.8/site-packages/pandas/core/frame.py\u001B[0m in \u001B[0;36mapply\u001B[0;34m(self, func, axis, raw, result_type, args, **kwargs)\u001B[0m\n\u001B[1;32m   8738\u001B[0m             \u001B[0mkwargs\u001B[0m\u001B[0;34m=\u001B[0m\u001B[0mkwargs\u001B[0m\u001B[0;34m,\u001B[0m\u001B[0;34m\u001B[0m\u001B[0;34m\u001B[0m\u001B[0m\n\u001B[1;32m   8739\u001B[0m         )\n\u001B[0;32m-> 8740\u001B[0;31m         \u001B[0;32mreturn\u001B[0m \u001B[0mop\u001B[0m\u001B[0;34m.\u001B[0m\u001B[0mapply\u001B[0m\u001B[0;34m(\u001B[0m\u001B[0;34m)\u001B[0m\u001B[0;34m\u001B[0m\u001B[0;34m\u001B[0m\u001B[0m\n\u001B[0m\u001B[1;32m   8741\u001B[0m \u001B[0;34m\u001B[0m\u001B[0m\n\u001B[1;32m   8742\u001B[0m     def applymap(\n",
      "\u001B[0;32m/opt/homebrew/anaconda3/envs/edboplus_scope/lib/python3.8/site-packages/pandas/core/apply.py\u001B[0m in \u001B[0;36mapply\u001B[0;34m(self)\u001B[0m\n\u001B[1;32m    686\u001B[0m             \u001B[0;32mreturn\u001B[0m \u001B[0mself\u001B[0m\u001B[0;34m.\u001B[0m\u001B[0mapply_raw\u001B[0m\u001B[0;34m(\u001B[0m\u001B[0;34m)\u001B[0m\u001B[0;34m\u001B[0m\u001B[0;34m\u001B[0m\u001B[0m\n\u001B[1;32m    687\u001B[0m \u001B[0;34m\u001B[0m\u001B[0m\n\u001B[0;32m--> 688\u001B[0;31m         \u001B[0;32mreturn\u001B[0m \u001B[0mself\u001B[0m\u001B[0;34m.\u001B[0m\u001B[0mapply_standard\u001B[0m\u001B[0;34m(\u001B[0m\u001B[0;34m)\u001B[0m\u001B[0;34m\u001B[0m\u001B[0;34m\u001B[0m\u001B[0m\n\u001B[0m\u001B[1;32m    689\u001B[0m \u001B[0;34m\u001B[0m\u001B[0m\n\u001B[1;32m    690\u001B[0m     \u001B[0;32mdef\u001B[0m \u001B[0magg\u001B[0m\u001B[0;34m(\u001B[0m\u001B[0mself\u001B[0m\u001B[0;34m)\u001B[0m\u001B[0;34m:\u001B[0m\u001B[0;34m\u001B[0m\u001B[0;34m\u001B[0m\u001B[0m\n",
      "\u001B[0;32m/opt/homebrew/anaconda3/envs/edboplus_scope/lib/python3.8/site-packages/pandas/core/apply.py\u001B[0m in \u001B[0;36mapply_standard\u001B[0;34m(self)\u001B[0m\n\u001B[1;32m    810\u001B[0m \u001B[0;34m\u001B[0m\u001B[0m\n\u001B[1;32m    811\u001B[0m     \u001B[0;32mdef\u001B[0m \u001B[0mapply_standard\u001B[0m\u001B[0;34m(\u001B[0m\u001B[0mself\u001B[0m\u001B[0;34m)\u001B[0m\u001B[0;34m:\u001B[0m\u001B[0;34m\u001B[0m\u001B[0;34m\u001B[0m\u001B[0m\n\u001B[0;32m--> 812\u001B[0;31m         \u001B[0mresults\u001B[0m\u001B[0;34m,\u001B[0m \u001B[0mres_index\u001B[0m \u001B[0;34m=\u001B[0m \u001B[0mself\u001B[0m\u001B[0;34m.\u001B[0m\u001B[0mapply_series_generator\u001B[0m\u001B[0;34m(\u001B[0m\u001B[0;34m)\u001B[0m\u001B[0;34m\u001B[0m\u001B[0;34m\u001B[0m\u001B[0m\n\u001B[0m\u001B[1;32m    813\u001B[0m \u001B[0;34m\u001B[0m\u001B[0m\n\u001B[1;32m    814\u001B[0m         \u001B[0;31m# wrap results\u001B[0m\u001B[0;34m\u001B[0m\u001B[0;34m\u001B[0m\u001B[0;34m\u001B[0m\u001B[0m\n",
      "\u001B[0;32m/opt/homebrew/anaconda3/envs/edboplus_scope/lib/python3.8/site-packages/pandas/core/apply.py\u001B[0m in \u001B[0;36mapply_series_generator\u001B[0;34m(self)\u001B[0m\n\u001B[1;32m    826\u001B[0m             \u001B[0;32mfor\u001B[0m \u001B[0mi\u001B[0m\u001B[0;34m,\u001B[0m \u001B[0mv\u001B[0m \u001B[0;32min\u001B[0m \u001B[0menumerate\u001B[0m\u001B[0;34m(\u001B[0m\u001B[0mseries_gen\u001B[0m\u001B[0;34m)\u001B[0m\u001B[0;34m:\u001B[0m\u001B[0;34m\u001B[0m\u001B[0;34m\u001B[0m\u001B[0m\n\u001B[1;32m    827\u001B[0m                 \u001B[0;31m# ignore SettingWithCopy here in case the user mutates\u001B[0m\u001B[0;34m\u001B[0m\u001B[0;34m\u001B[0m\u001B[0;34m\u001B[0m\u001B[0m\n\u001B[0;32m--> 828\u001B[0;31m                 \u001B[0mresults\u001B[0m\u001B[0;34m[\u001B[0m\u001B[0mi\u001B[0m\u001B[0;34m]\u001B[0m \u001B[0;34m=\u001B[0m \u001B[0mself\u001B[0m\u001B[0;34m.\u001B[0m\u001B[0mf\u001B[0m\u001B[0;34m(\u001B[0m\u001B[0mv\u001B[0m\u001B[0;34m)\u001B[0m\u001B[0;34m\u001B[0m\u001B[0;34m\u001B[0m\u001B[0m\n\u001B[0m\u001B[1;32m    829\u001B[0m                 \u001B[0;32mif\u001B[0m \u001B[0misinstance\u001B[0m\u001B[0;34m(\u001B[0m\u001B[0mresults\u001B[0m\u001B[0;34m[\u001B[0m\u001B[0mi\u001B[0m\u001B[0;34m]\u001B[0m\u001B[0;34m,\u001B[0m \u001B[0mABCSeries\u001B[0m\u001B[0;34m)\u001B[0m\u001B[0;34m:\u001B[0m\u001B[0;34m\u001B[0m\u001B[0;34m\u001B[0m\u001B[0m\n\u001B[1;32m    830\u001B[0m                     \u001B[0;31m# If we have a view on v, we need to make a copy because\u001B[0m\u001B[0;34m\u001B[0m\u001B[0;34m\u001B[0m\u001B[0;34m\u001B[0m\u001B[0m\n",
      "\u001B[0;32m~/PycharmProjects/edboplus_scope/edbo/plus/optimizer_botorch.py\u001B[0m in \u001B[0;36m<lambda>\u001B[0;34m(r)\u001B[0m\n\u001B[1;32m    251\u001B[0m \u001B[0;34m\u001B[0m\u001B[0m\n\u001B[1;32m    252\u001B[0m         \u001B[0;31m# 3.2. Any sample with a value 'PENDING' in any objective is a test.\u001B[0m\u001B[0;34m\u001B[0m\u001B[0;34m\u001B[0m\u001B[0;34m\u001B[0m\u001B[0m\n\u001B[0;32m--> 253\u001B[0;31m         \u001B[0midx_test\u001B[0m \u001B[0;34m=\u001B[0m \u001B[0;34m(\u001B[0m\u001B[0mdata\u001B[0m\u001B[0;34m[\u001B[0m\u001B[0mdata\u001B[0m\u001B[0;34m.\u001B[0m\u001B[0mapply\u001B[0m\u001B[0;34m(\u001B[0m\u001B[0;32mlambda\u001B[0m \u001B[0mr\u001B[0m\u001B[0;34m:\u001B[0m \u001B[0mr\u001B[0m\u001B[0;34m.\u001B[0m\u001B[0mstr\u001B[0m\u001B[0;34m.\u001B[0m\u001B[0mcontains\u001B[0m\u001B[0;34m(\u001B[0m\u001B[0;34m'PENDING'\u001B[0m\u001B[0;34m,\u001B[0m \u001B[0mcase\u001B[0m\u001B[0;34m=\u001B[0m\u001B[0;32mFalse\u001B[0m\u001B[0;34m)\u001B[0m\u001B[0;34m.\u001B[0m\u001B[0many\u001B[0m\u001B[0;34m(\u001B[0m\u001B[0;34m)\u001B[0m\u001B[0;34m,\u001B[0m \u001B[0maxis\u001B[0m\u001B[0;34m=\u001B[0m\u001B[0;36m1\u001B[0m\u001B[0;34m)\u001B[0m\u001B[0;34m]\u001B[0m\u001B[0;34m)\u001B[0m\u001B[0;34m.\u001B[0m\u001B[0mindex\u001B[0m\u001B[0;34m.\u001B[0m\u001B[0mvalues\u001B[0m\u001B[0;34m\u001B[0m\u001B[0;34m\u001B[0m\u001B[0m\n\u001B[0m\u001B[1;32m    254\u001B[0m         \u001B[0midx_train\u001B[0m \u001B[0;34m=\u001B[0m \u001B[0;34m(\u001B[0m\u001B[0mdata\u001B[0m\u001B[0;34m[\u001B[0m\u001B[0;34m~\u001B[0m\u001B[0mdata\u001B[0m\u001B[0;34m.\u001B[0m\u001B[0mapply\u001B[0m\u001B[0;34m(\u001B[0m\u001B[0;32mlambda\u001B[0m \u001B[0mr\u001B[0m\u001B[0;34m:\u001B[0m \u001B[0mr\u001B[0m\u001B[0;34m.\u001B[0m\u001B[0mstr\u001B[0m\u001B[0;34m.\u001B[0m\u001B[0mcontains\u001B[0m\u001B[0;34m(\u001B[0m\u001B[0;34m'PENDING'\u001B[0m\u001B[0;34m,\u001B[0m \u001B[0mcase\u001B[0m\u001B[0;34m=\u001B[0m\u001B[0;32mFalse\u001B[0m\u001B[0;34m)\u001B[0m\u001B[0;34m.\u001B[0m\u001B[0many\u001B[0m\u001B[0;34m(\u001B[0m\u001B[0;34m)\u001B[0m\u001B[0;34m,\u001B[0m \u001B[0maxis\u001B[0m\u001B[0;34m=\u001B[0m\u001B[0;36m1\u001B[0m\u001B[0;34m)\u001B[0m\u001B[0;34m]\u001B[0m\u001B[0;34m)\u001B[0m\u001B[0;34m.\u001B[0m\u001B[0mindex\u001B[0m\u001B[0;34m.\u001B[0m\u001B[0mvalues\u001B[0m\u001B[0;34m\u001B[0m\u001B[0;34m\u001B[0m\u001B[0m\n\u001B[1;32m    255\u001B[0m \u001B[0;34m\u001B[0m\u001B[0m\n",
      "\u001B[0;32m/opt/homebrew/anaconda3/envs/edboplus_scope/lib/python3.8/site-packages/pandas/core/generic.py\u001B[0m in \u001B[0;36m__getattr__\u001B[0;34m(self, name)\u001B[0m\n\u001B[1;32m   5485\u001B[0m         ):\n\u001B[1;32m   5486\u001B[0m             \u001B[0;32mreturn\u001B[0m \u001B[0mself\u001B[0m\u001B[0;34m[\u001B[0m\u001B[0mname\u001B[0m\u001B[0;34m]\u001B[0m\u001B[0;34m\u001B[0m\u001B[0;34m\u001B[0m\u001B[0m\n\u001B[0;32m-> 5487\u001B[0;31m         \u001B[0;32mreturn\u001B[0m \u001B[0mobject\u001B[0m\u001B[0;34m.\u001B[0m\u001B[0m__getattribute__\u001B[0m\u001B[0;34m(\u001B[0m\u001B[0mself\u001B[0m\u001B[0;34m,\u001B[0m \u001B[0mname\u001B[0m\u001B[0;34m)\u001B[0m\u001B[0;34m\u001B[0m\u001B[0;34m\u001B[0m\u001B[0m\n\u001B[0m\u001B[1;32m   5488\u001B[0m \u001B[0;34m\u001B[0m\u001B[0m\n\u001B[1;32m   5489\u001B[0m     \u001B[0;32mdef\u001B[0m \u001B[0m__setattr__\u001B[0m\u001B[0;34m(\u001B[0m\u001B[0mself\u001B[0m\u001B[0;34m,\u001B[0m \u001B[0mname\u001B[0m\u001B[0;34m:\u001B[0m \u001B[0mstr\u001B[0m\u001B[0;34m,\u001B[0m \u001B[0mvalue\u001B[0m\u001B[0;34m)\u001B[0m \u001B[0;34m->\u001B[0m \u001B[0;32mNone\u001B[0m\u001B[0;34m:\u001B[0m\u001B[0;34m\u001B[0m\u001B[0;34m\u001B[0m\u001B[0m\n",
      "\u001B[0;32m/opt/homebrew/anaconda3/envs/edboplus_scope/lib/python3.8/site-packages/pandas/core/accessor.py\u001B[0m in \u001B[0;36m__get__\u001B[0;34m(self, obj, cls)\u001B[0m\n\u001B[1;32m    179\u001B[0m             \u001B[0;31m# we're accessing the attribute of the class, i.e., Dataset.geo\u001B[0m\u001B[0;34m\u001B[0m\u001B[0;34m\u001B[0m\u001B[0;34m\u001B[0m\u001B[0m\n\u001B[1;32m    180\u001B[0m             \u001B[0;32mreturn\u001B[0m \u001B[0mself\u001B[0m\u001B[0;34m.\u001B[0m\u001B[0m_accessor\u001B[0m\u001B[0;34m\u001B[0m\u001B[0;34m\u001B[0m\u001B[0m\n\u001B[0;32m--> 181\u001B[0;31m         \u001B[0maccessor_obj\u001B[0m \u001B[0;34m=\u001B[0m \u001B[0mself\u001B[0m\u001B[0;34m.\u001B[0m\u001B[0m_accessor\u001B[0m\u001B[0;34m(\u001B[0m\u001B[0mobj\u001B[0m\u001B[0;34m)\u001B[0m\u001B[0;34m\u001B[0m\u001B[0;34m\u001B[0m\u001B[0m\n\u001B[0m\u001B[1;32m    182\u001B[0m         \u001B[0;31m# Replace the property with the accessor object. Inspired by:\u001B[0m\u001B[0;34m\u001B[0m\u001B[0;34m\u001B[0m\u001B[0;34m\u001B[0m\u001B[0m\n\u001B[1;32m    183\u001B[0m         \u001B[0;31m# https://www.pydanny.com/cached-property.html\u001B[0m\u001B[0;34m\u001B[0m\u001B[0;34m\u001B[0m\u001B[0;34m\u001B[0m\u001B[0m\n",
      "\u001B[0;32m/opt/homebrew/anaconda3/envs/edboplus_scope/lib/python3.8/site-packages/pandas/core/strings/accessor.py\u001B[0m in \u001B[0;36m__init__\u001B[0;34m(self, data)\u001B[0m\n\u001B[1;32m    166\u001B[0m         \u001B[0;32mfrom\u001B[0m \u001B[0mpandas\u001B[0m\u001B[0;34m.\u001B[0m\u001B[0mcore\u001B[0m\u001B[0;34m.\u001B[0m\u001B[0marrays\u001B[0m\u001B[0;34m.\u001B[0m\u001B[0mstring_\u001B[0m \u001B[0;32mimport\u001B[0m \u001B[0mStringDtype\u001B[0m\u001B[0;34m\u001B[0m\u001B[0;34m\u001B[0m\u001B[0m\n\u001B[1;32m    167\u001B[0m \u001B[0;34m\u001B[0m\u001B[0m\n\u001B[0;32m--> 168\u001B[0;31m         \u001B[0mself\u001B[0m\u001B[0;34m.\u001B[0m\u001B[0m_inferred_dtype\u001B[0m \u001B[0;34m=\u001B[0m \u001B[0mself\u001B[0m\u001B[0;34m.\u001B[0m\u001B[0m_validate\u001B[0m\u001B[0;34m(\u001B[0m\u001B[0mdata\u001B[0m\u001B[0;34m)\u001B[0m\u001B[0;34m\u001B[0m\u001B[0;34m\u001B[0m\u001B[0m\n\u001B[0m\u001B[1;32m    169\u001B[0m         \u001B[0mself\u001B[0m\u001B[0;34m.\u001B[0m\u001B[0m_is_categorical\u001B[0m \u001B[0;34m=\u001B[0m \u001B[0mis_categorical_dtype\u001B[0m\u001B[0;34m(\u001B[0m\u001B[0mdata\u001B[0m\u001B[0;34m.\u001B[0m\u001B[0mdtype\u001B[0m\u001B[0;34m)\u001B[0m\u001B[0;34m\u001B[0m\u001B[0;34m\u001B[0m\u001B[0m\n\u001B[1;32m    170\u001B[0m         \u001B[0mself\u001B[0m\u001B[0;34m.\u001B[0m\u001B[0m_is_string\u001B[0m \u001B[0;34m=\u001B[0m \u001B[0misinstance\u001B[0m\u001B[0;34m(\u001B[0m\u001B[0mdata\u001B[0m\u001B[0;34m.\u001B[0m\u001B[0mdtype\u001B[0m\u001B[0;34m,\u001B[0m \u001B[0mStringDtype\u001B[0m\u001B[0;34m)\u001B[0m\u001B[0;34m\u001B[0m\u001B[0;34m\u001B[0m\u001B[0m\n",
      "\u001B[0;32m/opt/homebrew/anaconda3/envs/edboplus_scope/lib/python3.8/site-packages/pandas/core/strings/accessor.py\u001B[0m in \u001B[0;36m_validate\u001B[0;34m(data)\u001B[0m\n\u001B[1;32m    223\u001B[0m \u001B[0;34m\u001B[0m\u001B[0m\n\u001B[1;32m    224\u001B[0m         \u001B[0;32mif\u001B[0m \u001B[0minferred_dtype\u001B[0m \u001B[0;32mnot\u001B[0m \u001B[0;32min\u001B[0m \u001B[0mallowed_types\u001B[0m\u001B[0;34m:\u001B[0m\u001B[0;34m\u001B[0m\u001B[0;34m\u001B[0m\u001B[0m\n\u001B[0;32m--> 225\u001B[0;31m             \u001B[0;32mraise\u001B[0m \u001B[0mAttributeError\u001B[0m\u001B[0;34m(\u001B[0m\u001B[0;34m\"Can only use .str accessor with string values!\"\u001B[0m\u001B[0;34m)\u001B[0m\u001B[0;34m\u001B[0m\u001B[0;34m\u001B[0m\u001B[0m\n\u001B[0m\u001B[1;32m    226\u001B[0m         \u001B[0;32mreturn\u001B[0m \u001B[0minferred_dtype\u001B[0m\u001B[0;34m\u001B[0m\u001B[0;34m\u001B[0m\u001B[0m\n\u001B[1;32m    227\u001B[0m \u001B[0;34m\u001B[0m\u001B[0m\n",
      "\u001B[0;31mAttributeError\u001B[0m: Can only use .str accessor with string values!"
     ]
    }
   ],
   "source": [
    "EDBOplus().run(\n",
    "    filename='figure_S2_test_1.csv',  # Previously generated scope.\n",
    "    objectives=['peak_height'],  # Objectives to be optimized.\n",
    "    objective_mode=['max'],  # Maximize yield and ee but minimize side_product.\n",
    "    batch=96,  # Number of experiments in parallel that we want to perform in this round.\n",
    "    columns_features=['A', 'B', 'solvent', 'base', 'T', 'peak_height'], # features to be included in the model.\n",
    "    init_sampling_method='cvtsampling'  # initialization method.\n",
    ")"
   ]
  },
  {
   "cell_type": "markdown",
   "id": "d56182ae-bb18-4c3d-a997-7115d18a851f",
   "metadata": {},
   "source": [
    "##### EDBO+ has created a column for each objective and added $\\bf{PENDING}$ values to all of them so you can track the experiments that you have been collecting during the optimization campaign.\n",
    "##### We can also see that EDBO+ has created a new $\\bf{priority}$ column. This column is used to distinguish between high and low priority samples. The top entries (with $\\bf{priority=1}$) highlight the next suggested samples."
   ]
  },
  {
   "cell_type": "markdown",
   "id": "273c23a8-651c-4e12-bfd2-291b2d695109",
   "metadata": {},
   "source": [
    "##### We can check now the first 96 experiments in the scope by reading the $\\bf{my\\_optimization.csv}$ file:"
   ]
  },
  {
   "cell_type": "code",
   "execution_count": 1,
   "id": "ac1adce5-9868-445a-8439-c2e9d7c47ea0",
   "metadata": {
    "ExecuteTime": {
     "end_time": "2023-09-25T15:03:31.201081Z",
     "start_time": "2023-09-25T15:03:31.125218Z"
    }
   },
   "outputs": [
    {
     "ename": "NameError",
     "evalue": "name 'pd' is not defined",
     "output_type": "error",
     "traceback": [
      "\u001B[0;31m---------------------------------------------------------------------------\u001B[0m",
      "\u001B[0;31mNameError\u001B[0m                                 Traceback (most recent call last)",
      "\u001B[0;32m/var/folders/sg/gb03t0zx5sz8vw2lxlghz1gr0000gn/T/ipykernel_63657/2067191533.py\u001B[0m in \u001B[0;36m<module>\u001B[0;34m\u001B[0m\n\u001B[0;32m----> 1\u001B[0;31m \u001B[0mdf_edbo\u001B[0m \u001B[0;34m=\u001B[0m \u001B[0mpd\u001B[0m\u001B[0;34m.\u001B[0m\u001B[0mread_csv\u001B[0m\u001B[0;34m(\u001B[0m\u001B[0;34m'OHE_SNAr_optimization.csv'\u001B[0m\u001B[0;34m)\u001B[0m\u001B[0;34m\u001B[0m\u001B[0;34m\u001B[0m\u001B[0m\n\u001B[0m\u001B[1;32m      2\u001B[0m \u001B[0mdf_edbo\u001B[0m\u001B[0;34m\u001B[0m\u001B[0;34m\u001B[0m\u001B[0m\n",
      "\u001B[0;31mNameError\u001B[0m: name 'pd' is not defined"
     ]
    }
   ],
   "source": [
    "df_edbo = pd.read_csv('OHE_SNAr_optimization.csv')\n",
    "df_edbo"
   ]
  },
  {
   "cell_type": "markdown",
   "id": "983af8fb-28e5-469e-81bb-dac0b610a4a8",
   "metadata": {},
   "source": [
    "## 3. Adding training data in EDBO+."
   ]
  },
  {
   "cell_type": "markdown",
   "id": "ea74eccc-4062-4192-91a5-d664198ff758",
   "metadata": {},
   "source": [
    "##### Note: We will use Python and Pandas to add new training data in this example. But you can always edit and add new data into the '.csv' file using any spreedsheet editor (such as Excel, Libreoffice Calc, ...) if that's more convinient for you."
   ]
  },
  {
   "cell_type": "markdown",
   "id": "3265c8b0-431a-41cf-9df2-cbb4d08e74f1",
   "metadata": {},
   "source": [
    "##### Let's open again the $\\bf{my\\_optimization.csv}$ file we generated before:"
   ]
  },
  {
   "cell_type": "code",
   "execution_count": 55,
   "id": "71325a29-6fa1-4b40-8021-c871132b502f",
   "metadata": {
    "ExecuteTime": {
     "end_time": "2023-09-22T10:28:29.195150Z",
     "start_time": "2023-09-22T10:28:28.991938Z"
    }
   },
   "outputs": [
    {
     "data": {
      "text/plain": "       A           B      solvent    base    T peak_height  priority\n0  R1-A6      R1-B11  1,4-dioxane    None  150     PENDING         1\n1  R1-A5      R1-B10          NMP    None   20     PENDING         1\n2  R1-A3  R1-B12 (D)  1,4-dioxane    None  150     PENDING         1\n3  R1-A6       R1-B6  1,4-dioxane  NaOtBu  150     PENDING         1\n4  R1-A7       R1-B6          NMP   DIPEA   20     PENDING         1",
      "text/html": "<div>\n<style scoped>\n    .dataframe tbody tr th:only-of-type {\n        vertical-align: middle;\n    }\n\n    .dataframe tbody tr th {\n        vertical-align: top;\n    }\n\n    .dataframe thead th {\n        text-align: right;\n    }\n</style>\n<table border=\"1\" class=\"dataframe\">\n  <thead>\n    <tr style=\"text-align: right;\">\n      <th></th>\n      <th>A</th>\n      <th>B</th>\n      <th>solvent</th>\n      <th>base</th>\n      <th>T</th>\n      <th>peak_height</th>\n      <th>priority</th>\n    </tr>\n  </thead>\n  <tbody>\n    <tr>\n      <th>0</th>\n      <td>R1-A6</td>\n      <td>R1-B11</td>\n      <td>1,4-dioxane</td>\n      <td>None</td>\n      <td>150</td>\n      <td>PENDING</td>\n      <td>1</td>\n    </tr>\n    <tr>\n      <th>1</th>\n      <td>R1-A5</td>\n      <td>R1-B10</td>\n      <td>NMP</td>\n      <td>None</td>\n      <td>20</td>\n      <td>PENDING</td>\n      <td>1</td>\n    </tr>\n    <tr>\n      <th>2</th>\n      <td>R1-A3</td>\n      <td>R1-B12 (D)</td>\n      <td>1,4-dioxane</td>\n      <td>None</td>\n      <td>150</td>\n      <td>PENDING</td>\n      <td>1</td>\n    </tr>\n    <tr>\n      <th>3</th>\n      <td>R1-A6</td>\n      <td>R1-B6</td>\n      <td>1,4-dioxane</td>\n      <td>NaOtBu</td>\n      <td>150</td>\n      <td>PENDING</td>\n      <td>1</td>\n    </tr>\n    <tr>\n      <th>4</th>\n      <td>R1-A7</td>\n      <td>R1-B6</td>\n      <td>NMP</td>\n      <td>DIPEA</td>\n      <td>20</td>\n      <td>PENDING</td>\n      <td>1</td>\n    </tr>\n  </tbody>\n</table>\n</div>"
     },
     "execution_count": 55,
     "metadata": {},
     "output_type": "execute_result"
    }
   ],
   "source": [
    "df_edbo = pd.read_csv('OHE_SNAr_optimization.csv')\n",
    "df_edbo.head(5)"
   ]
  },
  {
   "cell_type": "markdown",
   "id": "4cc9f2f2-d6d9-461c-9a57-b371d844c4a9",
   "metadata": {},
   "source": [
    "##### We can fill the entries with the round 1 data from figure_S2 in paper:"
   ]
  },
  {
   "cell_type": "code",
   "execution_count": 52,
   "id": "602cda82-992f-4e72-bf1b-4718506adb21",
   "metadata": {
    "ExecuteTime": {
     "end_time": "2023-09-22T08:39:42.005071Z",
     "start_time": "2023-09-22T08:39:41.882374Z"
    }
   },
   "outputs": [],
   "source": [
    "exp = pd.read_csv('figure_S2_tidy.csv')\n",
    "df_edbo = df_edbo.merge(exp[['A', 'B', 'solvent', 'base', 'T', 'peak_height']], on=['A', 'B', 'solvent', 'base', 'T'], how='left', suffixes=['', '_observed'])\n",
    "df_edbo = df_edbo.drop('peak_height', axis=1).rename(columns={'peak_height_observed': 'peak_height'})\n",
    "df_edbo = df_edbo.fillna('PENDING')"
   ]
  },
  {
   "cell_type": "markdown",
   "id": "28dc773b-74fe-4415-848b-e3cb0c54fc7c",
   "metadata": {},
   "source": [
    "##### We can check that we have filled out the first entry with our \"observed data\":"
   ]
  },
  {
   "cell_type": "code",
   "execution_count": 53,
   "id": "7fb2a36d-17f4-4579-aa8f-4dd42647398c",
   "metadata": {
    "ExecuteTime": {
     "end_time": "2023-09-22T08:39:43.393772Z",
     "start_time": "2023-09-22T08:39:43.274211Z"
    }
   },
   "outputs": [
    {
     "data": {
      "text/plain": "          A      B      solvent    base    T  priority  peak_height\n0     R1-A6  R1-B3          NMP    None  150         1         34.8\n1     R1-A8  R1-B2  1,4-dioxane    None   20         1        319.7\n2     R1-A7  R1-B8          NMP  NaOtBu   20         1        211.1\n3     R1-A1  R1-B1          NMP   DIPEA   20         0         31.7\n4     R1-A6  R1-B3  1,4-dioxane  NaOtBu   20         0         70.1\n...     ...    ...          ...     ...  ...       ...          ...\n1019  R1-A3  R1-B6  1,4-dioxane     TEA   20         0        107.6\n1020  R1-A3  R1-B6  1,4-dioxane     TEA  150         0        571.2\n1021  R1-A3  R1-B6  1,4-dioxane  NaOtBu   20         0         29.0\n1022  R1-A3  R1-B6  1,4-dioxane  NaOtBu  150         0         21.4\n1023  R1-A8  R1-B8  1,4-dioxane    None  150         0        147.3\n\n[1024 rows x 7 columns]",
      "text/html": "<div>\n<style scoped>\n    .dataframe tbody tr th:only-of-type {\n        vertical-align: middle;\n    }\n\n    .dataframe tbody tr th {\n        vertical-align: top;\n    }\n\n    .dataframe thead th {\n        text-align: right;\n    }\n</style>\n<table border=\"1\" class=\"dataframe\">\n  <thead>\n    <tr style=\"text-align: right;\">\n      <th></th>\n      <th>A</th>\n      <th>B</th>\n      <th>solvent</th>\n      <th>base</th>\n      <th>T</th>\n      <th>priority</th>\n      <th>peak_height</th>\n    </tr>\n  </thead>\n  <tbody>\n    <tr>\n      <th>0</th>\n      <td>R1-A6</td>\n      <td>R1-B3</td>\n      <td>NMP</td>\n      <td>None</td>\n      <td>150</td>\n      <td>1</td>\n      <td>34.8</td>\n    </tr>\n    <tr>\n      <th>1</th>\n      <td>R1-A8</td>\n      <td>R1-B2</td>\n      <td>1,4-dioxane</td>\n      <td>None</td>\n      <td>20</td>\n      <td>1</td>\n      <td>319.7</td>\n    </tr>\n    <tr>\n      <th>2</th>\n      <td>R1-A7</td>\n      <td>R1-B8</td>\n      <td>NMP</td>\n      <td>NaOtBu</td>\n      <td>20</td>\n      <td>1</td>\n      <td>211.1</td>\n    </tr>\n    <tr>\n      <th>3</th>\n      <td>R1-A1</td>\n      <td>R1-B1</td>\n      <td>NMP</td>\n      <td>DIPEA</td>\n      <td>20</td>\n      <td>0</td>\n      <td>31.7</td>\n    </tr>\n    <tr>\n      <th>4</th>\n      <td>R1-A6</td>\n      <td>R1-B3</td>\n      <td>1,4-dioxane</td>\n      <td>NaOtBu</td>\n      <td>20</td>\n      <td>0</td>\n      <td>70.1</td>\n    </tr>\n    <tr>\n      <th>...</th>\n      <td>...</td>\n      <td>...</td>\n      <td>...</td>\n      <td>...</td>\n      <td>...</td>\n      <td>...</td>\n      <td>...</td>\n    </tr>\n    <tr>\n      <th>1019</th>\n      <td>R1-A3</td>\n      <td>R1-B6</td>\n      <td>1,4-dioxane</td>\n      <td>TEA</td>\n      <td>20</td>\n      <td>0</td>\n      <td>107.6</td>\n    </tr>\n    <tr>\n      <th>1020</th>\n      <td>R1-A3</td>\n      <td>R1-B6</td>\n      <td>1,4-dioxane</td>\n      <td>TEA</td>\n      <td>150</td>\n      <td>0</td>\n      <td>571.2</td>\n    </tr>\n    <tr>\n      <th>1021</th>\n      <td>R1-A3</td>\n      <td>R1-B6</td>\n      <td>1,4-dioxane</td>\n      <td>NaOtBu</td>\n      <td>20</td>\n      <td>0</td>\n      <td>29.0</td>\n    </tr>\n    <tr>\n      <th>1022</th>\n      <td>R1-A3</td>\n      <td>R1-B6</td>\n      <td>1,4-dioxane</td>\n      <td>NaOtBu</td>\n      <td>150</td>\n      <td>0</td>\n      <td>21.4</td>\n    </tr>\n    <tr>\n      <th>1023</th>\n      <td>R1-A8</td>\n      <td>R1-B8</td>\n      <td>1,4-dioxane</td>\n      <td>None</td>\n      <td>150</td>\n      <td>0</td>\n      <td>147.3</td>\n    </tr>\n  </tbody>\n</table>\n<p>1024 rows × 7 columns</p>\n</div>"
     },
     "execution_count": 53,
     "metadata": {},
     "output_type": "execute_result"
    }
   ],
   "source": [
    "df_edbo"
   ]
  },
  {
   "cell_type": "code",
   "execution_count": 54,
   "id": "4affb64c-0111-44d9-ac3e-c5f194f1c955",
   "metadata": {
    "ExecuteTime": {
     "end_time": "2023-09-22T08:39:51.913025Z",
     "start_time": "2023-09-22T08:39:51.785327Z"
    }
   },
   "outputs": [],
   "source": [
    "df_edbo.to_csv('SNAr_optimization_round0.csv', index=False)"
   ]
  },
  {
   "cell_type": "markdown",
   "id": "4772394c-ddb2-4916-9156-893f066901ea",
   "metadata": {},
   "source": [
    "## 4. Running EDBO+ with training data."
   ]
  },
  {
   "cell_type": "markdown",
   "id": "870f1554-5931-4bd2-8a77-fec44d9d9445",
   "metadata": {},
   "source": [
    "##### First let's check our previous data (which include some $\\bf{yield}$, $\\bf{ee}$ and $\\bf{side\\_product}$ observations, which will be used to train the model):"
   ]
  },
  {
   "cell_type": "code",
   "execution_count": 55,
   "id": "33f82683-fa41-47ca-833a-63d1a4d388e7",
   "metadata": {
    "ExecuteTime": {
     "end_time": "2023-09-22T08:39:57.634223Z",
     "start_time": "2023-09-22T08:39:57.495702Z"
    }
   },
   "outputs": [
    {
     "data": {
      "text/plain": "       A      B      solvent    base    T  priority  peak_height\n0  R1-A6  R1-B3          NMP    None  150         1         34.8\n1  R1-A8  R1-B2  1,4-dioxane    None   20         1        319.7\n2  R1-A7  R1-B8          NMP  NaOtBu   20         1        211.1\n3  R1-A1  R1-B1          NMP   DIPEA   20         0         31.7\n4  R1-A6  R1-B3  1,4-dioxane  NaOtBu   20         0         70.1",
      "text/html": "<div>\n<style scoped>\n    .dataframe tbody tr th:only-of-type {\n        vertical-align: middle;\n    }\n\n    .dataframe tbody tr th {\n        vertical-align: top;\n    }\n\n    .dataframe thead th {\n        text-align: right;\n    }\n</style>\n<table border=\"1\" class=\"dataframe\">\n  <thead>\n    <tr style=\"text-align: right;\">\n      <th></th>\n      <th>A</th>\n      <th>B</th>\n      <th>solvent</th>\n      <th>base</th>\n      <th>T</th>\n      <th>priority</th>\n      <th>peak_height</th>\n    </tr>\n  </thead>\n  <tbody>\n    <tr>\n      <th>0</th>\n      <td>R1-A6</td>\n      <td>R1-B3</td>\n      <td>NMP</td>\n      <td>None</td>\n      <td>150</td>\n      <td>1</td>\n      <td>34.8</td>\n    </tr>\n    <tr>\n      <th>1</th>\n      <td>R1-A8</td>\n      <td>R1-B2</td>\n      <td>1,4-dioxane</td>\n      <td>None</td>\n      <td>20</td>\n      <td>1</td>\n      <td>319.7</td>\n    </tr>\n    <tr>\n      <th>2</th>\n      <td>R1-A7</td>\n      <td>R1-B8</td>\n      <td>NMP</td>\n      <td>NaOtBu</td>\n      <td>20</td>\n      <td>1</td>\n      <td>211.1</td>\n    </tr>\n    <tr>\n      <th>3</th>\n      <td>R1-A1</td>\n      <td>R1-B1</td>\n      <td>NMP</td>\n      <td>DIPEA</td>\n      <td>20</td>\n      <td>0</td>\n      <td>31.7</td>\n    </tr>\n    <tr>\n      <th>4</th>\n      <td>R1-A6</td>\n      <td>R1-B3</td>\n      <td>1,4-dioxane</td>\n      <td>NaOtBu</td>\n      <td>20</td>\n      <td>0</td>\n      <td>70.1</td>\n    </tr>\n  </tbody>\n</table>\n</div>"
     },
     "execution_count": 55,
     "metadata": {},
     "output_type": "execute_result"
    }
   ],
   "source": [
    "df_edbo_round0 = pd.read_csv('SNAr_optimization_round0.csv')\n",
    "df_edbo_round0.head(5)"
   ]
  },
  {
   "cell_type": "markdown",
   "id": "6f8aaa91-6c50-49ea-8453-4045a2e1151c",
   "metadata": {},
   "source": [
    "##### Now that we have introduced some \"observations\" in our $\\bf{my\\_optimization\\_round0.csv}$ file, we can execute EDBO+ to suggest samples using these \"observations\" as training data."
   ]
  },
  {
   "cell_type": "code",
   "execution_count": 34,
   "id": "63eef16a-9f45-4956-adcb-07093b482a69",
   "metadata": {
    "ExecuteTime": {
     "end_time": "2023-09-21T16:32:49.866761Z",
     "start_time": "2023-09-21T16:31:58.353194Z"
    }
   },
   "outputs": [
    {
     "name": "stdout",
     "output_type": "stream",
     "text": [
      "The following columns are categorical and will be encoded using One-Hot-Encoding: ['A', 'B', 'solvent', 'base']\n",
      "Using EHVI acquisition function.\n",
      "Using hyperparameters optimized for continuous variables.\n",
      "Number of QMC samples using SobolQMCNormalSampler sampler: 128\n",
      "Acquisition function optimized.\n",
      "Predictions obtained and expected improvement obtained.\n"
     ]
    },
    {
     "data": {
      "text/plain": "          A      B      solvent    base    T  time  priority peak_height\n2714  R1-A7  R1-B7          NMP    None  200    15       1.0     PENDING\n2739  R1-A7  R1-B7          NMP   DIPEA  200    15       1.0     PENDING\n2749  R1-A7  R1-B7          NMP   DIPEA  200     4       1.0     PENDING\n2088  R1-A8  R1-B8          NMP     TEA  200    15       0.0     PENDING\n2068  R1-A8  R1-B8          NMP     TEA  200     4       0.0     PENDING\n...     ...    ...          ...     ...  ...   ...       ...         ...\n4058  R1-A1  R1-B1  1,4-dioxane    None   20     0      -1.0        30.0\n4073  R1-A1  R1-B1  1,4-dioxane  NaOtBu  150    15      -1.0        34.2\n4056  R1-A1  R1-B1  1,4-dioxane  NaOtBu   20     0      -1.0        86.5\n4049  R1-A1  R1-B1  1,4-dioxane   DIPEA  150    15      -1.0       192.9\n4057  R1-A1  R1-B1  1,4-dioxane   DIPEA   20     0      -1.0        34.1\n\n[6144 rows x 8 columns]",
      "text/html": "<div>\n<style scoped>\n    .dataframe tbody tr th:only-of-type {\n        vertical-align: middle;\n    }\n\n    .dataframe tbody tr th {\n        vertical-align: top;\n    }\n\n    .dataframe thead th {\n        text-align: right;\n    }\n</style>\n<table border=\"1\" class=\"dataframe\">\n  <thead>\n    <tr style=\"text-align: right;\">\n      <th></th>\n      <th>A</th>\n      <th>B</th>\n      <th>solvent</th>\n      <th>base</th>\n      <th>T</th>\n      <th>time</th>\n      <th>priority</th>\n      <th>peak_height</th>\n    </tr>\n  </thead>\n  <tbody>\n    <tr>\n      <th>2714</th>\n      <td>R1-A7</td>\n      <td>R1-B7</td>\n      <td>NMP</td>\n      <td>None</td>\n      <td>200</td>\n      <td>15</td>\n      <td>1.0</td>\n      <td>PENDING</td>\n    </tr>\n    <tr>\n      <th>2739</th>\n      <td>R1-A7</td>\n      <td>R1-B7</td>\n      <td>NMP</td>\n      <td>DIPEA</td>\n      <td>200</td>\n      <td>15</td>\n      <td>1.0</td>\n      <td>PENDING</td>\n    </tr>\n    <tr>\n      <th>2749</th>\n      <td>R1-A7</td>\n      <td>R1-B7</td>\n      <td>NMP</td>\n      <td>DIPEA</td>\n      <td>200</td>\n      <td>4</td>\n      <td>1.0</td>\n      <td>PENDING</td>\n    </tr>\n    <tr>\n      <th>2088</th>\n      <td>R1-A8</td>\n      <td>R1-B8</td>\n      <td>NMP</td>\n      <td>TEA</td>\n      <td>200</td>\n      <td>15</td>\n      <td>0.0</td>\n      <td>PENDING</td>\n    </tr>\n    <tr>\n      <th>2068</th>\n      <td>R1-A8</td>\n      <td>R1-B8</td>\n      <td>NMP</td>\n      <td>TEA</td>\n      <td>200</td>\n      <td>4</td>\n      <td>0.0</td>\n      <td>PENDING</td>\n    </tr>\n    <tr>\n      <th>...</th>\n      <td>...</td>\n      <td>...</td>\n      <td>...</td>\n      <td>...</td>\n      <td>...</td>\n      <td>...</td>\n      <td>...</td>\n      <td>...</td>\n    </tr>\n    <tr>\n      <th>4058</th>\n      <td>R1-A1</td>\n      <td>R1-B1</td>\n      <td>1,4-dioxane</td>\n      <td>None</td>\n      <td>20</td>\n      <td>0</td>\n      <td>-1.0</td>\n      <td>30.0</td>\n    </tr>\n    <tr>\n      <th>4073</th>\n      <td>R1-A1</td>\n      <td>R1-B1</td>\n      <td>1,4-dioxane</td>\n      <td>NaOtBu</td>\n      <td>150</td>\n      <td>15</td>\n      <td>-1.0</td>\n      <td>34.2</td>\n    </tr>\n    <tr>\n      <th>4056</th>\n      <td>R1-A1</td>\n      <td>R1-B1</td>\n      <td>1,4-dioxane</td>\n      <td>NaOtBu</td>\n      <td>20</td>\n      <td>0</td>\n      <td>-1.0</td>\n      <td>86.5</td>\n    </tr>\n    <tr>\n      <th>4049</th>\n      <td>R1-A1</td>\n      <td>R1-B1</td>\n      <td>1,4-dioxane</td>\n      <td>DIPEA</td>\n      <td>150</td>\n      <td>15</td>\n      <td>-1.0</td>\n      <td>192.9</td>\n    </tr>\n    <tr>\n      <th>4057</th>\n      <td>R1-A1</td>\n      <td>R1-B1</td>\n      <td>1,4-dioxane</td>\n      <td>DIPEA</td>\n      <td>20</td>\n      <td>0</td>\n      <td>-1.0</td>\n      <td>34.1</td>\n    </tr>\n  </tbody>\n</table>\n<p>6144 rows × 8 columns</p>\n</div>"
     },
     "execution_count": 34,
     "metadata": {},
     "output_type": "execute_result"
    }
   ],
   "source": [
    "EDBOplus().run(\n",
    "    filename='SNAr_optimization_round0.csv',  # Previously generated scope (including observations).\n",
    "    objectives=['peak_height'],  # Objectives to be optimized.\n",
    "    objective_mode=['max'],  # Maximize yield and ee but minimize side_product.\n",
    "    batch=3,  # Number of experiments in parallel that we want to perform in this round.\n",
    "    columns_features='all', # features to be included in the model.\n",
    "    init_sampling_method='cvtsampling'  # initialization method.\n",
    ")"
   ]
  },
  {
   "cell_type": "markdown",
   "id": "7dace76f-c575-46c8-a452-e5fa36c2388d",
   "metadata": {},
   "source": [
    "##### Again the samples suggested by EDBO+ have $\\bf{priority = +1}$. In addition, we asign $\\bf{priority = -1}$ to the experiments that we have already run (these are at the bottom of the dataset)."
   ]
  },
  {
   "cell_type": "markdown",
   "id": "921e38de-97af-4ae1-b060-44948c528e54",
   "metadata": {},
   "source": [
    "## Extra: Accessing the model predictions."
   ]
  },
  {
   "cell_type": "markdown",
   "id": "e568ca96-31b4-4c51-acd8-7e0d1758e05f",
   "metadata": {},
   "source": [
    "##### Each time that EDBO+ is executed with training data it will generate a .csv file with the predictions for the entire scope (including the 'untested' samples).\n",
    "##### In the previous example, by running EDBO+ with training data, we generated two files: $\\bf{my\\_optimization\\_round0.csv}$ and a second file with the predictions $\\bf{pred\\_my\\_optimization\\_round0.csv}$.\n",
    "##### Let's have a look to the predictions file using Pandas:"
   ]
  },
  {
   "cell_type": "code",
   "execution_count": 45,
   "id": "e1a1f111-5b69-4ec1-b683-142adb2f3f90",
   "metadata": {
    "ExecuteTime": {
     "end_time": "2023-09-21T13:59:25.319303Z",
     "start_time": "2023-09-21T13:59:24.771127Z"
    }
   },
   "outputs": [
    {
     "data": {
      "text/plain": "    solvent   T  concentration    yield       ee side_product  priority  \\\n0   Toluene  25            0.1  PENDING  PENDING      PENDING       1.0   \n1   Toluene   0            0.1  PENDING  PENDING      PENDING       1.0   \n2      DMSO -10            1.0  PENDING  PENDING      PENDING       1.0   \n3   Toluene  25            1.0  PENDING  PENDING      PENDING       0.0   \n4   Toluene  25            0.2  PENDING  PENDING      PENDING       0.0   \n5   Toluene  10            1.0  PENDING  PENDING      PENDING       0.0   \n6   Toluene  10            0.2  PENDING  PENDING      PENDING       0.0   \n7   Toluene  10            0.1  PENDING  PENDING      PENDING       0.0   \n8   Toluene   0            1.0  PENDING  PENDING      PENDING       0.0   \n9   Toluene   0            0.2  PENDING  PENDING      PENDING       0.0   \n10  Toluene -10            1.0  PENDING  PENDING      PENDING       0.0   \n11  Toluene -10            0.2  PENDING  PENDING      PENDING       0.0   \n12  Toluene -10            0.1  PENDING  PENDING      PENDING       0.0   \n13      THF  25            1.0  PENDING  PENDING      PENDING       0.0   \n14      THF  25            0.2  PENDING  PENDING      PENDING       0.0   \n15      THF  25            0.1  PENDING  PENDING      PENDING       0.0   \n16      THF  10            0.2  PENDING  PENDING      PENDING       0.0   \n17      THF  10            0.1  PENDING  PENDING      PENDING       0.0   \n18      THF   0            1.0  PENDING  PENDING      PENDING       0.0   \n19      THF   0            0.2  PENDING  PENDING      PENDING       0.0   \n20      THF   0            0.1  PENDING  PENDING      PENDING       0.0   \n21      THF -10            1.0  PENDING  PENDING      PENDING       0.0   \n22      THF -10            0.2  PENDING  PENDING      PENDING       0.0   \n23      THF -10            0.1  PENDING  PENDING      PENDING       0.0   \n24     DMSO  25            1.0  PENDING  PENDING      PENDING       0.0   \n25     DMSO  25            0.2  PENDING  PENDING      PENDING       0.0   \n26     DMSO  25            0.1  PENDING  PENDING      PENDING       0.0   \n27     DMSO  10            0.2  PENDING  PENDING      PENDING       0.0   \n28     DMSO  10            0.1  PENDING  PENDING      PENDING       0.0   \n29     DMSO   0            1.0  PENDING  PENDING      PENDING       0.0   \n30     DMSO   0            0.2  PENDING  PENDING      PENDING       0.0   \n31     DMSO   0            0.1  PENDING  PENDING      PENDING       0.0   \n32     DMSO -10            0.2  PENDING  PENDING      PENDING       0.0   \n33     DMSO -10            0.1  PENDING  PENDING      PENDING       0.0   \n34      THF  10            1.0     50.3       10          0.2      -1.0   \n35     DMSO  10            1.0     20.5       40          0.1      -1.0   \n\n    yield_predicted_mean  yield_predicted_variance  \\\n0              35.389211                106.283951   \n1              35.329193                104.724311   \n2              35.398475                106.347990   \n3              35.389097                106.282733   \n4              35.389187                106.283698   \n5              34.341670                 23.938856   \n6              34.383269                 27.152537   \n7              34.393614                 27.974466   \n8              35.328145                104.684494   \n9              35.328975                104.716042   \n10             35.398490                106.348026   \n11             35.398500                106.348049   \n12             35.398502                106.348056   \n13             35.411045                106.281195   \n14             35.410954                106.282183   \n15             35.410930                106.282443   \n16             36.483954                 22.042096   \n17             36.471623                 22.946221   \n18             35.473174                104.633840   \n19             35.472326                104.666452   \n20             35.472103                104.674998   \n21             35.401525                106.347990   \n22             35.401515                106.348013   \n23             35.401513                106.348019   \n24             35.388955                106.281195   \n25             35.389046                106.282183   \n26             35.389070                106.282443   \n27             34.316046                 22.042096   \n28             34.328377                 22.946221   \n29             35.326826                104.633840   \n30             35.327674                104.666452   \n31             35.327897                104.674998   \n32             35.398485                106.348013   \n33             35.398487                106.348019   \n34             36.535251                 18.491660   \n35             34.264749                 18.491660   \n\n    yield_expected_improvement  ee_predicted_mean  ee_predicted_variance  \\\n0                    77.555477          25.010862             106.997267   \n1                    76.285865          25.071282             105.427159   \n2                    77.610820          25.001535             107.061735   \n3                    77.554453          25.010976             106.996040   \n4                    77.555264          25.010886             106.997011   \n5                    12.172579          26.065433              24.099519   \n6                    14.630186          26.023555              27.334769   \n7                    15.263226          26.013140              28.162214   \n8                    76.253682          25.072337             105.387074   \n9                    76.279182          25.071502             105.418835   \n10                   77.610856          25.001520             107.061771   \n11                   77.610879          25.001510             107.061795   \n12                   77.610885          25.001508             107.061801   \n13                   77.563590          24.988881             106.994491   \n14                   77.564334          24.988973             106.995487   \n15                   77.564529          24.988997             106.995748   \n16                   11.535728          23.908771              22.190029   \n17                   12.219169          23.921185              23.100222   \n18                   76.281768          24.926334             105.336080   \n19                   76.307324          24.927188             105.368911   \n20                   76.314020          24.927413             105.377515   \n21                   77.612260          24.998465             107.061735   \n22                   77.612274          24.998475             107.061758   \n23                   77.612278          24.998477             107.061765   \n24                   77.553162          25.011119             106.994491   \n25                   77.553992          25.011027             106.995487   \n26                   77.554210          25.011003             106.995748   \n27                   10.738592          26.091229              22.190029   \n28                   11.420326          26.078815              23.100222   \n29                   76.212747          25.073666             105.336080   \n30                   76.239101          25.072812             105.368911   \n31                   76.246008          25.072587             105.377515   \n32                   77.610843          25.001525             107.061758   \n33                   77.610850          25.001523             107.061765   \n34                    8.882106          23.857130              18.615765   \n35                    8.102098          26.142870              18.615765   \n\n    ee_expected_improvement  side_product_predicted_mean  \\\n0                 78.086238                     0.149964   \n1                 76.865090                     0.149762   \n2                 78.133148                     0.149995   \n3                 78.085316                     0.149963   \n4                 78.086046                     0.149964   \n5                 13.059380                     0.146449   \n6                 15.530646                     0.146588   \n7                 16.166053                     0.146623   \n8                 76.833685                     0.149759   \n9                 76.858569                     0.149762   \n10                78.133170                     0.149995   \n11                78.133184                     0.149995   \n12                78.133187                     0.149995   \n13                78.073653                     0.150037   \n14                78.074489                     0.150037   \n15                78.074709                     0.150037   \n16                10.810663                     0.153637   \n17                11.496972                     0.153596   \n18                76.724242                     0.150246   \n19                76.750773                     0.150243   \n20                76.757727                     0.150242   \n21                78.131698                     0.150005   \n22                78.131722                     0.150005   \n23                78.131728                     0.150005   \n24                78.084151                     0.149963   \n25                78.084900                     0.149963   \n26                78.085097                     0.149963   \n27                11.613149                     0.146363   \n28                12.301176                     0.146404   \n29                76.793727                     0.149754   \n30                76.819453                     0.149757   \n31                76.826195                     0.149758   \n32                78.133162                     0.149995   \n33                78.133166                     0.149995   \n34                 8.156474                     0.153810   \n35                 8.941717                     0.146190   \n\n    side_product_predicted_variance  side_product_expected_improvement  \n0                          0.356658                           0.426849  \n1                          0.351424                           0.422797  \n2                          0.356872                           0.427030  \n3                          0.356653                           0.426846  \n4                          0.356657                           0.426849  \n5                          0.080332                           0.250805  \n6                          0.091116                           0.253990  \n7                          0.093874                           0.254927  \n8                          0.351290                           0.422695  \n9                          0.351396                           0.422776  \n10                         0.356873                           0.427030  \n11                         0.356873                           0.427030  \n12                         0.356873                           0.427031  \n13                         0.356648                           0.426889  \n14                         0.356652                           0.426891  \n15                         0.356652                           0.426892  \n16                         0.073967                           0.256248  \n17                         0.077001                           0.256799  \n18                         0.351120                           0.422878  \n19                         0.351230                           0.422958  \n20                         0.351258                           0.422979  \n21                         0.356872                           0.427037  \n22                         0.356873                           0.427037  \n23                         0.356873                           0.427037  \n24                         0.356648                           0.426842  \n25                         0.356652                           0.426844  \n26                         0.356652                           0.426845  \n27                         0.073967                           0.249305  \n28                         0.077001                           0.249983  \n29                         0.351120                           0.422564  \n30                         0.351230                           0.422648  \n31                         0.351258                           0.422670  \n32                         0.356873                           0.427030  \n33                         0.356873                           0.427030  \n34                         0.062053                           0.254743  \n35                         0.062053                           0.247291  ",
      "text/html": "<div>\n<style scoped>\n    .dataframe tbody tr th:only-of-type {\n        vertical-align: middle;\n    }\n\n    .dataframe tbody tr th {\n        vertical-align: top;\n    }\n\n    .dataframe thead th {\n        text-align: right;\n    }\n</style>\n<table border=\"1\" class=\"dataframe\">\n  <thead>\n    <tr style=\"text-align: right;\">\n      <th></th>\n      <th>solvent</th>\n      <th>T</th>\n      <th>concentration</th>\n      <th>yield</th>\n      <th>ee</th>\n      <th>side_product</th>\n      <th>priority</th>\n      <th>yield_predicted_mean</th>\n      <th>yield_predicted_variance</th>\n      <th>yield_expected_improvement</th>\n      <th>ee_predicted_mean</th>\n      <th>ee_predicted_variance</th>\n      <th>ee_expected_improvement</th>\n      <th>side_product_predicted_mean</th>\n      <th>side_product_predicted_variance</th>\n      <th>side_product_expected_improvement</th>\n    </tr>\n  </thead>\n  <tbody>\n    <tr>\n      <th>0</th>\n      <td>Toluene</td>\n      <td>25</td>\n      <td>0.1</td>\n      <td>PENDING</td>\n      <td>PENDING</td>\n      <td>PENDING</td>\n      <td>1.0</td>\n      <td>35.389211</td>\n      <td>106.283951</td>\n      <td>77.555477</td>\n      <td>25.010862</td>\n      <td>106.997267</td>\n      <td>78.086238</td>\n      <td>0.149964</td>\n      <td>0.356658</td>\n      <td>0.426849</td>\n    </tr>\n    <tr>\n      <th>1</th>\n      <td>Toluene</td>\n      <td>0</td>\n      <td>0.1</td>\n      <td>PENDING</td>\n      <td>PENDING</td>\n      <td>PENDING</td>\n      <td>1.0</td>\n      <td>35.329193</td>\n      <td>104.724311</td>\n      <td>76.285865</td>\n      <td>25.071282</td>\n      <td>105.427159</td>\n      <td>76.865090</td>\n      <td>0.149762</td>\n      <td>0.351424</td>\n      <td>0.422797</td>\n    </tr>\n    <tr>\n      <th>2</th>\n      <td>DMSO</td>\n      <td>-10</td>\n      <td>1.0</td>\n      <td>PENDING</td>\n      <td>PENDING</td>\n      <td>PENDING</td>\n      <td>1.0</td>\n      <td>35.398475</td>\n      <td>106.347990</td>\n      <td>77.610820</td>\n      <td>25.001535</td>\n      <td>107.061735</td>\n      <td>78.133148</td>\n      <td>0.149995</td>\n      <td>0.356872</td>\n      <td>0.427030</td>\n    </tr>\n    <tr>\n      <th>3</th>\n      <td>Toluene</td>\n      <td>25</td>\n      <td>1.0</td>\n      <td>PENDING</td>\n      <td>PENDING</td>\n      <td>PENDING</td>\n      <td>0.0</td>\n      <td>35.389097</td>\n      <td>106.282733</td>\n      <td>77.554453</td>\n      <td>25.010976</td>\n      <td>106.996040</td>\n      <td>78.085316</td>\n      <td>0.149963</td>\n      <td>0.356653</td>\n      <td>0.426846</td>\n    </tr>\n    <tr>\n      <th>4</th>\n      <td>Toluene</td>\n      <td>25</td>\n      <td>0.2</td>\n      <td>PENDING</td>\n      <td>PENDING</td>\n      <td>PENDING</td>\n      <td>0.0</td>\n      <td>35.389187</td>\n      <td>106.283698</td>\n      <td>77.555264</td>\n      <td>25.010886</td>\n      <td>106.997011</td>\n      <td>78.086046</td>\n      <td>0.149964</td>\n      <td>0.356657</td>\n      <td>0.426849</td>\n    </tr>\n    <tr>\n      <th>5</th>\n      <td>Toluene</td>\n      <td>10</td>\n      <td>1.0</td>\n      <td>PENDING</td>\n      <td>PENDING</td>\n      <td>PENDING</td>\n      <td>0.0</td>\n      <td>34.341670</td>\n      <td>23.938856</td>\n      <td>12.172579</td>\n      <td>26.065433</td>\n      <td>24.099519</td>\n      <td>13.059380</td>\n      <td>0.146449</td>\n      <td>0.080332</td>\n      <td>0.250805</td>\n    </tr>\n    <tr>\n      <th>6</th>\n      <td>Toluene</td>\n      <td>10</td>\n      <td>0.2</td>\n      <td>PENDING</td>\n      <td>PENDING</td>\n      <td>PENDING</td>\n      <td>0.0</td>\n      <td>34.383269</td>\n      <td>27.152537</td>\n      <td>14.630186</td>\n      <td>26.023555</td>\n      <td>27.334769</td>\n      <td>15.530646</td>\n      <td>0.146588</td>\n      <td>0.091116</td>\n      <td>0.253990</td>\n    </tr>\n    <tr>\n      <th>7</th>\n      <td>Toluene</td>\n      <td>10</td>\n      <td>0.1</td>\n      <td>PENDING</td>\n      <td>PENDING</td>\n      <td>PENDING</td>\n      <td>0.0</td>\n      <td>34.393614</td>\n      <td>27.974466</td>\n      <td>15.263226</td>\n      <td>26.013140</td>\n      <td>28.162214</td>\n      <td>16.166053</td>\n      <td>0.146623</td>\n      <td>0.093874</td>\n      <td>0.254927</td>\n    </tr>\n    <tr>\n      <th>8</th>\n      <td>Toluene</td>\n      <td>0</td>\n      <td>1.0</td>\n      <td>PENDING</td>\n      <td>PENDING</td>\n      <td>PENDING</td>\n      <td>0.0</td>\n      <td>35.328145</td>\n      <td>104.684494</td>\n      <td>76.253682</td>\n      <td>25.072337</td>\n      <td>105.387074</td>\n      <td>76.833685</td>\n      <td>0.149759</td>\n      <td>0.351290</td>\n      <td>0.422695</td>\n    </tr>\n    <tr>\n      <th>9</th>\n      <td>Toluene</td>\n      <td>0</td>\n      <td>0.2</td>\n      <td>PENDING</td>\n      <td>PENDING</td>\n      <td>PENDING</td>\n      <td>0.0</td>\n      <td>35.328975</td>\n      <td>104.716042</td>\n      <td>76.279182</td>\n      <td>25.071502</td>\n      <td>105.418835</td>\n      <td>76.858569</td>\n      <td>0.149762</td>\n      <td>0.351396</td>\n      <td>0.422776</td>\n    </tr>\n    <tr>\n      <th>10</th>\n      <td>Toluene</td>\n      <td>-10</td>\n      <td>1.0</td>\n      <td>PENDING</td>\n      <td>PENDING</td>\n      <td>PENDING</td>\n      <td>0.0</td>\n      <td>35.398490</td>\n      <td>106.348026</td>\n      <td>77.610856</td>\n      <td>25.001520</td>\n      <td>107.061771</td>\n      <td>78.133170</td>\n      <td>0.149995</td>\n      <td>0.356873</td>\n      <td>0.427030</td>\n    </tr>\n    <tr>\n      <th>11</th>\n      <td>Toluene</td>\n      <td>-10</td>\n      <td>0.2</td>\n      <td>PENDING</td>\n      <td>PENDING</td>\n      <td>PENDING</td>\n      <td>0.0</td>\n      <td>35.398500</td>\n      <td>106.348049</td>\n      <td>77.610879</td>\n      <td>25.001510</td>\n      <td>107.061795</td>\n      <td>78.133184</td>\n      <td>0.149995</td>\n      <td>0.356873</td>\n      <td>0.427030</td>\n    </tr>\n    <tr>\n      <th>12</th>\n      <td>Toluene</td>\n      <td>-10</td>\n      <td>0.1</td>\n      <td>PENDING</td>\n      <td>PENDING</td>\n      <td>PENDING</td>\n      <td>0.0</td>\n      <td>35.398502</td>\n      <td>106.348056</td>\n      <td>77.610885</td>\n      <td>25.001508</td>\n      <td>107.061801</td>\n      <td>78.133187</td>\n      <td>0.149995</td>\n      <td>0.356873</td>\n      <td>0.427031</td>\n    </tr>\n    <tr>\n      <th>13</th>\n      <td>THF</td>\n      <td>25</td>\n      <td>1.0</td>\n      <td>PENDING</td>\n      <td>PENDING</td>\n      <td>PENDING</td>\n      <td>0.0</td>\n      <td>35.411045</td>\n      <td>106.281195</td>\n      <td>77.563590</td>\n      <td>24.988881</td>\n      <td>106.994491</td>\n      <td>78.073653</td>\n      <td>0.150037</td>\n      <td>0.356648</td>\n      <td>0.426889</td>\n    </tr>\n    <tr>\n      <th>14</th>\n      <td>THF</td>\n      <td>25</td>\n      <td>0.2</td>\n      <td>PENDING</td>\n      <td>PENDING</td>\n      <td>PENDING</td>\n      <td>0.0</td>\n      <td>35.410954</td>\n      <td>106.282183</td>\n      <td>77.564334</td>\n      <td>24.988973</td>\n      <td>106.995487</td>\n      <td>78.074489</td>\n      <td>0.150037</td>\n      <td>0.356652</td>\n      <td>0.426891</td>\n    </tr>\n    <tr>\n      <th>15</th>\n      <td>THF</td>\n      <td>25</td>\n      <td>0.1</td>\n      <td>PENDING</td>\n      <td>PENDING</td>\n      <td>PENDING</td>\n      <td>0.0</td>\n      <td>35.410930</td>\n      <td>106.282443</td>\n      <td>77.564529</td>\n      <td>24.988997</td>\n      <td>106.995748</td>\n      <td>78.074709</td>\n      <td>0.150037</td>\n      <td>0.356652</td>\n      <td>0.426892</td>\n    </tr>\n    <tr>\n      <th>16</th>\n      <td>THF</td>\n      <td>10</td>\n      <td>0.2</td>\n      <td>PENDING</td>\n      <td>PENDING</td>\n      <td>PENDING</td>\n      <td>0.0</td>\n      <td>36.483954</td>\n      <td>22.042096</td>\n      <td>11.535728</td>\n      <td>23.908771</td>\n      <td>22.190029</td>\n      <td>10.810663</td>\n      <td>0.153637</td>\n      <td>0.073967</td>\n      <td>0.256248</td>\n    </tr>\n    <tr>\n      <th>17</th>\n      <td>THF</td>\n      <td>10</td>\n      <td>0.1</td>\n      <td>PENDING</td>\n      <td>PENDING</td>\n      <td>PENDING</td>\n      <td>0.0</td>\n      <td>36.471623</td>\n      <td>22.946221</td>\n      <td>12.219169</td>\n      <td>23.921185</td>\n      <td>23.100222</td>\n      <td>11.496972</td>\n      <td>0.153596</td>\n      <td>0.077001</td>\n      <td>0.256799</td>\n    </tr>\n    <tr>\n      <th>18</th>\n      <td>THF</td>\n      <td>0</td>\n      <td>1.0</td>\n      <td>PENDING</td>\n      <td>PENDING</td>\n      <td>PENDING</td>\n      <td>0.0</td>\n      <td>35.473174</td>\n      <td>104.633840</td>\n      <td>76.281768</td>\n      <td>24.926334</td>\n      <td>105.336080</td>\n      <td>76.724242</td>\n      <td>0.150246</td>\n      <td>0.351120</td>\n      <td>0.422878</td>\n    </tr>\n    <tr>\n      <th>19</th>\n      <td>THF</td>\n      <td>0</td>\n      <td>0.2</td>\n      <td>PENDING</td>\n      <td>PENDING</td>\n      <td>PENDING</td>\n      <td>0.0</td>\n      <td>35.472326</td>\n      <td>104.666452</td>\n      <td>76.307324</td>\n      <td>24.927188</td>\n      <td>105.368911</td>\n      <td>76.750773</td>\n      <td>0.150243</td>\n      <td>0.351230</td>\n      <td>0.422958</td>\n    </tr>\n    <tr>\n      <th>20</th>\n      <td>THF</td>\n      <td>0</td>\n      <td>0.1</td>\n      <td>PENDING</td>\n      <td>PENDING</td>\n      <td>PENDING</td>\n      <td>0.0</td>\n      <td>35.472103</td>\n      <td>104.674998</td>\n      <td>76.314020</td>\n      <td>24.927413</td>\n      <td>105.377515</td>\n      <td>76.757727</td>\n      <td>0.150242</td>\n      <td>0.351258</td>\n      <td>0.422979</td>\n    </tr>\n    <tr>\n      <th>21</th>\n      <td>THF</td>\n      <td>-10</td>\n      <td>1.0</td>\n      <td>PENDING</td>\n      <td>PENDING</td>\n      <td>PENDING</td>\n      <td>0.0</td>\n      <td>35.401525</td>\n      <td>106.347990</td>\n      <td>77.612260</td>\n      <td>24.998465</td>\n      <td>107.061735</td>\n      <td>78.131698</td>\n      <td>0.150005</td>\n      <td>0.356872</td>\n      <td>0.427037</td>\n    </tr>\n    <tr>\n      <th>22</th>\n      <td>THF</td>\n      <td>-10</td>\n      <td>0.2</td>\n      <td>PENDING</td>\n      <td>PENDING</td>\n      <td>PENDING</td>\n      <td>0.0</td>\n      <td>35.401515</td>\n      <td>106.348013</td>\n      <td>77.612274</td>\n      <td>24.998475</td>\n      <td>107.061758</td>\n      <td>78.131722</td>\n      <td>0.150005</td>\n      <td>0.356873</td>\n      <td>0.427037</td>\n    </tr>\n    <tr>\n      <th>23</th>\n      <td>THF</td>\n      <td>-10</td>\n      <td>0.1</td>\n      <td>PENDING</td>\n      <td>PENDING</td>\n      <td>PENDING</td>\n      <td>0.0</td>\n      <td>35.401513</td>\n      <td>106.348019</td>\n      <td>77.612278</td>\n      <td>24.998477</td>\n      <td>107.061765</td>\n      <td>78.131728</td>\n      <td>0.150005</td>\n      <td>0.356873</td>\n      <td>0.427037</td>\n    </tr>\n    <tr>\n      <th>24</th>\n      <td>DMSO</td>\n      <td>25</td>\n      <td>1.0</td>\n      <td>PENDING</td>\n      <td>PENDING</td>\n      <td>PENDING</td>\n      <td>0.0</td>\n      <td>35.388955</td>\n      <td>106.281195</td>\n      <td>77.553162</td>\n      <td>25.011119</td>\n      <td>106.994491</td>\n      <td>78.084151</td>\n      <td>0.149963</td>\n      <td>0.356648</td>\n      <td>0.426842</td>\n    </tr>\n    <tr>\n      <th>25</th>\n      <td>DMSO</td>\n      <td>25</td>\n      <td>0.2</td>\n      <td>PENDING</td>\n      <td>PENDING</td>\n      <td>PENDING</td>\n      <td>0.0</td>\n      <td>35.389046</td>\n      <td>106.282183</td>\n      <td>77.553992</td>\n      <td>25.011027</td>\n      <td>106.995487</td>\n      <td>78.084900</td>\n      <td>0.149963</td>\n      <td>0.356652</td>\n      <td>0.426844</td>\n    </tr>\n    <tr>\n      <th>26</th>\n      <td>DMSO</td>\n      <td>25</td>\n      <td>0.1</td>\n      <td>PENDING</td>\n      <td>PENDING</td>\n      <td>PENDING</td>\n      <td>0.0</td>\n      <td>35.389070</td>\n      <td>106.282443</td>\n      <td>77.554210</td>\n      <td>25.011003</td>\n      <td>106.995748</td>\n      <td>78.085097</td>\n      <td>0.149963</td>\n      <td>0.356652</td>\n      <td>0.426845</td>\n    </tr>\n    <tr>\n      <th>27</th>\n      <td>DMSO</td>\n      <td>10</td>\n      <td>0.2</td>\n      <td>PENDING</td>\n      <td>PENDING</td>\n      <td>PENDING</td>\n      <td>0.0</td>\n      <td>34.316046</td>\n      <td>22.042096</td>\n      <td>10.738592</td>\n      <td>26.091229</td>\n      <td>22.190029</td>\n      <td>11.613149</td>\n      <td>0.146363</td>\n      <td>0.073967</td>\n      <td>0.249305</td>\n    </tr>\n    <tr>\n      <th>28</th>\n      <td>DMSO</td>\n      <td>10</td>\n      <td>0.1</td>\n      <td>PENDING</td>\n      <td>PENDING</td>\n      <td>PENDING</td>\n      <td>0.0</td>\n      <td>34.328377</td>\n      <td>22.946221</td>\n      <td>11.420326</td>\n      <td>26.078815</td>\n      <td>23.100222</td>\n      <td>12.301176</td>\n      <td>0.146404</td>\n      <td>0.077001</td>\n      <td>0.249983</td>\n    </tr>\n    <tr>\n      <th>29</th>\n      <td>DMSO</td>\n      <td>0</td>\n      <td>1.0</td>\n      <td>PENDING</td>\n      <td>PENDING</td>\n      <td>PENDING</td>\n      <td>0.0</td>\n      <td>35.326826</td>\n      <td>104.633840</td>\n      <td>76.212747</td>\n      <td>25.073666</td>\n      <td>105.336080</td>\n      <td>76.793727</td>\n      <td>0.149754</td>\n      <td>0.351120</td>\n      <td>0.422564</td>\n    </tr>\n    <tr>\n      <th>30</th>\n      <td>DMSO</td>\n      <td>0</td>\n      <td>0.2</td>\n      <td>PENDING</td>\n      <td>PENDING</td>\n      <td>PENDING</td>\n      <td>0.0</td>\n      <td>35.327674</td>\n      <td>104.666452</td>\n      <td>76.239101</td>\n      <td>25.072812</td>\n      <td>105.368911</td>\n      <td>76.819453</td>\n      <td>0.149757</td>\n      <td>0.351230</td>\n      <td>0.422648</td>\n    </tr>\n    <tr>\n      <th>31</th>\n      <td>DMSO</td>\n      <td>0</td>\n      <td>0.1</td>\n      <td>PENDING</td>\n      <td>PENDING</td>\n      <td>PENDING</td>\n      <td>0.0</td>\n      <td>35.327897</td>\n      <td>104.674998</td>\n      <td>76.246008</td>\n      <td>25.072587</td>\n      <td>105.377515</td>\n      <td>76.826195</td>\n      <td>0.149758</td>\n      <td>0.351258</td>\n      <td>0.422670</td>\n    </tr>\n    <tr>\n      <th>32</th>\n      <td>DMSO</td>\n      <td>-10</td>\n      <td>0.2</td>\n      <td>PENDING</td>\n      <td>PENDING</td>\n      <td>PENDING</td>\n      <td>0.0</td>\n      <td>35.398485</td>\n      <td>106.348013</td>\n      <td>77.610843</td>\n      <td>25.001525</td>\n      <td>107.061758</td>\n      <td>78.133162</td>\n      <td>0.149995</td>\n      <td>0.356873</td>\n      <td>0.427030</td>\n    </tr>\n    <tr>\n      <th>33</th>\n      <td>DMSO</td>\n      <td>-10</td>\n      <td>0.1</td>\n      <td>PENDING</td>\n      <td>PENDING</td>\n      <td>PENDING</td>\n      <td>0.0</td>\n      <td>35.398487</td>\n      <td>106.348019</td>\n      <td>77.610850</td>\n      <td>25.001523</td>\n      <td>107.061765</td>\n      <td>78.133166</td>\n      <td>0.149995</td>\n      <td>0.356873</td>\n      <td>0.427030</td>\n    </tr>\n    <tr>\n      <th>34</th>\n      <td>THF</td>\n      <td>10</td>\n      <td>1.0</td>\n      <td>50.3</td>\n      <td>10</td>\n      <td>0.2</td>\n      <td>-1.0</td>\n      <td>36.535251</td>\n      <td>18.491660</td>\n      <td>8.882106</td>\n      <td>23.857130</td>\n      <td>18.615765</td>\n      <td>8.156474</td>\n      <td>0.153810</td>\n      <td>0.062053</td>\n      <td>0.254743</td>\n    </tr>\n    <tr>\n      <th>35</th>\n      <td>DMSO</td>\n      <td>10</td>\n      <td>1.0</td>\n      <td>20.5</td>\n      <td>40</td>\n      <td>0.1</td>\n      <td>-1.0</td>\n      <td>34.264749</td>\n      <td>18.491660</td>\n      <td>8.102098</td>\n      <td>26.142870</td>\n      <td>18.615765</td>\n      <td>8.941717</td>\n      <td>0.146190</td>\n      <td>0.062053</td>\n      <td>0.247291</td>\n    </tr>\n  </tbody>\n</table>\n</div>"
     },
     "execution_count": 45,
     "metadata": {},
     "output_type": "execute_result"
    }
   ],
   "source": [
    "df_predictions_round0 = pd.read_csv('pred_my_optimization_round0.csv')\n",
    "df_predictions_round0.style.background_gradient(subset=['priority'], cmap='plasma')\n",
    "df_predictions_round0"
   ]
  },
  {
   "cell_type": "markdown",
   "id": "7f5ce5e6-08ab-425f-abb4-4fe190c78677",
   "metadata": {},
   "source": [
    "##### In the previous dataset we can access the model predictions ($\\bf{predicted\\_mean}$ and $\\bf{predicted\\_variance}$ columns) but also to the expected improvement values (in the $\\bf{expected\\_improvement}$ columns) for each objective ($\\bf{yield}$, $\\bf{ee}$ and $\\bf{side\\_product}$.)."
   ]
  },
  {
   "cell_type": "code",
   "execution_count": 42,
   "id": "3747c6bf-2885-425f-ab4e-dc2889216d04",
   "metadata": {
    "ExecuteTime": {
     "end_time": "2023-09-21T13:56:33.288987Z",
     "start_time": "2023-09-21T13:56:33.281681Z"
    }
   },
   "outputs": [],
   "source": []
  }
 ],
 "metadata": {
  "kernelspec": {
   "display_name": "Python 3.7.5",
   "language": "python",
   "name": "python3"
  },
  "language_info": {
   "codemirror_mode": {
    "name": "ipython",
    "version": 3
   },
   "file_extension": ".py",
   "mimetype": "text/x-python",
   "name": "python",
   "nbconvert_exporter": "python",
   "pygments_lexer": "ipython3",
   "version": "3.7.5"
  },
  "vscode": {
   "interpreter": {
    "hash": "f6b50c482b94d49566f339c9bbaa80fe4f4c53d65f91d29ce8fa084769027490"
   }
  }
 },
 "nbformat": 4,
 "nbformat_minor": 5
}
